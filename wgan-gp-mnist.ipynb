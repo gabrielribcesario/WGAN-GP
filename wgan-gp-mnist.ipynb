{
 "cells": [
  {
   "cell_type": "markdown",
   "id": "11ce2601",
   "metadata": {
    "papermill": {
     "duration": 0.005353,
     "end_time": "2024-05-13T16:22:26.188269",
     "exception": false,
     "start_time": "2024-05-13T16:22:26.182916",
     "status": "completed"
    },
    "tags": []
   },
   "source": [
    "# WGAN-GP\n",
    "https://arxiv.org/abs/1704.00028v3"
   ]
  },
  {
   "cell_type": "code",
   "execution_count": 1,
   "id": "cd3aaeb6",
   "metadata": {
    "execution": {
     "iopub.execute_input": "2024-05-13T16:22:26.200766Z",
     "iopub.status.busy": "2024-05-13T16:22:26.200018Z",
     "iopub.status.idle": "2024-05-13T16:23:10.794153Z",
     "shell.execute_reply": "2024-05-13T16:23:10.793125Z"
    },
    "papermill": {
     "duration": 44.602873,
     "end_time": "2024-05-13T16:23:10.796372",
     "exception": false,
     "start_time": "2024-05-13T16:22:26.193499",
     "status": "completed"
    },
    "tags": []
   },
   "outputs": [
    {
     "name": "stdout",
     "output_type": "stream",
     "text": [
      "\r",
      "0% [Working]"
     ]
    },
    {
     "name": "stdout",
     "output_type": "stream",
     "text": [
      "\r",
      "            \r",
      "Get:1 http://deb.debian.org/debian bookworm InRelease [151 kB]\r\n",
      "\r",
      "0% [1 InRelease 14.4 kB/151 kB 10%]"
     ]
    },
    {
     "name": "stdout",
     "output_type": "stream",
     "text": [
      "\r",
      "                                   \r",
      "0% [Waiting for headers]"
     ]
    },
    {
     "name": "stdout",
     "output_type": "stream",
     "text": [
      "\r",
      "                        \r",
      "Get:2 http://deb.debian.org/debian bookworm-updates InRelease [55.4 kB]\r\n",
      "\r",
      "0% [2 InRelease 10.1 kB/55.4 kB 18%]\r",
      "                                    \r",
      "0% [Waiting for headers]\r",
      "                        \r",
      "Get:3 http://deb.debian.org/debian-security bookworm-security InRelease [48.0 kB]\r\n",
      "\r",
      "0% [3 InRelease 9449 B/48.0 kB 20%]\r",
      "                                   \r",
      "0% [Working]"
     ]
    },
    {
     "name": "stdout",
     "output_type": "stream",
     "text": [
      "\r",
      "0% [Working]"
     ]
    },
    {
     "name": "stdout",
     "output_type": "stream",
     "text": [
      "\r",
      "            \r",
      "Get:4 http://deb.debian.org/debian bookworm/main amd64 Packages [8786 kB]\r\n",
      "\r",
      "0% [4 Packages 9474 B/8786 kB 0%]\r",
      "0% [4 Packages 172 kB/8786 kB 2%]"
     ]
    },
    {
     "name": "stdout",
     "output_type": "stream",
     "text": [
      "\r",
      "26% [4 Packages 1250 kB/8786 kB 14%]"
     ]
    },
    {
     "name": "stdout",
     "output_type": "stream",
     "text": [
      "\r",
      "                                    \r",
      "92% [Working]\r",
      "92% [4 Packages store 0 B] [Waiting for headers]"
     ]
    },
    {
     "name": "stdout",
     "output_type": "stream",
     "text": [
      "\r",
      "                                                \r",
      "Get:5 http://deb.debian.org/debian bookworm-updates/main amd64 Packages [13.8 kB]\r\n",
      "\r",
      "92% [4 Packages store 0 B] [5 Packages 13.8 kB/13.8 kB 100%]\r",
      "                                                            \r",
      "92% [4 Packages store 0 B] [Waiting for headers]\r",
      "                                                \r",
      "Get:6 http://deb.debian.org/debian-security bookworm-security/main amd64 Packages [156 kB]\r\n",
      "\r",
      "92% [4 Packages store 0 B] [6 Packages 0 B/156 kB 0%]\r",
      "                                                     \r",
      "93% [4 Packages store 0 B]"
     ]
    },
    {
     "name": "stdout",
     "output_type": "stream",
     "text": [
      "\r",
      "93% [4 Packages store 0 B]"
     ]
    },
    {
     "name": "stdout",
     "output_type": "stream",
     "text": [
      "\r",
      "93% [4 Packages store 0 B]"
     ]
    },
    {
     "name": "stdout",
     "output_type": "stream",
     "text": [
      "\r",
      "                          \r",
      "96% [Working]\r",
      "96% [5 Packages store 0 B]\r",
      "                          \r",
      "98% [Working]\r",
      "98% [6 Packages store 0 B]\r",
      "                          \r",
      "100% [Working]\r",
      "              \r",
      "Fetched 9210 kB in 2s (5429 kB/s)\r\n"
     ]
    },
    {
     "name": "stdout",
     "output_type": "stream",
     "text": [
      "\r",
      "Reading package lists... 0%\r"
     ]
    },
    {
     "name": "stdout",
     "output_type": "stream",
     "text": [
      "\r",
      "Reading package lists... 0%\r",
      "\r",
      "Reading package lists... 0%\r"
     ]
    },
    {
     "name": "stdout",
     "output_type": "stream",
     "text": [
      "\r",
      "Reading package lists... 97%\r",
      "\r",
      "Reading package lists... 97%\r",
      "\r",
      "Reading package lists... 97%\r",
      "\r",
      "Reading package lists... 97%\r",
      "\r",
      "Reading package lists... 99%\r",
      "\r",
      "Reading package lists... 99%\r",
      "\r",
      "Reading package lists... Done\r",
      "\r\n"
     ]
    },
    {
     "name": "stdout",
     "output_type": "stream",
     "text": [
      "\r",
      "Reading package lists... 0%\r"
     ]
    },
    {
     "name": "stdout",
     "output_type": "stream",
     "text": [
      "\r",
      "Reading package lists... 0%\r"
     ]
    },
    {
     "name": "stdout",
     "output_type": "stream",
     "text": [
      "\r",
      "Reading package lists... 0%\r"
     ]
    },
    {
     "name": "stdout",
     "output_type": "stream",
     "text": [
      "\r",
      "Reading package lists... 97%\r",
      "\r",
      "Reading package lists... 97%\r",
      "\r",
      "Reading package lists... 97%\r",
      "\r",
      "Reading package lists... 97%\r",
      "\r",
      "Reading package lists... 99%\r",
      "\r",
      "Reading package lists... 99%\r",
      "\r",
      "Reading package lists... Done\r",
      "\r\n"
     ]
    },
    {
     "name": "stdout",
     "output_type": "stream",
     "text": [
      "\r",
      "Building dependency tree... 0%\r",
      "\r",
      "Building dependency tree... 0%\r",
      "\r",
      "Building dependency tree... 50%\r",
      "\r",
      "Building dependency tree... 50%\r"
     ]
    },
    {
     "name": "stdout",
     "output_type": "stream",
     "text": [
      "\r",
      "Building dependency tree... Done\r",
      "\r\n",
      "\r",
      "Reading state information... 0% \r",
      "\r",
      "Reading state information... 0%\r",
      "\r",
      "Reading state information... Done\r",
      "\r\n",
      "libsm6 is already the newest version (2:1.2.3-1).\r\n",
      "libsm6 set to manually installed.\r\n",
      "libxext6 is already the newest version (2:1.3.4-1+b1).\r\n",
      "libxext6 set to manually installed.\r\n"
     ]
    },
    {
     "name": "stdout",
     "output_type": "stream",
     "text": [
      "The following additional packages will be installed:\r\n",
      "  alsa-topology-conf alsa-ucm-conf dbus dbus-bin dbus-daemon\r\n",
      "  dbus-session-bus-common dbus-system-bus-common i965-va-driver\r\n",
      "  intel-media-va-driver libaacs0 libapparmor1 libasound2 libasound2-data\r\n",
      "  libass9 libasyncns0 libavc1394-0 libavcodec59 libavdevice59 libavfilter8\r\n",
      "  libavformat59 libavutil57 libbdplus0 libblas3 libbluray2 libbs2b0 libcaca0\r\n",
      "  libcdio-cdda2 libcdio-paranoia2 libcdio19 libchromaprint1 libcjson1\r\n",
      "  libcodec2-1.0 libdbus-1-3 libdc1394-25 libdecor-0-0\r\n",
      "  libdecor-0-plugin-1-cairo libdrm-amdgpu1 libdrm-common libdrm-intel1\r\n",
      "  libdrm-nouveau2 libdrm-radeon1 libdrm2 libepoxy0 libflac12 libflite1 libgbm1\r\n",
      "  libgfortran5 libgl1 libgl1-mesa-dri libglapi-mesa libglvnd0 libglx-mesa0\r\n",
      "  libglx0 libgme0 libgsm1 libhwy1 libiec61883-0 libigdgmm12 libjack-jackd2-0\r\n",
      "  libjxl0.7 liblapack3 liblilv-0-0 libllvm15 libmbedcrypto7 libmfx1\r\n",
      "  libmp3lame0 libmpg123-0 libmysofa1 libnorm1 libogg0 libopenal-data\r\n",
      "  libopenal1 libopenmpt0 libopus0 libpciaccess0 libpgm-5.3-0 libplacebo208\r\n",
      "  libpocketsphinx3 libpostproc56 libpulse0 librabbitmq4 librav1e0\r\n",
      "  libraw1394-11 librist4 librubberband2 libsamplerate0 libsdl2-2.0-0\r\n",
      "  libsensors-config libsensors5 libserd-0-0 libshine3 libslang2 libsnappy1v5\r\n",
      "  libsndfile1 libsndio7.0 libsodium23 libsord-0-0 libsoxr0 libspeex1\r\n",
      "  libsphinxbase3 libsratom-0-0 libsrt1.5-gnutls libssh-gcrypt-4 libsvtav1enc1\r\n",
      "  libswresample4 libswscale6 libtheora0 libtwolame0 libudfread0 libusb-1.0-0\r\n",
      "  libva-drm2 libva-x11-2 libva2 libvdpau-va-gl1 libvdpau1 libvidstab1.1\r\n",
      "  libvorbis0a libvorbisenc2 libvorbisfile3 libvpx7 libvulkan1\r\n",
      "  libwayland-client0 libwayland-cursor0 libwayland-egl1 libwayland-server0\r\n",
      "  libx11-xcb1 libx264-164 libxcb-dri2-0 libxcb-dri3-0 libxcb-glx0\r\n",
      "  libxcb-present0 libxcb-randr0 libxcb-shape0 libxcb-sync1 libxcb-xfixes0\r\n",
      "  libxcursor1 libxfixes3 libxi6 libxkbcommon0 libxrandr2 libxshmfence1 libxv1\r\n",
      "  libxvidcore4 libxxf86vm1 libz3-4 libzimg2 libzmq5 libzvbi-common libzvbi0\r\n",
      "  mesa-va-drivers mesa-vdpau-drivers mesa-vulkan-drivers ocl-icd-libopencl1\r\n",
      "  pocketsphinx-en-us va-driver-all vdpau-driver-all xkb-data\r\n",
      "Suggested packages:\r\n",
      "  default-dbus-session-bus | dbus-session-bus ffmpeg-doc\r\n",
      "  i965-va-driver-shaders libasound2-plugins alsa-utils libcuda1 libnvcuvid1\r\n",
      "  libnvidia-encode1 libbluray-bdj jackd2 libportaudio2 opus-tools pciutils\r\n",
      "  pulseaudio libraw1394-doc xdg-utils lm-sensors serdi sndiod sordi speex\r\n",
      "  opencl-icd nvidia-vdpau-driver nvidia-tesla-440-vdpau-driver\r\n",
      "  nvidia-tesla-418-vdpau-driver nvidia-legacy-390xx-vdpau-driver\r\n",
      "  nvidia-legacy-340xx-vdpau-driver\r\n"
     ]
    },
    {
     "name": "stdout",
     "output_type": "stream",
     "text": [
      "The following NEW packages will be installed:\r\n",
      "  alsa-topology-conf alsa-ucm-conf dbus dbus-bin dbus-daemon\r\n",
      "  dbus-session-bus-common dbus-system-bus-common ffmpeg i965-va-driver\r\n",
      "  intel-media-va-driver libaacs0 libapparmor1 libasound2 libasound2-data\r\n",
      "  libass9 libasyncns0 libavc1394-0 libavcodec59 libavdevice59 libavfilter8\r\n",
      "  libavformat59 libavutil57 libbdplus0 libblas3 libbluray2 libbs2b0 libcaca0\r\n",
      "  libcdio-cdda2 libcdio-paranoia2 libcdio19 libchromaprint1 libcjson1\r\n",
      "  libcodec2-1.0 libdbus-1-3 libdc1394-25 libdecor-0-0\r\n",
      "  libdecor-0-plugin-1-cairo libdrm-amdgpu1 libdrm-common libdrm-intel1\r\n",
      "  libdrm-nouveau2 libdrm-radeon1 libdrm2 libepoxy0 libflac12 libflite1 libgbm1\r\n",
      "  libgfortran5 libgl1 libgl1-mesa-dri libglapi-mesa libglvnd0 libglx-mesa0\r\n",
      "  libglx0 libgme0 libgsm1 libhwy1 libiec61883-0 libigdgmm12 libjack-jackd2-0\r\n",
      "  libjxl0.7 liblapack3 liblilv-0-0 libllvm15 libmbedcrypto7 libmfx1\r\n",
      "  libmp3lame0 libmpg123-0 libmysofa1 libnorm1 libogg0 libopenal-data\r\n",
      "  libopenal1 libopenmpt0 libopus0 libpciaccess0 libpgm-5.3-0 libplacebo208\r\n",
      "  libpocketsphinx3 libpostproc56 libpulse0 librabbitmq4 librav1e0\r\n",
      "  libraw1394-11 librist4 librubberband2 libsamplerate0 libsdl2-2.0-0\r\n",
      "  libsensors-config libsensors5 libserd-0-0 libshine3 libslang2 libsnappy1v5\r\n",
      "  libsndfile1 libsndio7.0 libsodium23 libsord-0-0 libsoxr0 libspeex1\r\n",
      "  libsphinxbase3 libsratom-0-0 libsrt1.5-gnutls libssh-gcrypt-4 libsvtav1enc1\r\n",
      "  libswresample4 libswscale6 libtheora0 libtwolame0 libudfread0 libusb-1.0-0\r\n",
      "  libva-drm2 libva-x11-2 libva2 libvdpau-va-gl1 libvdpau1 libvidstab1.1\r\n",
      "  libvorbis0a libvorbisenc2 libvorbisfile3 libvpx7 libvulkan1\r\n",
      "  libwayland-client0 libwayland-cursor0 libwayland-egl1 libwayland-server0\r\n",
      "  libx11-xcb1 libx264-164 libxcb-dri2-0 libxcb-dri3-0 libxcb-glx0\r\n",
      "  libxcb-present0 libxcb-randr0 libxcb-shape0 libxcb-sync1 libxcb-xfixes0\r\n",
      "  libxcursor1 libxfixes3 libxi6 libxkbcommon0 libxrandr2 libxshmfence1 libxv1\r\n",
      "  libxvidcore4 libxxf86vm1 libz3-4 libzimg2 libzmq5 libzvbi-common libzvbi0\r\n",
      "  mesa-va-drivers mesa-vdpau-drivers mesa-vulkan-drivers ocl-icd-libopencl1\r\n",
      "  pocketsphinx-en-us va-driver-all vdpau-driver-all xkb-data\r\n",
      "0 upgraded, 158 newly installed, 0 to remove and 22 not upgraded.\r\n",
      "Need to get 144 MB of archives.\r\n",
      "After this operation, 480 MB of additional disk space will be used.\r\n"
     ]
    },
    {
     "name": "stdout",
     "output_type": "stream",
     "text": [
      "\r",
      "0% [Working]"
     ]
    },
    {
     "name": "stdout",
     "output_type": "stream",
     "text": [
      "\r",
      "            \r",
      "Get:1 http://deb.debian.org/debian bookworm/main amd64 libdbus-1-3 amd64 1.14.10-1~deb12u1 [201 kB]\r\n",
      "\r",
      "0% [1 libdbus-1-3 4096 B/201 kB 2%]"
     ]
    },
    {
     "name": "stdout",
     "output_type": "stream",
     "text": [
      "\r",
      "                                   \r",
      "0% [Working]\r",
      "            \r",
      "Get:2 http://deb.debian.org/debian bookworm/main amd64 dbus-bin amd64 1.14.10-1~deb12u1 [105 kB]\r\n",
      "\r",
      "0% [2 dbus-bin 25.3 kB/105 kB 24%]\r",
      "                                  \r",
      "0% [Waiting for headers]\r",
      "                        \r",
      "Get:3 http://deb.debian.org/debian bookworm/main amd64 dbus-session-bus-common all 1.14.10-1~deb12u1 [78.2 kB]\r\n",
      "\r",
      "0% [3 dbus-session-bus-common 10.2 kB/78.2 kB 13%]"
     ]
    },
    {
     "name": "stdout",
     "output_type": "stream",
     "text": [
      "\r",
      "                                                  \r",
      "1% [Waiting for headers]\r",
      "                        \r",
      "Get:4 http://deb.debian.org/debian bookworm/main amd64 libapparmor1 amd64 3.0.8-3 [41.2 kB]\r\n",
      "\r",
      "1% [4 libapparmor1 9307 B/41.2 kB 23%]\r",
      "                                      \r",
      "1% [Waiting for headers]\r",
      "                        \r",
      "Get:5 http://deb.debian.org/debian bookworm/main amd64 dbus-daemon amd64 1.14.10-1~deb12u1 [184 kB]\r\n",
      "\r",
      "1% [5 dbus-daemon 18.0 kB/184 kB 10%]\r",
      "                                     \r",
      "1% [Waiting for headers]\r",
      "                        \r",
      "Get:6 http://deb.debian.org/debian bookworm/main amd64 dbus-system-bus-common all 1.14.10-1~deb12u1 [79.3 kB]\r\n",
      "\r",
      "1% [6 dbus-system-bus-common 18.5 kB/79.3 kB 23%]\r",
      "                                                 \r",
      "1% [Waiting for headers]\r",
      "                        \r",
      "Get:7 http://deb.debian.org/debian bookworm/main amd64 dbus amd64 1.14.10-1~deb12u1 [97.4 kB]\r\n",
      "\r",
      "1% [7 dbus 6311 B/97.4 kB 6%]\r",
      "                             \r",
      "1% [Waiting for headers]\r",
      "                        \r",
      "Get:8 http://deb.debian.org/debian bookworm/main amd64 alsa-topology-conf all 1.2.5.1-2 [15.2 kB]\r\n",
      "\r",
      "1% [8 alsa-topology-conf 15.2 kB/15.2 kB 100%]\r",
      "                                              \r",
      "1% [Waiting for headers]\r",
      "                        \r",
      "Get:9 http://deb.debian.org/debian bookworm/main amd64 libasound2-data all 1.2.8-1 [20.5 kB]\r\n",
      "\r",
      "1% [9 libasound2-data 5047 B/20.5 kB 25%]\r",
      "                                         \r",
      "2% [Waiting for headers]\r",
      "                        \r",
      "Get:10 http://deb.debian.org/debian bookworm/main amd64 libasound2 amd64 1.2.8-1+b1 [362 kB]\r\n",
      "\r",
      "2% [10 libasound2 9866 B/362 kB 3%]"
     ]
    },
    {
     "name": "stdout",
     "output_type": "stream",
     "text": [
      "\r",
      "                                   \r",
      "2% [Waiting for headers]\r",
      "                        \r",
      "Get:11 http://deb.debian.org/debian bookworm/main amd64 alsa-ucm-conf all 1.2.8-1 [51.7 kB]\r\n",
      "\r",
      "2% [11 alsa-ucm-conf 21.4 kB/51.7 kB 41%]\r",
      "                                         \r",
      "2% [Waiting for headers]\r",
      "                        \r",
      "Get:12 http://deb.debian.org/debian bookworm/main amd64 libdrm-common all 2.4.114-1 [7112 B]\r\n",
      "\r",
      "2% [12 libdrm-common 7112 B/7112 B 100%]\r",
      "                                        \r",
      "2% [Working]\r",
      "            \r",
      "Get:13 http://deb.debian.org/debian bookworm/main amd64 libdrm2 amd64 2.4.114-1+b1 [37.5 kB]\r\n",
      "\r",
      "2% [13 libdrm2 29.1 kB/37.5 kB 78%]\r",
      "                                   \r",
      "2% [Waiting for headers]\r",
      "                        \r",
      "Get:14 http://deb.debian.org/debian bookworm/main amd64 libva2 amd64 2.17.0-1 [69.2 kB]\r\n",
      "\r",
      "2% [14 libva2 12.3 kB/69.2 kB 18%]\r",
      "                                  \r",
      "3% [Waiting for headers]\r",
      "                        \r",
      "Get:15 http://deb.debian.org/debian bookworm/main amd64 libmfx1 amd64 22.5.4-1 [3219 kB]\r\n",
      "\r",
      "3% [15 libmfx1 15.7 kB/3219 kB 0%]"
     ]
    },
    {
     "name": "stdout",
     "output_type": "stream",
     "text": [
      "\r",
      "                                  \r",
      "4% [Waiting for headers]\r",
      "                        \r",
      "Get:16 http://deb.debian.org/debian bookworm/main amd64 libva-drm2 amd64 2.17.0-1 [16.4 kB]\r\n",
      "\r",
      "4% [16 libva-drm2 16.4 kB/16.4 kB 100%]\r",
      "                                       \r",
      "5% [Working]\r",
      "            \r",
      "Get:17 http://deb.debian.org/debian bookworm/main amd64 libx11-xcb1 amd64 2:1.8.4-2+deb12u2 [192 kB]\r\n",
      "\r",
      "5% [17 libx11-xcb1 56.5 kB/192 kB 29%]\r",
      "                                      \r",
      "5% [Waiting for headers]\r",
      "                        \r",
      "Get:18 http://deb.debian.org/debian bookworm/main amd64 libxcb-dri3-0 amd64 1.15-1 [107 kB]\r\n",
      "\r",
      "5% [18 libxcb-dri3-0 60.0 kB/107 kB 56%]\r",
      "                                        \r",
      "5% [Waiting for headers]\r",
      "                        \r",
      "Get:19 http://deb.debian.org/debian bookworm/main amd64 libxfixes3 amd64 1:6.0.0-2 [22.7 kB]\r\n",
      "\r",
      "5% [19 libxfixes3 22.7 kB/22.7 kB 100%]\r",
      "                                       \r",
      "5% [Working]\r",
      "            \r",
      "Get:20 http://deb.debian.org/debian bookworm/main amd64 libva-x11-2 amd64 2.17.0-1 [21.0 kB]\r\n",
      "\r",
      "5% [20 libva-x11-2 21.0 kB/21.0 kB 100%]\r",
      "                                        \r",
      "5% [Working]\r",
      "            \r",
      "Get:21 http://deb.debian.org/debian bookworm/main amd64 libvdpau1 amd64 1.5-2 [26.1 kB]\r\n",
      "\r",
      "5% [21 libvdpau1 26.1 kB/26.1 kB 100%]\r",
      "                                      \r",
      "5% [Waiting for headers]\r",
      "                        \r",
      "Get:22 http://deb.debian.org/debian bookworm/main amd64 ocl-icd-libopencl1 amd64 2.3.1-1 [43.0 kB]\r\n",
      "\r",
      "5% [22 ocl-icd-libopencl1 43.0 kB/43.0 kB 100%]\r",
      "                                               \r",
      "6% [Working]\r",
      "            \r",
      "Get:23 http://deb.debian.org/debian bookworm/main amd64 libavutil57 amd64 7:5.1.4-0+deb12u1 [360 kB]\r\n",
      "\r",
      "6% [23 libavutil57 33.7 kB/360 kB 9%]"
     ]
    },
    {
     "name": "stdout",
     "output_type": "stream",
     "text": [
      "\r",
      "                                     \r",
      "6% [Waiting for headers]\r",
      "                        \r",
      "Get:24 http://deb.debian.org/debian bookworm/main amd64 libcodec2-1.0 amd64 1.0.5-1 [8171 kB]\r\n",
      "\r",
      "6% [24 libcodec2-1.0 50.7 kB/8171 kB 1%]"
     ]
    },
    {
     "name": "stdout",
     "output_type": "stream",
     "text": [
      "\r",
      "                                        \r",
      "11% [Waiting for headers]\r",
      "                         \r",
      "Get:25 http://deb.debian.org/debian bookworm/main amd64 libgsm1 amd64 1.0.22-1 [30.9 kB]\r\n",
      "\r",
      "11% [25 libgsm1 6574 B/30.9 kB 21%]"
     ]
    },
    {
     "name": "stdout",
     "output_type": "stream",
     "text": [
      "\r",
      "                                   \r",
      "11% [Working]\r",
      "             \r",
      "Get:26 http://deb.debian.org/debian bookworm/main amd64 libhwy1 amd64 1.0.3-3+deb12u1 [348 kB]\r\n",
      "\r",
      "11% [26 libhwy1 40.5 kB/348 kB 12%]\r",
      "                                   \r",
      "11% [Waiting for headers]\r",
      "                         \r",
      "Get:27 http://deb.debian.org/debian bookworm/main amd64 libjxl0.7 amd64 0.7.0-10 [1046 kB]\r\n",
      "\r",
      "11% [27 libjxl0.7 19.9 kB/1046 kB 2%]\r",
      "                                     \r",
      "12% [Waiting for headers]\r",
      "                         \r",
      "Get:28 http://deb.debian.org/debian bookworm/main amd64 libmp3lame0 amd64 3.100-6 [365 kB]\r\n",
      "\r",
      "12% [28 libmp3lame0 36.1 kB/365 kB 10%]\r",
      "                                       \r",
      "12% [Waiting for headers]\r",
      "                         \r",
      "Get:29 http://deb.debian.org/debian bookworm/main amd64 libopus0 amd64 1.3.1-3 [195 kB]\r\n",
      "\r",
      "12% [29 libopus0 49.4 kB/195 kB 25%]\r",
      "                                    \r",
      "12% [Waiting for headers]\r",
      "                         \r",
      "Get:30 http://deb.debian.org/debian bookworm/main amd64 librav1e0 amd64 0.5.1-6 [763 kB]\r\n",
      "\r",
      "12% [30 librav1e0 50.2 kB/763 kB 7%]"
     ]
    },
    {
     "name": "stdout",
     "output_type": "stream",
     "text": [
      "\r",
      "                                    \r",
      "13% [Waiting for headers]\r",
      "                         \r",
      "Get:31 http://deb.debian.org/debian bookworm/main amd64 libshine3 amd64 3.1.1-2 [23.6 kB]\r\n",
      "\r",
      "13% [31 libshine3 23.6 kB/23.6 kB 100%]\r",
      "                                       \r",
      "13% [Working]\r",
      "             \r",
      "Get:32 http://deb.debian.org/debian bookworm/main amd64 libsnappy1v5 amd64 1.1.9-3 [26.0 kB]\r\n",
      "\r",
      "13% [32 libsnappy1v5 26.0 kB/26.0 kB 100%]\r",
      "                                          \r",
      "13% [Working]\r",
      "             \r",
      "Get:33 http://deb.debian.org/debian bookworm/main amd64 libspeex1 amd64 1.2.1-2 [54.6 kB]\r\n",
      "\r",
      "13% [33 libspeex1 35.9 kB/54.6 kB 66%]\r",
      "                                      \r",
      "13% [Working]\r",
      "             \r",
      "Get:34 http://deb.debian.org/debian bookworm/main amd64 libsvtav1enc1 amd64 1.4.1+dfsg-1 [2121 kB]\r\n",
      "\r",
      "13% [34 libsvtav1enc1 12.3 kB/2121 kB 1%]"
     ]
    },
    {
     "name": "stdout",
     "output_type": "stream",
     "text": [
      "\r",
      "                                         \r",
      "15% [Waiting for headers]\r",
      "                         \r",
      "Get:35 http://deb.debian.org/debian bookworm/main amd64 libsoxr0 amd64 0.1.3-4 [77.8 kB]\r\n",
      "\r",
      "15% [35 libsoxr0 55.8 kB/77.8 kB 72%]\r",
      "                                     \r",
      "15% [Working]\r",
      "             \r",
      "Get:36 http://deb.debian.org/debian bookworm/main amd64 libswresample4 amd64 7:5.1.4-0+deb12u1 [94.5 kB]\r\n",
      "\r",
      "15% [36 libswresample4 8390 B/94.5 kB 9%]\r",
      "                                         \r",
      "15% [Working]\r",
      "             \r",
      "Get:37 http://deb.debian.org/debian bookworm/main amd64 libogg0 amd64 1.3.5-3 [23.4 kB]\r\n",
      "\r",
      "15% [37 libogg0 13.2 kB/23.4 kB 56%]\r",
      "                                    \r",
      "15% [Working]\r",
      "             \r",
      "Get:38 http://deb.debian.org/debian bookworm/main amd64 libtheora0 amd64 1.1.1+dfsg.1-16.1+b1 [154 kB]\r\n",
      "\r",
      "15% [38 libtheora0 20.2 kB/154 kB 13%]\r",
      "                                      \r",
      "15% [Working]\r",
      "             \r",
      "Get:39 http://deb.debian.org/debian bookworm/main amd64 libtwolame0 amd64 0.4.0-2 [51.1 kB]\r\n",
      "\r",
      "15% [39 libtwolame0 31.3 kB/51.1 kB 61%]\r",
      "                                        \r",
      "15% [Working]\r",
      "             \r",
      "Get:40 http://deb.debian.org/debian bookworm/main amd64 libvorbis0a amd64 1.3.7-1 [93.0 kB]\r\n",
      "\r",
      "15% [40 libvorbis0a 10.5 kB/93.0 kB 11%]\r",
      "                                        \r",
      "16% [Working]\r",
      "             \r",
      "Get:41 http://deb.debian.org/debian bookworm/main amd64 libvorbisenc2 amd64 1.3.7-1 [80.6 kB]\r\n",
      "\r",
      "16% [41 libvorbisenc2 8192 B/80.6 kB 10%]\r",
      "                                         \r",
      "16% [Working]\r",
      "             \r",
      "Get:42 http://deb.debian.org/debian bookworm/main amd64 libvpx7 amd64 1.12.0-1+deb12u2 [1003 kB]\r\n",
      "\r",
      "16% [42 libvpx7 1141 B/1003 kB 0%]\r",
      "                                  \r",
      "16% [Waiting for headers]\r",
      "                         \r",
      "Get:43 http://deb.debian.org/debian bookworm/main amd64 libx264-164 amd64 2:0.164.3095+gitbaee400-3 [547 kB]\r\n",
      "\r",
      "16% [43 libx264-164 24.6 kB/547 kB 4%]\r",
      "                                      \r",
      "17% [Waiting for headers]"
     ]
    },
    {
     "name": "stdout",
     "output_type": "stream",
     "text": [
      "\r",
      "                         \r",
      "Get:44 http://deb.debian.org/debian bookworm/main amd64 libxvidcore4 amd64 2:1.3.7-1 [242 kB]\r\n",
      "\r",
      "17% [44 libxvidcore4 0 B/242 kB 0%]\r",
      "                                   \r",
      "17% [Waiting for headers]\r",
      "                         \r",
      "Get:45 http://deb.debian.org/debian bookworm/main amd64 libzvbi-common all 0.2.41-1 [69.7 kB]\r\n",
      "\r",
      "17% [45 libzvbi-common 15.7 kB/69.7 kB 23%]\r",
      "                                           \r",
      "17% [Waiting for headers]\r",
      "                         \r",
      "Get:46 http://deb.debian.org/debian bookworm/main amd64 libzvbi0 amd64 0.2.41-1 [274 kB]\r\n",
      "\r",
      "17% [46 libzvbi0 8192 B/274 kB 3%]\r",
      "                                  \r",
      "18% [Waiting for headers]\r",
      "                         \r",
      "Get:47 http://deb.debian.org/debian bookworm/main amd64 libavcodec59 amd64 7:5.1.4-0+deb12u1 [5219 kB]\r\n",
      "\r",
      "18% [47 libavcodec59 2845 B/5219 kB 0%]"
     ]
    },
    {
     "name": "stdout",
     "output_type": "stream",
     "text": [
      "\r",
      "                                       \r",
      "21% [Waiting for headers]\r",
      "                         \r",
      "Get:48 http://deb.debian.org/debian bookworm/main amd64 libraw1394-11 amd64 2.1.2-2 [41.1 kB]\r\n",
      "\r",
      "21% [48 libraw1394-11 41.1 kB/41.1 kB 100%]\r",
      "                                           \r",
      "21% [Working]\r",
      "             \r",
      "Get:49 http://deb.debian.org/debian bookworm/main amd64 libavc1394-0 amd64 0.5.4-5 [19.9 kB]\r\n",
      "\r",
      "21% [49 libavc1394-0 19.9 kB/19.9 kB 100%]\r",
      "                                          \r",
      "21% [Working]\r",
      "             \r",
      "Get:50 http://deb.debian.org/debian bookworm/main amd64 libass9 amd64 1:0.17.1-1 [107 kB]\r\n",
      "\r",
      "21% [50 libass9 15.9 kB/107 kB 15%]\r",
      "                                   \r",
      "21% [Working]\r",
      "             \r",
      "Get:51 http://deb.debian.org/debian bookworm/main amd64 libudfread0 amd64 1.1.2-1 [16.5 kB]\r\n",
      "\r",
      "21% [51 libudfread0 16.5 kB/16.5 kB 100%]\r",
      "                                         \r",
      "21% [Working]\r",
      "             \r",
      "Get:52 http://deb.debian.org/debian bookworm/main amd64 libbluray2 amd64 1:1.3.4-1 [138 kB]\r\n",
      "\r",
      "21% [52 libbluray2 20.5 kB/138 kB 15%]\r",
      "                                      \r",
      "21% [Waiting for headers]\r",
      "                         \r",
      "Get:53 http://deb.debian.org/debian bookworm/main amd64 libchromaprint1 amd64 1.5.1-2+b1 [41.0 kB]\r\n",
      "\r",
      "21% [53 libchromaprint1 16.4 kB/41.0 kB 40%]\r",
      "                                            \r",
      "22% [Working]\r",
      "             \r",
      "Get:54 http://deb.debian.org/debian bookworm/main amd64 libgme0 amd64 0.6.3-6 [130 kB]\r\n",
      "\r",
      "22% [54 libgme0 38.7 kB/130 kB 30%]\r",
      "                                   \r",
      "22% [Working]\r",
      "             \r",
      "Get:55 http://deb.debian.org/debian bookworm/main amd64 libmpg123-0 amd64 1.31.2-1 [147 kB]\r\n",
      "\r",
      "22% [55 libmpg123-0 12.3 kB/147 kB 8%]\r",
      "                                      \r",
      "22% [Waiting for headers]\r",
      "                         \r",
      "Get:56 http://deb.debian.org/debian bookworm/main amd64 libvorbisfile3 amd64 1.3.7-1 [26.1 kB]\r\n",
      "\r",
      "22% [56 libvorbisfile3 22.8 kB/26.1 kB 87%]\r",
      "                                           \r",
      "22% [Working]\r",
      "             \r",
      "Get:57 http://deb.debian.org/debian bookworm/main amd64 libopenmpt0 amd64 0.6.9-1 [693 kB]\r\n",
      "\r",
      "22% [57 libopenmpt0 0 B/693 kB 0%]"
     ]
    },
    {
     "name": "stdout",
     "output_type": "stream",
     "text": [
      "\r",
      "                                  \r",
      "23% [Waiting for headers]\r",
      "                         \r",
      "Get:58 http://deb.debian.org/debian bookworm/main amd64 librabbitmq4 amd64 0.11.0-1+b1 [43.5 kB]\r\n",
      "\r",
      "23% [58 librabbitmq4 4096 B/43.5 kB 9%]\r",
      "                                       \r",
      "23% [Waiting for headers]\r",
      "                         \r",
      "Get:59 http://deb.debian.org/debian bookworm/main amd64 libcjson1 amd64 1.7.15-1 [22.9 kB]\r\n",
      "\r",
      "23% [59 libcjson1 0 B/22.9 kB 0%]\r",
      "                                 \r",
      "23% [Waiting for headers]\r",
      "                         \r",
      "Get:60 http://deb.debian.org/debian bookworm/main amd64 libmbedcrypto7 amd64 2.28.3-1 [277 kB]\r\n",
      "\r",
      "23% [60 libmbedcrypto7 2888 B/277 kB 1%]\r",
      "                                        \r",
      "23% [Waiting for headers]\r",
      "                         \r",
      "Get:61 http://deb.debian.org/debian bookworm/main amd64 librist4 amd64 0.2.7+dfsg-1 [73.9 kB]\r\n",
      "\r",
      "23% [61 librist4 49.9 kB/73.9 kB 68%]\r",
      "                                     \r",
      "23% [Working]\r",
      "             \r",
      "Get:62 http://deb.debian.org/debian bookworm/main amd64 libsrt1.5-gnutls amd64 1.5.1-1 [313 kB]\r\n",
      "\r",
      "23% [62 libsrt1.5-gnutls 40.9 kB/313 kB 13%]\r",
      "                                            \r",
      "24% [Waiting for headers]\r",
      "                         \r",
      "Get:63 http://deb.debian.org/debian bookworm/main amd64 libssh-gcrypt-4 amd64 0.10.6-0+deb12u1 [219 kB]\r\n",
      "\r",
      "24% [63 libssh-gcrypt-4 32.8 kB/219 kB 15%]\r",
      "                                           \r",
      "24% [Waiting for headers]\r",
      "                         \r",
      "Get:64 http://deb.debian.org/debian bookworm/main amd64 libnorm1 amd64 1.5.9+dfsg-2 [221 kB]\r\n",
      "\r",
      "24% [64 libnorm1 31.4 kB/221 kB 14%]\r",
      "                                    \r",
      "24% [Waiting for headers]\r",
      "                         \r",
      "Get:65 http://deb.debian.org/debian bookworm/main amd64 libpgm-5.3-0 amd64 5.3.128~dfsg-2 [161 kB]\r\n",
      "\r",
      "24% [65 libpgm-5.3-0 27.2 kB/161 kB 17%]\r",
      "                                        \r",
      "24% [Waiting for headers]\r",
      "                         \r",
      "Get:66 http://deb.debian.org/debian bookworm/main amd64 libsodium23 amd64 1.0.18-1 [161 kB]\r\n",
      "\r",
      "24% [66 libsodium23 41.5 kB/161 kB 26%]\r",
      "                                       \r",
      "25% [Waiting for headers]"
     ]
    },
    {
     "name": "stdout",
     "output_type": "stream",
     "text": [
      "\r",
      "                         \r",
      "Get:67 http://deb.debian.org/debian bookworm/main amd64 libzmq5 amd64 4.3.4-6 [273 kB]\r\n",
      "\r",
      "25% [67 libzmq5 27.4 kB/273 kB 10%]\r",
      "                                   \r",
      "25% [Waiting for headers]\r",
      "                         \r",
      "Get:68 http://deb.debian.org/debian bookworm/main amd64 libavformat59 amd64 7:5.1.4-0+deb12u1 [1098 kB]\r\n",
      "\r",
      "25% [68 libavformat59 19.3 kB/1098 kB 2%]\r",
      "                                         \r",
      "26% [Waiting for headers]\r",
      "                         \r",
      "Get:69 http://deb.debian.org/debian bookworm/main amd64 libbs2b0 amd64 3.1.0+dfsg-7 [11.5 kB]\r\n",
      "\r",
      "26% [69 libbs2b0 11.5 kB/11.5 kB 100%]"
     ]
    },
    {
     "name": "stdout",
     "output_type": "stream",
     "text": [
      "\r",
      "                                      \r",
      "26% [Working]\r",
      "             \r",
      "Get:70 http://deb.debian.org/debian bookworm/main amd64 libflite1 amd64 2.2-5 [12.8 MB]\r\n",
      "\r",
      "26% [70 libflite1 22.6 kB/12.8 MB 0%]"
     ]
    },
    {
     "name": "stdout",
     "output_type": "stream",
     "text": [
      "\r",
      "                                     \r",
      "33% [Waiting for headers]\r",
      "                         \r",
      "Get:71 http://deb.debian.org/debian bookworm/main amd64 libserd-0-0 amd64 0.30.16-1 [47.5 kB]\r\n",
      "\r",
      "33% [71 libserd-0-0 32.9 kB/47.5 kB 69%]\r",
      "                                        \r",
      "33% [Working]\r",
      "             \r",
      "Get:72 http://deb.debian.org/debian bookworm/main amd64 libsord-0-0 amd64 0.16.14+git221008-1 [20.8 kB]\r\n",
      "\r",
      "33% [72 libsord-0-0 20.8 kB/20.8 kB 100%]\r",
      "                                         \r",
      "33% [Working]\r",
      "             \r",
      "Get:73 http://deb.debian.org/debian bookworm/main amd64 libsratom-0-0 amd64 0.6.14-1 [17.7 kB]\r\n",
      "\r",
      "33% [73 libsratom-0-0 17.7 kB/17.7 kB 100%]\r",
      "                                           \r",
      "33% [Working]\r",
      "             \r",
      "Get:74 http://deb.debian.org/debian bookworm/main amd64 liblilv-0-0 amd64 0.24.14-1 [49.4 kB]\r\n",
      "\r",
      "33% [74 liblilv-0-0 20.7 kB/49.4 kB 42%]\r",
      "                                        \r",
      "34% [Working]\r",
      "             \r",
      "Get:75 http://deb.debian.org/debian bookworm/main amd64 libmysofa1 amd64 1.3.1~dfsg0-1 [1158 kB]\r\n",
      "\r",
      "34% [75 libmysofa1 36.1 kB/1158 kB 3%]\r",
      "                                      \r",
      "34% [Waiting for headers]\r",
      "                         \r",
      "Get:76 http://deb.debian.org/debian bookworm/main amd64 libepoxy0 amd64 1.5.10-1 [189 kB]\r\n",
      "\r",
      "34% [76 libepoxy0 20.5 kB/189 kB 11%]\r",
      "                                     \r",
      "35% [Waiting for headers]\r",
      "                         \r",
      "Get:77 http://deb.debian.org/debian bookworm/main amd64 libvulkan1 amd64 1.3.239.0-1 [116 kB]\r\n",
      "\r",
      "35% [77 libvulkan1 27.3 kB/116 kB 23%]\r",
      "                                      \r",
      "35% [Waiting for headers]\r",
      "                         \r",
      "Get:78 http://deb.debian.org/debian bookworm/main amd64 libplacebo208 amd64 4.208.0-3 [2239 kB]\r\n",
      "\r",
      "35% [78 libplacebo208 41.5 kB/2239 kB 2%]"
     ]
    },
    {
     "name": "stdout",
     "output_type": "stream",
     "text": [
      "\r",
      "                                         \r",
      "36% [Waiting for headers]\r",
      "                         \r",
      "Get:79 http://deb.debian.org/debian bookworm/main amd64 libblas3 amd64 3.11.0-2 [149 kB]\r\n",
      "\r",
      "36% [79 libblas3 22.6 kB/149 kB 15%]\r",
      "                                    \r",
      "36% [Working]\r",
      "             \r",
      "Get:80 http://deb.debian.org/debian bookworm/main amd64 libgfortran5 amd64 12.2.0-14 [793 kB]\r\n",
      "\r",
      "36% [80 libgfortran5 41.0 kB/793 kB 5%]\r",
      "                                       \r",
      "37% [Waiting for headers]\r",
      "                         \r",
      "Get:81 http://deb.debian.org/debian bookworm/main amd64 liblapack3 amd64 3.11.0-2 [2323 kB]\r\n",
      "\r",
      "37% [81 liblapack3 15.7 kB/2323 kB 1%]"
     ]
    },
    {
     "name": "stdout",
     "output_type": "stream",
     "text": [
      "\r",
      "                                      \r",
      "38% [Waiting for headers]\r",
      "                         \r",
      "Get:82 http://deb.debian.org/debian bookworm/main amd64 libasyncns0 amd64 0.8-6+b3 [12.9 kB]\r\n",
      "\r",
      "38% [82 libasyncns0 12.9 kB/12.9 kB 100%]\r",
      "                                         \r",
      "38% [Working]\r",
      "             \r",
      "Get:83 http://deb.debian.org/debian bookworm/main amd64 libflac12 amd64 1.4.2+ds-2 [198 kB]\r\n",
      "\r",
      "39% [83 libflac12 57.3 kB/198 kB 29%]\r",
      "                                     \r",
      "39% [Waiting for headers]\r",
      "                         \r",
      "Get:84 http://deb.debian.org/debian bookworm/main amd64 libsndfile1 amd64 1.2.0-1 [196 kB]\r\n",
      "\r",
      "39% [84 libsndfile1 62.3 kB/196 kB 32%]\r",
      "                                       \r",
      "39% [Waiting for headers]\r",
      "                         \r",
      "Get:85 http://deb.debian.org/debian bookworm/main amd64 libpulse0 amd64 16.1+dfsg1-2+b1 [274 kB]\r\n",
      "\r",
      "39% [85 libpulse0 61.9 kB/274 kB 23%]\r",
      "                                     \r",
      "39% [Waiting for headers]\r",
      "                         \r",
      "Get:86 http://deb.debian.org/debian bookworm/main amd64 libsphinxbase3 amd64 0.8+5prealpha+1-16 [118 kB]\r\n",
      "\r",
      "39% [86 libsphinxbase3 49.4 kB/118 kB 42%]\r",
      "                                          \r",
      "39% [Waiting for headers]\r",
      "                         \r",
      "Get:87 http://deb.debian.org/debian bookworm/main amd64 libpocketsphinx3 amd64 0.8+5prealpha+1-15 [125 kB]\r\n",
      "\r",
      "39% [87 libpocketsphinx3 61.3 kB/125 kB 49%]\r",
      "                                            \r",
      "40% [Waiting for headers]\r",
      "                         \r",
      "Get:88 http://deb.debian.org/debian bookworm/main amd64 libpostproc56 amd64 7:5.1.4-0+deb12u1 [91.1 kB]\r\n",
      "\r",
      "40% [88 libpostproc56 66.4 kB/91.1 kB 73%]\r",
      "                                          \r",
      "40% [Waiting for headers]\r",
      "                         \r",
      "Get:89 http://deb.debian.org/debian bookworm/main amd64 librubberband2 amd64 3.1.2+dfsg0-1 [137 kB]\r\n",
      "\r",
      "40% [89 librubberband2 40.2 kB/137 kB 29%]\r",
      "                                          \r",
      "40% [Waiting for headers]\r",
      "                         \r",
      "Get:90 http://deb.debian.org/debian bookworm/main amd64 libswscale6 amd64 7:5.1.4-0+deb12u1 [212 kB]\r\n",
      "\r",
      "40% [90 libswscale6 33.6 kB/212 kB 16%]\r",
      "                                       \r",
      "40% [Waiting for headers]"
     ]
    },
    {
     "name": "stdout",
     "output_type": "stream",
     "text": [
      "\r",
      "                         \r",
      "Get:91 http://deb.debian.org/debian bookworm/main amd64 libvidstab1.1 amd64 1.1.0-2+b1 [37.8 kB]\r\n",
      "\r",
      "40% [91 libvidstab1.1 16.4 kB/37.8 kB 43%]\r",
      "                                          \r",
      "40% [Waiting for headers]\r",
      "                         \r",
      "Get:92 http://deb.debian.org/debian bookworm/main amd64 libzimg2 amd64 3.0.4+ds1-1 [227 kB]\r\n",
      "\r",
      "40% [92 libzimg2 0 B/227 kB 0%]\r",
      "                               \r",
      "41% [Waiting for headers]\r",
      "                         \r",
      "Get:93 http://deb.debian.org/debian bookworm/main amd64 libavfilter8 amd64 7:5.1.4-0+deb12u1 [3699 kB]\r\n",
      "\r",
      "41% [93 libavfilter8 13.2 kB/3699 kB 0%]"
     ]
    },
    {
     "name": "stdout",
     "output_type": "stream",
     "text": [
      "\r",
      "                                        \r",
      "43% [Waiting for headers]\r",
      "                         \r",
      "Get:94 http://deb.debian.org/debian bookworm/main amd64 libslang2 amd64 2.3.3-3 [554 kB]\r\n",
      "\r",
      "43% [94 libslang2 48.7 kB/554 kB 9%]\r",
      "                                    \r",
      "43% [Waiting for headers]\r",
      "                         \r",
      "Get:95 http://deb.debian.org/debian bookworm/main amd64 libcaca0 amd64 0.99.beta20-3 [205 kB]\r\n",
      "\r",
      "43% [95 libcaca0 18.0 kB/205 kB 9%]\r",
      "                                   \r",
      "43% [Waiting for headers]\r",
      "                         \r",
      "Get:96 http://deb.debian.org/debian bookworm/main amd64 libcdio19 amd64 2.1.0-4 [203 kB]\r\n",
      "\r",
      "44% [96 libcdio19 34.1 kB/203 kB 17%]\r",
      "                                     \r",
      "44% [Waiting for headers]\r",
      "                         \r",
      "Get:97 http://deb.debian.org/debian bookworm/main amd64 libcdio-cdda2 amd64 10.2+2.0.1-1 [20.9 kB]\r\n",
      "\r",
      "44% [97 libcdio-cdda2 20.9 kB/20.9 kB 100%]\r",
      "                                           \r",
      "44% [Working]\r",
      "             \r",
      "Get:98 http://deb.debian.org/debian bookworm/main amd64 libcdio-paranoia2 amd64 10.2+2.0.1-1 [20.4 kB]\r\n",
      "\r",
      "44% [98 libcdio-paranoia2 20.4 kB/20.4 kB 100%]\r",
      "                                               \r",
      "44% [Working]\r",
      "             \r",
      "Get:99 http://deb.debian.org/debian bookworm/main amd64 libusb-1.0-0 amd64 2:1.0.26-1 [62.6 kB]\r\n",
      "\r",
      "44% [99 libusb-1.0-0 57.3 kB/62.6 kB 92%]\r",
      "                                         \r",
      "44% [Working]\r",
      "             \r",
      "Get:100 http://deb.debian.org/debian bookworm/main amd64 libdc1394-25 amd64 2.2.6-4 [109 kB]\r\n",
      "\r",
      "44% [100 libdc1394-25 26.6 kB/109 kB 24%]\r",
      "                                         \r",
      "44% [Working]\r",
      "             \r",
      "Get:101 http://deb.debian.org/debian bookworm/main amd64 libglvnd0 amd64 1.6.0-1 [51.8 kB]\r\n",
      "\r",
      "44% [101 libglvnd0 15.7 kB/51.8 kB 30%]"
     ]
    },
    {
     "name": "stdout",
     "output_type": "stream",
     "text": [
      "\r",
      "                                       \r",
      "45% [Waiting for headers]\r",
      "                         \r",
      "Get:102 http://deb.debian.org/debian bookworm/main amd64 libglapi-mesa amd64 22.3.6-1+deb12u1 [35.7 kB]\r\n",
      "\r",
      "45% [102 libglapi-mesa 15.7 kB/35.7 kB 44%]\r",
      "                                           \r",
      "45% [Waiting for headers]\r",
      "                         \r",
      "Get:103 http://deb.debian.org/debian bookworm/main amd64 libxcb-dri2-0 amd64 1.15-1 [107 kB]\r\n",
      "\r",
      "45% [103 libxcb-dri2-0 0 B/107 kB 0%]\r",
      "                                     \r",
      "45% [Waiting for headers]\r",
      "                         \r",
      "Get:104 http://deb.debian.org/debian bookworm/main amd64 libxcb-glx0 amd64 1.15-1 [122 kB]\r\n",
      "\r",
      "45% [104 libxcb-glx0 28.7 kB/122 kB 23%]\r",
      "                                        \r",
      "45% [Waiting for headers]\r",
      "                         \r",
      "Get:105 http://deb.debian.org/debian bookworm/main amd64 libxcb-present0 amd64 1.15-1 [105 kB]\r\n",
      "\r",
      "45% [105 libxcb-present0 55.8 kB/105 kB 53%]\r",
      "                                            \r",
      "45% [Waiting for headers]\r",
      "                         \r",
      "Get:106 http://deb.debian.org/debian bookworm/main amd64 libxcb-randr0 amd64 1.15-1 [117 kB]\r\n",
      "\r",
      "45% [106 libxcb-randr0 16.4 kB/117 kB 14%]\r",
      "                                          \r",
      "45% [Waiting for headers]\r",
      "                         \r",
      "Get:107 http://deb.debian.org/debian bookworm/main amd64 libxcb-sync1 amd64 1.15-1 [109 kB]\r\n",
      "\r",
      "45% [107 libxcb-sync1 29.0 kB/109 kB 27%]\r",
      "                                         \r",
      "46% [Working]\r",
      "             \r",
      "Get:108 http://deb.debian.org/debian bookworm/main amd64 libxcb-xfixes0 amd64 1.15-1 [109 kB]\r\n",
      "\r",
      "46% [108 libxcb-xfixes0 24.6 kB/109 kB 22%]"
     ]
    },
    {
     "name": "stdout",
     "output_type": "stream",
     "text": [
      "\r",
      "                                           \r",
      "46% [Waiting for headers]\r",
      "                         \r",
      "Get:109 http://deb.debian.org/debian bookworm/main amd64 libxshmfence1 amd64 1.3-1 [8820 B]\r\n",
      "\r",
      "46% [109 libxshmfence1 8820 B/8820 B 100%]\r",
      "                                          \r",
      "46% [Working]\r",
      "             \r",
      "Get:110 http://deb.debian.org/debian bookworm/main amd64 libxxf86vm1 amd64 1:1.1.4-1+b2 [20.8 kB]\r\n",
      "\r",
      "46% [110 libxxf86vm1 12.3 kB/20.8 kB 59%]\r",
      "                                         \r",
      "46% [Working]\r",
      "             \r",
      "Get:111 http://deb.debian.org/debian bookworm/main amd64 libdrm-amdgpu1 amd64 2.4.114-1+b1 [20.9 kB]\r\n",
      "\r",
      "46% [111 libdrm-amdgpu1 0 B/20.9 kB 0%]\r",
      "                                       \r",
      "46% [Working]\r",
      "             \r",
      "Get:112 http://deb.debian.org/debian bookworm/main amd64 libpciaccess0 amd64 0.17-2 [51.4 kB]\r\n",
      "\r",
      "46% [112 libpciaccess0 0 B/51.4 kB 0%]\r",
      "                                      \r",
      "46% [Waiting for headers]"
     ]
    },
    {
     "name": "stdout",
     "output_type": "stream",
     "text": [
      "\r",
      "                         \r",
      "Get:113 http://deb.debian.org/debian bookworm/main amd64 libdrm-intel1 amd64 2.4.114-1+b1 [64.0 kB]\r\n",
      "\r",
      "46% [113 libdrm-intel1 15.7 kB/64.0 kB 24%]\r",
      "                                           \r",
      "47% [Waiting for headers]\r",
      "                         \r",
      "Get:114 http://deb.debian.org/debian bookworm/main amd64 libdrm-nouveau2 amd64 2.4.114-1+b1 [19.1 kB]\r\n",
      "\r",
      "47% [114 libdrm-nouveau2 15.7 kB/19.1 kB 82%]\r",
      "                                             \r",
      "47% [Waiting for headers]\r",
      "                         \r",
      "Get:115 http://deb.debian.org/debian bookworm/main amd64 libdrm-radeon1 amd64 2.4.114-1+b1 [21.8 kB]\r\n",
      "\r",
      "47% [115 libdrm-radeon1 13.7 kB/21.8 kB 63%]\r",
      "                                            \r",
      "47% [Waiting for headers]\r",
      "                         \r",
      "Get:116 http://deb.debian.org/debian bookworm/main amd64 libz3-4 amd64 4.8.12-3.1 [7216 kB]\r\n",
      "\r",
      "47% [116 libz3-4 24.6 kB/7216 kB 0%]"
     ]
    },
    {
     "name": "stdout",
     "output_type": "stream",
     "text": [
      "\r",
      "                                    \r",
      "51% [Waiting for headers]\r",
      "                         \r",
      "Get:117 http://deb.debian.org/debian bookworm/main amd64 libllvm15 amd64 1:15.0.6-4+b1 [23.1 MB]\r\n",
      "\r",
      "51% [117 libllvm15 48.8 kB/23.1 MB 0%]"
     ]
    },
    {
     "name": "stdout",
     "output_type": "stream",
     "text": [
      "\r",
      "                                      \r",
      "64% [Waiting for headers]\r",
      "                         \r",
      "Get:118 http://deb.debian.org/debian bookworm/main amd64 libsensors-config all 1:3.6.0-7.1 [14.3 kB]\r\n",
      "\r",
      "64% [Waiting for headers]\r",
      "                         \r",
      "Get:119 http://deb.debian.org/debian bookworm/main amd64 libsensors5 amd64 1:3.6.0-7.1 [34.2 kB]\r\n",
      "\r",
      "64% [119 libsensors5 34.2 kB/34.2 kB 100%]\r",
      "                                          \r",
      "64% [Working]\r",
      "             \r",
      "Get:120 http://deb.debian.org/debian bookworm/main amd64 libgl1-mesa-dri amd64 22.3.6-1+deb12u1 [7239 kB]\r\n",
      "\r",
      "64% [120 libgl1-mesa-dri 64.9 kB/7239 kB 1%]"
     ]
    },
    {
     "name": "stdout",
     "output_type": "stream",
     "text": [
      "\r",
      "                                            \r",
      "68% [Waiting for headers]\r",
      "                         \r",
      "Get:121 http://deb.debian.org/debian bookworm/main amd64 libglx-mesa0 amd64 22.3.6-1+deb12u1 [147 kB]\r\n",
      "\r",
      "68% [121 libglx-mesa0 52.4 kB/147 kB 36%]\r",
      "                                         \r",
      "69% [Waiting for headers]\r",
      "                         \r",
      "Get:122 http://deb.debian.org/debian bookworm/main amd64 libglx0 amd64 1.6.0-1 [34.4 kB]\r\n",
      "\r",
      "69% [122 libglx0 34.4 kB/34.4 kB 100%]\r",
      "                                      \r",
      "69% [Working]\r",
      "             \r",
      "Get:123 http://deb.debian.org/debian bookworm/main amd64 libgl1 amd64 1.6.0-1 [88.4 kB]\r\n",
      "\r",
      "69% [123 libgl1 17.4 kB/88.4 kB 20%]\r",
      "                                    \r",
      "69% [Waiting for headers]\r",
      "                         \r",
      "Get:124 http://deb.debian.org/debian bookworm/main amd64 libiec61883-0 amd64 1.2.0-6+b1 [30.5 kB]\r\n",
      "\r",
      "69% [124 libiec61883-0 30.5 kB/30.5 kB 100%]\r",
      "                                            \r",
      "69% [Working]\r",
      "             \r",
      "Get:125 http://deb.debian.org/debian bookworm/main amd64 libsamplerate0 amd64 0.2.2-3 [952 kB]\r\n",
      "\r",
      "69% [125 libsamplerate0 11.1 kB/952 kB 1%]\r",
      "                                          \r",
      "70% [Waiting for headers]\r",
      "                         \r",
      "Get:126 http://deb.debian.org/debian bookworm/main amd64 libjack-jackd2-0 amd64 1.9.21~dfsg-3 [281 kB]\r\n",
      "\r",
      "70% [126 libjack-jackd2-0 29.6 kB/281 kB 11%]\r",
      "                                             \r",
      "70% [Waiting for headers]\r",
      "                         \r",
      "Get:127 http://deb.debian.org/debian bookworm/main amd64 libopenal-data all 1:1.19.1-2 [170 kB]\r\n",
      "\r",
      "70% [127 libopenal-data 9536 B/170 kB 6%]\r",
      "                                         \r",
      "70% [Waiting for headers]\r",
      "                         \r",
      "Get:128 http://deb.debian.org/debian bookworm/main amd64 libsndio7.0 amd64 1.9.0-0.3+b2 [27.3 kB]\r\n",
      "\r",
      "70% [128 libsndio7.0 27.3 kB/27.3 kB 100%]\r",
      "                                          \r",
      "70% [Working]\r",
      "             \r",
      "Get:129 http://deb.debian.org/debian bookworm/main amd64 libopenal1 amd64 1:1.19.1-2 [501 kB]\r\n",
      "\r",
      "70% [129 libopenal1 19.1 kB/501 kB 4%]\r",
      "                                      \r",
      "71% [Waiting for headers]\r",
      "                         \r",
      "Get:130 http://deb.debian.org/debian bookworm/main amd64 libwayland-client0 amd64 1.21.0-1 [28.3 kB]\r\n",
      "\r",
      "71% [130 libwayland-client0 8664 B/28.3 kB 31%]\r",
      "                                               \r",
      "71% [Waiting for headers]"
     ]
    },
    {
     "name": "stdout",
     "output_type": "stream",
     "text": [
      "\r",
      "                         \r",
      "Get:131 http://deb.debian.org/debian bookworm/main amd64 libdecor-0-0 amd64 0.1.1-2 [14.6 kB]\r\n",
      "\r",
      "71% [131 libdecor-0-0 12.3 kB/14.6 kB 84%]\r",
      "                                          \r",
      "71% [Waiting for headers]\r",
      "                         \r",
      "Get:132 http://deb.debian.org/debian bookworm/main amd64 libwayland-server0 amd64 1.21.0-1 [35.9 kB]\r\n",
      "\r",
      "71% [132 libwayland-server0 15.7 kB/35.9 kB 44%]\r",
      "                                                \r",
      "71% [Waiting for headers]\r",
      "                         \r",
      "Get:133 http://deb.debian.org/debian bookworm/main amd64 libgbm1 amd64 22.3.6-1+deb12u1 [38.0 kB]\r\n",
      "\r",
      "71% [133 libgbm1 26.5 kB/38.0 kB 70%]\r",
      "                                     \r",
      "71% [Waiting for headers]\r",
      "                         \r",
      "Get:134 http://deb.debian.org/debian bookworm/main amd64 libwayland-cursor0 amd64 1.21.0-1 [14.4 kB]\r\n",
      "\r",
      "71% [134 libwayland-cursor0 14.4 kB/14.4 kB 100%]\r",
      "                                                 \r",
      "71% [Waiting for headers]\r",
      "                         \r",
      "Get:135 http://deb.debian.org/debian bookworm/main amd64 libwayland-egl1 amd64 1.21.0-1 [8640 B]\r\n",
      "\r",
      "71% [135 libwayland-egl1 8640 B/8640 B 100%]\r",
      "                                            \r",
      "72% [Waiting for headers]\r",
      "                         \r",
      "Get:136 http://deb.debian.org/debian bookworm/main amd64 libxcursor1 amd64 1:1.2.1-1 [40.9 kB]\r\n",
      "\r",
      "72% [136 libxcursor1 2888 B/40.9 kB 7%]\r",
      "                                       \r",
      "72% [Waiting for headers]\r",
      "                         \r",
      "Get:137 http://deb.debian.org/debian bookworm/main amd64 libxi6 amd64 2:1.8-1+b1 [84.2 kB]\r\n",
      "\r",
      "72% [137 libxi6 10.9 kB/84.2 kB 13%]\r",
      "                                    \r",
      "72% [Waiting for headers]\r",
      "                         \r",
      "Get:138 http://deb.debian.org/debian bookworm/main amd64 xkb-data all 2.35.1-1 [764 kB]\r\n",
      "\r",
      "72% [138 xkb-data 33.5 kB/764 kB 4%]\r",
      "                                    \r",
      "72% [Waiting for headers]\r",
      "                         \r",
      "Get:139 http://deb.debian.org/debian bookworm/main amd64 libxkbcommon0 amd64 1.5.0-1 [106 kB]\r\n",
      "\r",
      "72% [139 libxkbcommon0 55.8 kB/106 kB 53%]\r",
      "                                          \r",
      "73% [Working]"
     ]
    },
    {
     "name": "stdout",
     "output_type": "stream",
     "text": [
      "\r",
      "             \r",
      "Get:140 http://deb.debian.org/debian bookworm/main amd64 libxrandr2 amd64 2:1.5.2-2+b1 [39.2 kB]\r\n",
      "\r",
      "73% [140 libxrandr2 0 B/39.2 kB 0%]\r",
      "                                   \r",
      "73% [Waiting for headers]\r",
      "                         \r",
      "Get:141 http://deb.debian.org/debian bookworm/main amd64 libsdl2-2.0-0 amd64 2.26.5+dfsg-1 [629 kB]\r\n",
      "\r",
      "73% [141 libsdl2-2.0-0 24.6 kB/629 kB 4%]\r",
      "                                         \r",
      "73% [Waiting for headers]\r",
      "                         \r",
      "Get:142 http://deb.debian.org/debian bookworm/main amd64 libxcb-shape0 amd64 1.15-1 [106 kB]\r\n",
      "\r",
      "73% [142 libxcb-shape0 53.2 kB/106 kB 50%]\r",
      "                                          \r",
      "73% [Waiting for headers]\r",
      "                         \r",
      "Get:143 http://deb.debian.org/debian bookworm/main amd64 libxv1 amd64 2:1.0.11-1.1 [24.8 kB]\r\n",
      "\r",
      "73% [143 libxv1 24.4 kB/24.8 kB 99%]\r",
      "                                    \r",
      "74% [Working]\r",
      "             \r",
      "Get:144 http://deb.debian.org/debian bookworm/main amd64 libavdevice59 amd64 7:5.1.4-0+deb12u1 [111 kB]\r\n",
      "\r",
      "74% [144 libavdevice59 53.2 kB/111 kB 48%]\r",
      "                                          \r",
      "74% [Working]\r",
      "             \r",
      "Get:145 http://deb.debian.org/debian bookworm/main amd64 ffmpeg amd64 7:5.1.4-0+deb12u1 [1811 kB]\r\n",
      "\r",
      "74% [145 ffmpeg 18.2 kB/1811 kB 1%]"
     ]
    },
    {
     "name": "stdout",
     "output_type": "stream",
     "text": [
      "\r",
      "                                   \r",
      "75% [Waiting for headers]\r",
      "                         \r",
      "Get:146 http://deb.debian.org/debian bookworm/main amd64 i965-va-driver amd64 2.4.1+dfsg1-1 [309 kB]\r\n",
      "\r",
      "75% [146 i965-va-driver 41.4 kB/309 kB 13%]\r",
      "                                           \r",
      "75% [Waiting for headers]\r",
      "                         \r",
      "Get:147 http://deb.debian.org/debian bookworm/main amd64 libigdgmm12 amd64 22.3.3+ds1-1 [139 kB]\r\n",
      "\r",
      "75% [147 libigdgmm12 59.8 kB/139 kB 43%]\r",
      "                                        \r",
      "75% [Waiting for headers]\r",
      "                         \r",
      "Get:148 http://deb.debian.org/debian bookworm/main amd64 intel-media-va-driver amd64 23.1.1+dfsg1-1 [2882 kB]\r\n",
      "\r",
      "75% [148 intel-media-va-driver 1056 B/2882 kB 0%]"
     ]
    },
    {
     "name": "stdout",
     "output_type": "stream",
     "text": [
      "\r",
      "                                                 \r",
      "77% [Waiting for headers]\r",
      "                         \r",
      "Get:149 http://deb.debian.org/debian bookworm/main amd64 libaacs0 amd64 0.11.1-2 [57.1 kB]\r\n",
      "\r",
      "77% [149 libaacs0 51.9 kB/57.1 kB 91%]\r",
      "                                      \r",
      "77% [Working]\r",
      "             \r",
      "Get:150 http://deb.debian.org/debian bookworm/main amd64 libbdplus0 amd64 0.2.0-3 [52.6 kB]\r\n",
      "\r",
      "77% [150 libbdplus0 45.1 kB/52.6 kB 86%]\r",
      "                                        \r",
      "77% [Waiting for headers]\r",
      "                         \r",
      "Get:151 http://deb.debian.org/debian bookworm/main amd64 libdecor-0-plugin-1-cairo amd64 0.1.1-2 [20.1 kB]\r\n",
      "\r",
      "77% [151 libdecor-0-plugin-1-cairo 20.1 kB/20.1 kB 100%]\r",
      "                                                        \r",
      "78% [Waiting for headers]\r",
      "                         \r",
      "Get:152 http://deb.debian.org/debian bookworm/main amd64 libvdpau-va-gl1 amd64 0.4.2-1+b1 [71.3 kB]\r\n",
      "\r",
      "78% [152 libvdpau-va-gl1 51.0 kB/71.3 kB 72%]\r",
      "                                             \r",
      "78% [Waiting for headers]\r",
      "                         \r",
      "Get:153 http://deb.debian.org/debian bookworm/main amd64 mesa-va-drivers amd64 22.3.6-1+deb12u1 [3299 kB]\r\n",
      "\r",
      "78% [153 mesa-va-drivers 44.6 kB/3299 kB 1%]"
     ]
    },
    {
     "name": "stdout",
     "output_type": "stream",
     "text": [
      "\r",
      "                                            \r",
      "80% [Waiting for headers]\r",
      "                         \r",
      "Get:154 http://deb.debian.org/debian bookworm/main amd64 mesa-vdpau-drivers amd64 22.3.6-1+deb12u1 [3181 kB]\r\n",
      "\r",
      "80% [154 mesa-vdpau-drivers 13.0 kB/3181 kB 0%]"
     ]
    },
    {
     "name": "stdout",
     "output_type": "stream",
     "text": [
      "\r",
      "                                               \r",
      "82% [Waiting for headers]\r",
      "                         \r",
      "Get:155 http://deb.debian.org/debian bookworm/main amd64 mesa-vulkan-drivers amd64 22.3.6-1+deb12u1 [8000 kB]\r\n",
      "\r",
      "82% [155 mesa-vulkan-drivers 42.6 kB/8000 kB 1%]"
     ]
    },
    {
     "name": "stdout",
     "output_type": "stream",
     "text": [
      "\r",
      "                                                \r",
      "86% [Waiting for headers]\r",
      "                         \r",
      "Get:156 http://deb.debian.org/debian bookworm/main amd64 pocketsphinx-en-us all 0.8+5prealpha+1-15 [24.3 MB]\r\n",
      "\r",
      "86% [156 pocketsphinx-en-us 46.6 kB/24.3 MB 0%]"
     ]
    },
    {
     "name": "stdout",
     "output_type": "stream",
     "text": [
      "\r",
      "                                               \r",
      "100% [Waiting for headers]\r",
      "                          \r",
      "Get:157 http://deb.debian.org/debian bookworm/main amd64 va-driver-all amd64 2.17.0-1 [12.8 kB]\r\n",
      "\r",
      "100% [157 va-driver-all 12.8 kB/12.8 kB 100%]\r",
      "                                             \r",
      "100% [Waiting for headers]\r",
      "                          \r",
      "Get:158 http://deb.debian.org/debian bookworm/main amd64 vdpau-driver-all amd64 1.5-2 [4348 B]\r\n",
      "\r",
      "100% [158 vdpau-driver-all 4348 B/4348 B 100%]\r",
      "                                              \r",
      "100% [Working]\r",
      "              \r",
      "Fetched 144 MB in 3s (50.5 MB/s)\r\n"
     ]
    },
    {
     "name": "stdout",
     "output_type": "stream",
     "text": [
      "debconf: delaying package configuration, since apt-utils is not installed\r\n"
     ]
    },
    {
     "name": "stdout",
     "output_type": "stream",
     "text": [
      "Selecting previously unselected package libdbus-1-3:amd64.\r\n",
      "(Reading database ... \r",
      "(Reading database ... 5%\r",
      "(Reading database ... 10%\r",
      "(Reading database ... 15%\r",
      "(Reading database ... 20%\r",
      "(Reading database ... 25%\r",
      "(Reading database ... 30%\r",
      "(Reading database ... 35%\r",
      "(Reading database ... 40%\r",
      "(Reading database ... 45%\r",
      "(Reading database ... 50%\r",
      "(Reading database ... 55%\r",
      "(Reading database ... 60%\r",
      "(Reading database ... 65%\r",
      "(Reading database ... 70%\r"
     ]
    },
    {
     "name": "stdout",
     "output_type": "stream",
     "text": [
      "(Reading database ... 75%\r"
     ]
    },
    {
     "name": "stdout",
     "output_type": "stream",
     "text": [
      "(Reading database ... 80%\r",
      "(Reading database ... 85%\r"
     ]
    },
    {
     "name": "stdout",
     "output_type": "stream",
     "text": [
      "(Reading database ... 90%\r"
     ]
    },
    {
     "name": "stdout",
     "output_type": "stream",
     "text": [
      "(Reading database ... 95%\r",
      "(Reading database ... 100%\r",
      "(Reading database ... 23974 files and directories currently installed.)\r\n",
      "Preparing to unpack .../000-libdbus-1-3_1.14.10-1~deb12u1_amd64.deb ...\r\n"
     ]
    },
    {
     "name": "stdout",
     "output_type": "stream",
     "text": [
      "Unpacking libdbus-1-3:amd64 (1.14.10-1~deb12u1) ...\r\n"
     ]
    },
    {
     "name": "stdout",
     "output_type": "stream",
     "text": [
      "Selecting previously unselected package dbus-bin.\r\n",
      "Preparing to unpack .../001-dbus-bin_1.14.10-1~deb12u1_amd64.deb ...\r\n",
      "Unpacking dbus-bin (1.14.10-1~deb12u1) ...\r\n"
     ]
    },
    {
     "name": "stdout",
     "output_type": "stream",
     "text": [
      "Selecting previously unselected package dbus-session-bus-common.\r\n",
      "Preparing to unpack .../002-dbus-session-bus-common_1.14.10-1~deb12u1_all.deb ...\r\n",
      "Unpacking dbus-session-bus-common (1.14.10-1~deb12u1) ...\r\n"
     ]
    },
    {
     "name": "stdout",
     "output_type": "stream",
     "text": [
      "Selecting previously unselected package libapparmor1:amd64.\r\n",
      "Preparing to unpack .../003-libapparmor1_3.0.8-3_amd64.deb ...\r\n",
      "Unpacking libapparmor1:amd64 (3.0.8-3) ...\r\n"
     ]
    },
    {
     "name": "stdout",
     "output_type": "stream",
     "text": [
      "Selecting previously unselected package dbus-daemon.\r\n",
      "Preparing to unpack .../004-dbus-daemon_1.14.10-1~deb12u1_amd64.deb ...\r\n",
      "Unpacking dbus-daemon (1.14.10-1~deb12u1) ...\r\n"
     ]
    },
    {
     "name": "stdout",
     "output_type": "stream",
     "text": [
      "Selecting previously unselected package dbus-system-bus-common.\r\n",
      "Preparing to unpack .../005-dbus-system-bus-common_1.14.10-1~deb12u1_all.deb ...\r\n",
      "Unpacking dbus-system-bus-common (1.14.10-1~deb12u1) ...\r\n"
     ]
    },
    {
     "name": "stdout",
     "output_type": "stream",
     "text": [
      "Selecting previously unselected package dbus.\r\n",
      "Preparing to unpack .../006-dbus_1.14.10-1~deb12u1_amd64.deb ...\r\n",
      "Unpacking dbus (1.14.10-1~deb12u1) ...\r\n"
     ]
    },
    {
     "name": "stdout",
     "output_type": "stream",
     "text": [
      "Selecting previously unselected package alsa-topology-conf.\r\n",
      "Preparing to unpack .../007-alsa-topology-conf_1.2.5.1-2_all.deb ...\r\n",
      "Unpacking alsa-topology-conf (1.2.5.1-2) ...\r\n"
     ]
    },
    {
     "name": "stdout",
     "output_type": "stream",
     "text": [
      "Selecting previously unselected package libasound2-data.\r\n",
      "Preparing to unpack .../008-libasound2-data_1.2.8-1_all.deb ...\r\n",
      "Unpacking libasound2-data (1.2.8-1) ...\r\n"
     ]
    },
    {
     "name": "stdout",
     "output_type": "stream",
     "text": [
      "Selecting previously unselected package libasound2:amd64.\r\n",
      "Preparing to unpack .../009-libasound2_1.2.8-1+b1_amd64.deb ...\r\n",
      "Unpacking libasound2:amd64 (1.2.8-1+b1) ...\r\n"
     ]
    },
    {
     "name": "stdout",
     "output_type": "stream",
     "text": [
      "Selecting previously unselected package alsa-ucm-conf.\r\n",
      "Preparing to unpack .../010-alsa-ucm-conf_1.2.8-1_all.deb ...\r\n",
      "Unpacking alsa-ucm-conf (1.2.8-1) ...\r\n"
     ]
    },
    {
     "name": "stdout",
     "output_type": "stream",
     "text": [
      "Selecting previously unselected package libdrm-common.\r\n",
      "Preparing to unpack .../011-libdrm-common_2.4.114-1_all.deb ...\r\n"
     ]
    },
    {
     "name": "stdout",
     "output_type": "stream",
     "text": [
      "Unpacking libdrm-common (2.4.114-1) ...\r\n"
     ]
    },
    {
     "name": "stdout",
     "output_type": "stream",
     "text": [
      "Selecting previously unselected package libdrm2:amd64.\r\n",
      "Preparing to unpack .../012-libdrm2_2.4.114-1+b1_amd64.deb ...\r\n",
      "Unpacking libdrm2:amd64 (2.4.114-1+b1) ...\r\n"
     ]
    },
    {
     "name": "stdout",
     "output_type": "stream",
     "text": [
      "Selecting previously unselected package libva2:amd64.\r\n",
      "Preparing to unpack .../013-libva2_2.17.0-1_amd64.deb ...\r\n",
      "Unpacking libva2:amd64 (2.17.0-1) ...\r\n"
     ]
    },
    {
     "name": "stdout",
     "output_type": "stream",
     "text": [
      "Selecting previously unselected package libmfx1:amd64.\r\n",
      "Preparing to unpack .../014-libmfx1_22.5.4-1_amd64.deb ...\r\n",
      "Unpacking libmfx1:amd64 (22.5.4-1) ...\r\n"
     ]
    },
    {
     "name": "stdout",
     "output_type": "stream",
     "text": [
      "Selecting previously unselected package libva-drm2:amd64.\r\n"
     ]
    },
    {
     "name": "stdout",
     "output_type": "stream",
     "text": [
      "Preparing to unpack .../015-libva-drm2_2.17.0-1_amd64.deb ...\r\n",
      "Unpacking libva-drm2:amd64 (2.17.0-1) ...\r\n"
     ]
    },
    {
     "name": "stdout",
     "output_type": "stream",
     "text": [
      "Selecting previously unselected package libx11-xcb1:amd64.\r\n",
      "Preparing to unpack .../016-libx11-xcb1_2%3a1.8.4-2+deb12u2_amd64.deb ...\r\n"
     ]
    },
    {
     "name": "stdout",
     "output_type": "stream",
     "text": [
      "Unpacking libx11-xcb1:amd64 (2:1.8.4-2+deb12u2) ...\r\n"
     ]
    },
    {
     "name": "stdout",
     "output_type": "stream",
     "text": [
      "Selecting previously unselected package libxcb-dri3-0:amd64.\r\n",
      "Preparing to unpack .../017-libxcb-dri3-0_1.15-1_amd64.deb ...\r\n"
     ]
    },
    {
     "name": "stdout",
     "output_type": "stream",
     "text": [
      "Unpacking libxcb-dri3-0:amd64 (1.15-1) ...\r\n"
     ]
    },
    {
     "name": "stdout",
     "output_type": "stream",
     "text": [
      "Selecting previously unselected package libxfixes3:amd64.\r\n",
      "Preparing to unpack .../018-libxfixes3_1%3a6.0.0-2_amd64.deb ...\r\n"
     ]
    },
    {
     "name": "stdout",
     "output_type": "stream",
     "text": [
      "Unpacking libxfixes3:amd64 (1:6.0.0-2) ...\r\n"
     ]
    },
    {
     "name": "stdout",
     "output_type": "stream",
     "text": [
      "Selecting previously unselected package libva-x11-2:amd64.\r\n",
      "Preparing to unpack .../019-libva-x11-2_2.17.0-1_amd64.deb ...\r\n"
     ]
    },
    {
     "name": "stdout",
     "output_type": "stream",
     "text": [
      "Unpacking libva-x11-2:amd64 (2.17.0-1) ...\r\n"
     ]
    },
    {
     "name": "stdout",
     "output_type": "stream",
     "text": [
      "Selecting previously unselected package libvdpau1:amd64.\r\n",
      "Preparing to unpack .../020-libvdpau1_1.5-2_amd64.deb ...\r\n"
     ]
    },
    {
     "name": "stdout",
     "output_type": "stream",
     "text": [
      "Unpacking libvdpau1:amd64 (1.5-2) ...\r\n"
     ]
    },
    {
     "name": "stdout",
     "output_type": "stream",
     "text": [
      "Selecting previously unselected package ocl-icd-libopencl1:amd64.\r\n",
      "Preparing to unpack .../021-ocl-icd-libopencl1_2.3.1-1_amd64.deb ...\r\n"
     ]
    },
    {
     "name": "stdout",
     "output_type": "stream",
     "text": [
      "Unpacking ocl-icd-libopencl1:amd64 (2.3.1-1) ...\r\n"
     ]
    },
    {
     "name": "stdout",
     "output_type": "stream",
     "text": [
      "Selecting previously unselected package libavutil57:amd64.\r\n",
      "Preparing to unpack .../022-libavutil57_7%3a5.1.4-0+deb12u1_amd64.deb ...\r\n",
      "Unpacking libavutil57:amd64 (7:5.1.4-0+deb12u1) ...\r\n"
     ]
    },
    {
     "name": "stdout",
     "output_type": "stream",
     "text": [
      "Selecting previously unselected package libcodec2-1.0:amd64.\r\n",
      "Preparing to unpack .../023-libcodec2-1.0_1.0.5-1_amd64.deb ...\r\n"
     ]
    },
    {
     "name": "stdout",
     "output_type": "stream",
     "text": [
      "Unpacking libcodec2-1.0:amd64 (1.0.5-1) ...\r\n"
     ]
    },
    {
     "name": "stdout",
     "output_type": "stream",
     "text": [
      "Selecting previously unselected package libgsm1:amd64.\r\n",
      "Preparing to unpack .../024-libgsm1_1.0.22-1_amd64.deb ...\r\n",
      "Unpacking libgsm1:amd64 (1.0.22-1) ...\r\n"
     ]
    },
    {
     "name": "stdout",
     "output_type": "stream",
     "text": [
      "Selecting previously unselected package libhwy1:amd64.\r\n",
      "Preparing to unpack .../025-libhwy1_1.0.3-3+deb12u1_amd64.deb ...\r\n",
      "Unpacking libhwy1:amd64 (1.0.3-3+deb12u1) ...\r\n"
     ]
    },
    {
     "name": "stdout",
     "output_type": "stream",
     "text": [
      "Selecting previously unselected package libjxl0.7:amd64.\r\n",
      "Preparing to unpack .../026-libjxl0.7_0.7.0-10_amd64.deb ...\r\n",
      "Unpacking libjxl0.7:amd64 (0.7.0-10) ...\r\n"
     ]
    },
    {
     "name": "stdout",
     "output_type": "stream",
     "text": [
      "Selecting previously unselected package libmp3lame0:amd64.\r\n",
      "Preparing to unpack .../027-libmp3lame0_3.100-6_amd64.deb ...\r\n"
     ]
    },
    {
     "name": "stdout",
     "output_type": "stream",
     "text": [
      "Unpacking libmp3lame0:amd64 (3.100-6) ...\r\n"
     ]
    },
    {
     "name": "stdout",
     "output_type": "stream",
     "text": [
      "Selecting previously unselected package libopus0:amd64.\r\n",
      "Preparing to unpack .../028-libopus0_1.3.1-3_amd64.deb ...\r\n",
      "Unpacking libopus0:amd64 (1.3.1-3) ...\r\n"
     ]
    },
    {
     "name": "stdout",
     "output_type": "stream",
     "text": [
      "Selecting previously unselected package librav1e0:amd64.\r\n",
      "Preparing to unpack .../029-librav1e0_0.5.1-6_amd64.deb ...\r\n",
      "Unpacking librav1e0:amd64 (0.5.1-6) ...\r\n"
     ]
    },
    {
     "name": "stdout",
     "output_type": "stream",
     "text": [
      "Selecting previously unselected package libshine3:amd64.\r\n",
      "Preparing to unpack .../030-libshine3_3.1.1-2_amd64.deb ...\r\n",
      "Unpacking libshine3:amd64 (3.1.1-2) ...\r\n"
     ]
    },
    {
     "name": "stdout",
     "output_type": "stream",
     "text": [
      "Selecting previously unselected package libsnappy1v5:amd64.\r\n",
      "Preparing to unpack .../031-libsnappy1v5_1.1.9-3_amd64.deb ...\r\n",
      "Unpacking libsnappy1v5:amd64 (1.1.9-3) ...\r\n"
     ]
    },
    {
     "name": "stdout",
     "output_type": "stream",
     "text": [
      "Selecting previously unselected package libspeex1:amd64.\r\n",
      "Preparing to unpack .../032-libspeex1_1.2.1-2_amd64.deb ...\r\n",
      "Unpacking libspeex1:amd64 (1.2.1-2) ...\r\n"
     ]
    },
    {
     "name": "stdout",
     "output_type": "stream",
     "text": [
      "Selecting previously unselected package libsvtav1enc1:amd64.\r\n",
      "Preparing to unpack .../033-libsvtav1enc1_1.4.1+dfsg-1_amd64.deb ...\r\n",
      "Unpacking libsvtav1enc1:amd64 (1.4.1+dfsg-1) ...\r\n"
     ]
    },
    {
     "name": "stdout",
     "output_type": "stream",
     "text": [
      "Selecting previously unselected package libsoxr0:amd64.\r\n",
      "Preparing to unpack .../034-libsoxr0_0.1.3-4_amd64.deb ...\r\n",
      "Unpacking libsoxr0:amd64 (0.1.3-4) ...\r\n"
     ]
    },
    {
     "name": "stdout",
     "output_type": "stream",
     "text": [
      "Selecting previously unselected package libswresample4:amd64.\r\n",
      "Preparing to unpack .../035-libswresample4_7%3a5.1.4-0+deb12u1_amd64.deb ...\r\n"
     ]
    },
    {
     "name": "stdout",
     "output_type": "stream",
     "text": [
      "Unpacking libswresample4:amd64 (7:5.1.4-0+deb12u1) ...\r\n"
     ]
    },
    {
     "name": "stdout",
     "output_type": "stream",
     "text": [
      "Selecting previously unselected package libogg0:amd64.\r\n",
      "Preparing to unpack .../036-libogg0_1.3.5-3_amd64.deb ...\r\n",
      "Unpacking libogg0:amd64 (1.3.5-3) ...\r\n"
     ]
    },
    {
     "name": "stdout",
     "output_type": "stream",
     "text": [
      "Selecting previously unselected package libtheora0:amd64.\r\n",
      "Preparing to unpack .../037-libtheora0_1.1.1+dfsg.1-16.1+b1_amd64.deb ...\r\n",
      "Unpacking libtheora0:amd64 (1.1.1+dfsg.1-16.1+b1) ...\r\n"
     ]
    },
    {
     "name": "stdout",
     "output_type": "stream",
     "text": [
      "Selecting previously unselected package libtwolame0:amd64.\r\n",
      "Preparing to unpack .../038-libtwolame0_0.4.0-2_amd64.deb ...\r\n",
      "Unpacking libtwolame0:amd64 (0.4.0-2) ...\r\n"
     ]
    },
    {
     "name": "stdout",
     "output_type": "stream",
     "text": [
      "Selecting previously unselected package libvorbis0a:amd64.\r\n",
      "Preparing to unpack .../039-libvorbis0a_1.3.7-1_amd64.deb ...\r\n",
      "Unpacking libvorbis0a:amd64 (1.3.7-1) ...\r\n"
     ]
    },
    {
     "name": "stdout",
     "output_type": "stream",
     "text": [
      "Selecting previously unselected package libvorbisenc2:amd64.\r\n",
      "Preparing to unpack .../040-libvorbisenc2_1.3.7-1_amd64.deb ...\r\n",
      "Unpacking libvorbisenc2:amd64 (1.3.7-1) ...\r\n"
     ]
    },
    {
     "name": "stdout",
     "output_type": "stream",
     "text": [
      "Selecting previously unselected package libvpx7:amd64.\r\n",
      "Preparing to unpack .../041-libvpx7_1.12.0-1+deb12u2_amd64.deb ...\r\n"
     ]
    },
    {
     "name": "stdout",
     "output_type": "stream",
     "text": [
      "Unpacking libvpx7:amd64 (1.12.0-1+deb12u2) ...\r\n"
     ]
    },
    {
     "name": "stdout",
     "output_type": "stream",
     "text": [
      "Selecting previously unselected package libx264-164:amd64.\r\n",
      "Preparing to unpack .../042-libx264-164_2%3a0.164.3095+gitbaee400-3_amd64.deb ...\r\n",
      "Unpacking libx264-164:amd64 (2:0.164.3095+gitbaee400-3) ...\r\n"
     ]
    },
    {
     "name": "stdout",
     "output_type": "stream",
     "text": [
      "Selecting previously unselected package libxvidcore4:amd64.\r\n",
      "Preparing to unpack .../043-libxvidcore4_2%3a1.3.7-1_amd64.deb ...\r\n"
     ]
    },
    {
     "name": "stdout",
     "output_type": "stream",
     "text": [
      "Unpacking libxvidcore4:amd64 (2:1.3.7-1) ...\r\n"
     ]
    },
    {
     "name": "stdout",
     "output_type": "stream",
     "text": [
      "Selecting previously unselected package libzvbi-common.\r\n"
     ]
    },
    {
     "name": "stdout",
     "output_type": "stream",
     "text": [
      "Preparing to unpack .../044-libzvbi-common_0.2.41-1_all.deb ...\r\n",
      "Unpacking libzvbi-common (0.2.41-1) ...\r\n"
     ]
    },
    {
     "name": "stdout",
     "output_type": "stream",
     "text": [
      "Selecting previously unselected package libzvbi0:amd64.\r\n",
      "Preparing to unpack .../045-libzvbi0_0.2.41-1_amd64.deb ...\r\n",
      "Unpacking libzvbi0:amd64 (0.2.41-1) ...\r\n"
     ]
    },
    {
     "name": "stdout",
     "output_type": "stream",
     "text": [
      "Selecting previously unselected package libavcodec59:amd64.\r\n",
      "Preparing to unpack .../046-libavcodec59_7%3a5.1.4-0+deb12u1_amd64.deb ...\r\n",
      "Unpacking libavcodec59:amd64 (7:5.1.4-0+deb12u1) ...\r\n"
     ]
    },
    {
     "name": "stdout",
     "output_type": "stream",
     "text": [
      "Selecting previously unselected package libraw1394-11:amd64.\r\n"
     ]
    },
    {
     "name": "stdout",
     "output_type": "stream",
     "text": [
      "Preparing to unpack .../047-libraw1394-11_2.1.2-2_amd64.deb ...\r\n",
      "Unpacking libraw1394-11:amd64 (2.1.2-2) ...\r\n"
     ]
    },
    {
     "name": "stdout",
     "output_type": "stream",
     "text": [
      "Selecting previously unselected package libavc1394-0:amd64.\r\n",
      "Preparing to unpack .../048-libavc1394-0_0.5.4-5_amd64.deb ...\r\n"
     ]
    },
    {
     "name": "stdout",
     "output_type": "stream",
     "text": [
      "Unpacking libavc1394-0:amd64 (0.5.4-5) ...\r\n"
     ]
    },
    {
     "name": "stdout",
     "output_type": "stream",
     "text": [
      "Selecting previously unselected package libass9:amd64.\r\n",
      "Preparing to unpack .../049-libass9_1%3a0.17.1-1_amd64.deb ...\r\n"
     ]
    },
    {
     "name": "stdout",
     "output_type": "stream",
     "text": [
      "Unpacking libass9:amd64 (1:0.17.1-1) ...\r\n"
     ]
    },
    {
     "name": "stdout",
     "output_type": "stream",
     "text": [
      "Selecting previously unselected package libudfread0:amd64.\r\n",
      "Preparing to unpack .../050-libudfread0_1.1.2-1_amd64.deb ...\r\n",
      "Unpacking libudfread0:amd64 (1.1.2-1) ...\r\n"
     ]
    },
    {
     "name": "stdout",
     "output_type": "stream",
     "text": [
      "Selecting previously unselected package libbluray2:amd64.\r\n",
      "Preparing to unpack .../051-libbluray2_1%3a1.3.4-1_amd64.deb ...\r\n",
      "Unpacking libbluray2:amd64 (1:1.3.4-1) ...\r\n"
     ]
    },
    {
     "name": "stdout",
     "output_type": "stream",
     "text": [
      "Selecting previously unselected package libchromaprint1:amd64.\r\n",
      "Preparing to unpack .../052-libchromaprint1_1.5.1-2+b1_amd64.deb ...\r\n",
      "Unpacking libchromaprint1:amd64 (1.5.1-2+b1) ...\r\n"
     ]
    },
    {
     "name": "stdout",
     "output_type": "stream",
     "text": [
      "Selecting previously unselected package libgme0:amd64.\r\n",
      "Preparing to unpack .../053-libgme0_0.6.3-6_amd64.deb ...\r\n",
      "Unpacking libgme0:amd64 (0.6.3-6) ...\r\n"
     ]
    },
    {
     "name": "stdout",
     "output_type": "stream",
     "text": [
      "Selecting previously unselected package libmpg123-0:amd64.\r\n",
      "Preparing to unpack .../054-libmpg123-0_1.31.2-1_amd64.deb ...\r\n"
     ]
    },
    {
     "name": "stdout",
     "output_type": "stream",
     "text": [
      "Unpacking libmpg123-0:amd64 (1.31.2-1) ...\r\n"
     ]
    },
    {
     "name": "stdout",
     "output_type": "stream",
     "text": [
      "Selecting previously unselected package libvorbisfile3:amd64.\r\n",
      "Preparing to unpack .../055-libvorbisfile3_1.3.7-1_amd64.deb ...\r\n"
     ]
    },
    {
     "name": "stdout",
     "output_type": "stream",
     "text": [
      "Unpacking libvorbisfile3:amd64 (1.3.7-1) ...\r\n"
     ]
    },
    {
     "name": "stdout",
     "output_type": "stream",
     "text": [
      "Selecting previously unselected package libopenmpt0:amd64.\r\n",
      "Preparing to unpack .../056-libopenmpt0_0.6.9-1_amd64.deb ...\r\n"
     ]
    },
    {
     "name": "stdout",
     "output_type": "stream",
     "text": [
      "Unpacking libopenmpt0:amd64 (0.6.9-1) ...\r\n"
     ]
    },
    {
     "name": "stdout",
     "output_type": "stream",
     "text": [
      "Selecting previously unselected package librabbitmq4:amd64.\r\n",
      "Preparing to unpack .../057-librabbitmq4_0.11.0-1+b1_amd64.deb ...\r\n",
      "Unpacking librabbitmq4:amd64 (0.11.0-1+b1) ...\r\n"
     ]
    },
    {
     "name": "stdout",
     "output_type": "stream",
     "text": [
      "Selecting previously unselected package libcjson1:amd64.\r\n",
      "Preparing to unpack .../058-libcjson1_1.7.15-1_amd64.deb ...\r\n",
      "Unpacking libcjson1:amd64 (1.7.15-1) ...\r\n"
     ]
    },
    {
     "name": "stdout",
     "output_type": "stream",
     "text": [
      "Selecting previously unselected package libmbedcrypto7:amd64.\r\n",
      "Preparing to unpack .../059-libmbedcrypto7_2.28.3-1_amd64.deb ...\r\n",
      "Unpacking libmbedcrypto7:amd64 (2.28.3-1) ...\r\n"
     ]
    },
    {
     "name": "stdout",
     "output_type": "stream",
     "text": [
      "Selecting previously unselected package librist4:amd64.\r\n",
      "Preparing to unpack .../060-librist4_0.2.7+dfsg-1_amd64.deb ...\r\n",
      "Unpacking librist4:amd64 (0.2.7+dfsg-1) ...\r\n"
     ]
    },
    {
     "name": "stdout",
     "output_type": "stream",
     "text": [
      "Selecting previously unselected package libsrt1.5-gnutls:amd64.\r\n",
      "Preparing to unpack .../061-libsrt1.5-gnutls_1.5.1-1_amd64.deb ...\r\n",
      "Unpacking libsrt1.5-gnutls:amd64 (1.5.1-1) ...\r\n"
     ]
    },
    {
     "name": "stdout",
     "output_type": "stream",
     "text": [
      "Selecting previously unselected package libssh-gcrypt-4:amd64.\r\n",
      "Preparing to unpack .../062-libssh-gcrypt-4_0.10.6-0+deb12u1_amd64.deb ...\r\n",
      "Unpacking libssh-gcrypt-4:amd64 (0.10.6-0+deb12u1) ...\r\n"
     ]
    },
    {
     "name": "stdout",
     "output_type": "stream",
     "text": [
      "Selecting previously unselected package libnorm1:amd64.\r\n",
      "Preparing to unpack .../063-libnorm1_1.5.9+dfsg-2_amd64.deb ...\r\n",
      "Unpacking libnorm1:amd64 (1.5.9+dfsg-2) ...\r\n"
     ]
    },
    {
     "name": "stdout",
     "output_type": "stream",
     "text": [
      "Selecting previously unselected package libpgm-5.3-0:amd64.\r\n",
      "Preparing to unpack .../064-libpgm-5.3-0_5.3.128~dfsg-2_amd64.deb ...\r\n",
      "Unpacking libpgm-5.3-0:amd64 (5.3.128~dfsg-2) ...\r\n"
     ]
    },
    {
     "name": "stdout",
     "output_type": "stream",
     "text": [
      "Selecting previously unselected package libsodium23:amd64.\r\n",
      "Preparing to unpack .../065-libsodium23_1.0.18-1_amd64.deb ...\r\n",
      "Unpacking libsodium23:amd64 (1.0.18-1) ...\r\n"
     ]
    },
    {
     "name": "stdout",
     "output_type": "stream",
     "text": [
      "Selecting previously unselected package libzmq5:amd64.\r\n",
      "Preparing to unpack .../066-libzmq5_4.3.4-6_amd64.deb ...\r\n"
     ]
    },
    {
     "name": "stdout",
     "output_type": "stream",
     "text": [
      "Unpacking libzmq5:amd64 (4.3.4-6) ...\r\n"
     ]
    },
    {
     "name": "stdout",
     "output_type": "stream",
     "text": [
      "Selecting previously unselected package libavformat59:amd64.\r\n",
      "Preparing to unpack .../067-libavformat59_7%3a5.1.4-0+deb12u1_amd64.deb ...\r\n",
      "Unpacking libavformat59:amd64 (7:5.1.4-0+deb12u1) ...\r\n"
     ]
    },
    {
     "name": "stdout",
     "output_type": "stream",
     "text": [
      "Selecting previously unselected package libbs2b0:amd64.\r\n",
      "Preparing to unpack .../068-libbs2b0_3.1.0+dfsg-7_amd64.deb ...\r\n",
      "Unpacking libbs2b0:amd64 (3.1.0+dfsg-7) ...\r\n"
     ]
    },
    {
     "name": "stdout",
     "output_type": "stream",
     "text": [
      "Selecting previously unselected package libflite1:amd64.\r\n",
      "Preparing to unpack .../069-libflite1_2.2-5_amd64.deb ...\r\n"
     ]
    },
    {
     "name": "stdout",
     "output_type": "stream",
     "text": [
      "Unpacking libflite1:amd64 (2.2-5) ...\r\n"
     ]
    },
    {
     "name": "stdout",
     "output_type": "stream",
     "text": [
      "Selecting previously unselected package libserd-0-0:amd64.\r\n",
      "Preparing to unpack .../070-libserd-0-0_0.30.16-1_amd64.deb ...\r\n",
      "Unpacking libserd-0-0:amd64 (0.30.16-1) ...\r\n"
     ]
    },
    {
     "name": "stdout",
     "output_type": "stream",
     "text": [
      "Selecting previously unselected package libsord-0-0:amd64.\r\n",
      "Preparing to unpack .../071-libsord-0-0_0.16.14+git221008-1_amd64.deb ...\r\n"
     ]
    },
    {
     "name": "stdout",
     "output_type": "stream",
     "text": [
      "Unpacking libsord-0-0:amd64 (0.16.14+git221008-1) ...\r\n"
     ]
    },
    {
     "name": "stdout",
     "output_type": "stream",
     "text": [
      "Selecting previously unselected package libsratom-0-0:amd64.\r\n",
      "Preparing to unpack .../072-libsratom-0-0_0.6.14-1_amd64.deb ...\r\n",
      "Unpacking libsratom-0-0:amd64 (0.6.14-1) ...\r\n"
     ]
    },
    {
     "name": "stdout",
     "output_type": "stream",
     "text": [
      "Selecting previously unselected package liblilv-0-0:amd64.\r\n",
      "Preparing to unpack .../073-liblilv-0-0_0.24.14-1_amd64.deb ...\r\n",
      "Unpacking liblilv-0-0:amd64 (0.24.14-1) ...\r\n"
     ]
    },
    {
     "name": "stdout",
     "output_type": "stream",
     "text": [
      "Selecting previously unselected package libmysofa1:amd64.\r\n",
      "Preparing to unpack .../074-libmysofa1_1.3.1~dfsg0-1_amd64.deb ...\r\n",
      "Unpacking libmysofa1:amd64 (1.3.1~dfsg0-1) ...\r\n"
     ]
    },
    {
     "name": "stdout",
     "output_type": "stream",
     "text": [
      "Selecting previously unselected package libepoxy0:amd64.\r\n",
      "Preparing to unpack .../075-libepoxy0_1.5.10-1_amd64.deb ...\r\n",
      "Unpacking libepoxy0:amd64 (1.5.10-1) ...\r\n"
     ]
    },
    {
     "name": "stdout",
     "output_type": "stream",
     "text": [
      "Selecting previously unselected package libvulkan1:amd64.\r\n",
      "Preparing to unpack .../076-libvulkan1_1.3.239.0-1_amd64.deb ...\r\n",
      "Unpacking libvulkan1:amd64 (1.3.239.0-1) ...\r\n"
     ]
    },
    {
     "name": "stdout",
     "output_type": "stream",
     "text": [
      "Selecting previously unselected package libplacebo208:amd64.\r\n",
      "Preparing to unpack .../077-libplacebo208_4.208.0-3_amd64.deb ...\r\n"
     ]
    },
    {
     "name": "stdout",
     "output_type": "stream",
     "text": [
      "Unpacking libplacebo208:amd64 (4.208.0-3) ...\r\n"
     ]
    },
    {
     "name": "stdout",
     "output_type": "stream",
     "text": [
      "Selecting previously unselected package libblas3:amd64.\r\n",
      "Preparing to unpack .../078-libblas3_3.11.0-2_amd64.deb ...\r\n",
      "Unpacking libblas3:amd64 (3.11.0-2) ...\r\n"
     ]
    },
    {
     "name": "stdout",
     "output_type": "stream",
     "text": [
      "Selecting previously unselected package libgfortran5:amd64.\r\n",
      "Preparing to unpack .../079-libgfortran5_12.2.0-14_amd64.deb ...\r\n"
     ]
    },
    {
     "name": "stdout",
     "output_type": "stream",
     "text": [
      "Unpacking libgfortran5:amd64 (12.2.0-14) ...\r\n"
     ]
    },
    {
     "name": "stdout",
     "output_type": "stream",
     "text": [
      "Selecting previously unselected package liblapack3:amd64.\r\n",
      "Preparing to unpack .../080-liblapack3_3.11.0-2_amd64.deb ...\r\n",
      "Unpacking liblapack3:amd64 (3.11.0-2) ...\r\n"
     ]
    },
    {
     "name": "stdout",
     "output_type": "stream",
     "text": [
      "Selecting previously unselected package libasyncns0:amd64.\r\n",
      "Preparing to unpack .../081-libasyncns0_0.8-6+b3_amd64.deb ...\r\n"
     ]
    },
    {
     "name": "stdout",
     "output_type": "stream",
     "text": [
      "Unpacking libasyncns0:amd64 (0.8-6+b3) ...\r\n"
     ]
    },
    {
     "name": "stdout",
     "output_type": "stream",
     "text": [
      "Selecting previously unselected package libflac12:amd64.\r\n",
      "Preparing to unpack .../082-libflac12_1.4.2+ds-2_amd64.deb ...\r\n"
     ]
    },
    {
     "name": "stdout",
     "output_type": "stream",
     "text": [
      "Unpacking libflac12:amd64 (1.4.2+ds-2) ...\r\n"
     ]
    },
    {
     "name": "stdout",
     "output_type": "stream",
     "text": [
      "Selecting previously unselected package libsndfile1:amd64.\r\n",
      "Preparing to unpack .../083-libsndfile1_1.2.0-1_amd64.deb ...\r\n"
     ]
    },
    {
     "name": "stdout",
     "output_type": "stream",
     "text": [
      "Unpacking libsndfile1:amd64 (1.2.0-1) ...\r\n"
     ]
    },
    {
     "name": "stdout",
     "output_type": "stream",
     "text": [
      "Selecting previously unselected package libpulse0:amd64.\r\n",
      "Preparing to unpack .../084-libpulse0_16.1+dfsg1-2+b1_amd64.deb ...\r\n"
     ]
    },
    {
     "name": "stdout",
     "output_type": "stream",
     "text": [
      "Unpacking libpulse0:amd64 (16.1+dfsg1-2+b1) ...\r\n"
     ]
    },
    {
     "name": "stdout",
     "output_type": "stream",
     "text": [
      "Selecting previously unselected package libsphinxbase3:amd64.\r\n",
      "Preparing to unpack .../085-libsphinxbase3_0.8+5prealpha+1-16_amd64.deb ...\r\n",
      "Unpacking libsphinxbase3:amd64 (0.8+5prealpha+1-16) ...\r\n"
     ]
    },
    {
     "name": "stdout",
     "output_type": "stream",
     "text": [
      "Selecting previously unselected package libpocketsphinx3:amd64.\r\n",
      "Preparing to unpack .../086-libpocketsphinx3_0.8+5prealpha+1-15_amd64.deb ...\r\n",
      "Unpacking libpocketsphinx3:amd64 (0.8+5prealpha+1-15) ...\r\n"
     ]
    },
    {
     "name": "stdout",
     "output_type": "stream",
     "text": [
      "Selecting previously unselected package libpostproc56:amd64.\r\n",
      "Preparing to unpack .../087-libpostproc56_7%3a5.1.4-0+deb12u1_amd64.deb ...\r\n",
      "Unpacking libpostproc56:amd64 (7:5.1.4-0+deb12u1) ...\r\n"
     ]
    },
    {
     "name": "stdout",
     "output_type": "stream",
     "text": [
      "Selecting previously unselected package librubberband2:amd64.\r\n",
      "Preparing to unpack .../088-librubberband2_3.1.2+dfsg0-1_amd64.deb ...\r\n",
      "Unpacking librubberband2:amd64 (3.1.2+dfsg0-1) ...\r\n"
     ]
    },
    {
     "name": "stdout",
     "output_type": "stream",
     "text": [
      "Selecting previously unselected package libswscale6:amd64.\r\n",
      "Preparing to unpack .../089-libswscale6_7%3a5.1.4-0+deb12u1_amd64.deb ...\r\n",
      "Unpacking libswscale6:amd64 (7:5.1.4-0+deb12u1) ...\r\n"
     ]
    },
    {
     "name": "stdout",
     "output_type": "stream",
     "text": [
      "Selecting previously unselected package libvidstab1.1:amd64.\r\n",
      "Preparing to unpack .../090-libvidstab1.1_1.1.0-2+b1_amd64.deb ...\r\n",
      "Unpacking libvidstab1.1:amd64 (1.1.0-2+b1) ...\r\n"
     ]
    },
    {
     "name": "stdout",
     "output_type": "stream",
     "text": [
      "Selecting previously unselected package libzimg2:amd64.\r\n",
      "Preparing to unpack .../091-libzimg2_3.0.4+ds1-1_amd64.deb ...\r\n",
      "Unpacking libzimg2:amd64 (3.0.4+ds1-1) ...\r\n"
     ]
    },
    {
     "name": "stdout",
     "output_type": "stream",
     "text": [
      "Selecting previously unselected package libavfilter8:amd64.\r\n",
      "Preparing to unpack .../092-libavfilter8_7%3a5.1.4-0+deb12u1_amd64.deb ...\r\n"
     ]
    },
    {
     "name": "stdout",
     "output_type": "stream",
     "text": [
      "Unpacking libavfilter8:amd64 (7:5.1.4-0+deb12u1) ...\r\n"
     ]
    },
    {
     "name": "stdout",
     "output_type": "stream",
     "text": [
      "Selecting previously unselected package libslang2:amd64.\r\n",
      "Preparing to unpack .../093-libslang2_2.3.3-3_amd64.deb ...\r\n",
      "Unpacking libslang2:amd64 (2.3.3-3) ...\r\n"
     ]
    },
    {
     "name": "stdout",
     "output_type": "stream",
     "text": [
      "Selecting previously unselected package libcaca0:amd64.\r\n"
     ]
    },
    {
     "name": "stdout",
     "output_type": "stream",
     "text": [
      "Preparing to unpack .../094-libcaca0_0.99.beta20-3_amd64.deb ...\r\n",
      "Unpacking libcaca0:amd64 (0.99.beta20-3) ...\r\n"
     ]
    },
    {
     "name": "stdout",
     "output_type": "stream",
     "text": [
      "Selecting previously unselected package libcdio19:amd64.\r\n",
      "Preparing to unpack .../095-libcdio19_2.1.0-4_amd64.deb ...\r\n"
     ]
    },
    {
     "name": "stdout",
     "output_type": "stream",
     "text": [
      "Unpacking libcdio19:amd64 (2.1.0-4) ...\r\n"
     ]
    },
    {
     "name": "stdout",
     "output_type": "stream",
     "text": [
      "Selecting previously unselected package libcdio-cdda2:amd64.\r\n",
      "Preparing to unpack .../096-libcdio-cdda2_10.2+2.0.1-1_amd64.deb ...\r\n",
      "Unpacking libcdio-cdda2:amd64 (10.2+2.0.1-1) ...\r\n"
     ]
    },
    {
     "name": "stdout",
     "output_type": "stream",
     "text": [
      "Selecting previously unselected package libcdio-paranoia2:amd64.\r\n",
      "Preparing to unpack .../097-libcdio-paranoia2_10.2+2.0.1-1_amd64.deb ...\r\n",
      "Unpacking libcdio-paranoia2:amd64 (10.2+2.0.1-1) ...\r\n"
     ]
    },
    {
     "name": "stdout",
     "output_type": "stream",
     "text": [
      "Selecting previously unselected package libusb-1.0-0:amd64.\r\n",
      "Preparing to unpack .../098-libusb-1.0-0_2%3a1.0.26-1_amd64.deb ...\r\n",
      "Unpacking libusb-1.0-0:amd64 (2:1.0.26-1) ...\r\n"
     ]
    },
    {
     "name": "stdout",
     "output_type": "stream",
     "text": [
      "Selecting previously unselected package libdc1394-25:amd64.\r\n",
      "Preparing to unpack .../099-libdc1394-25_2.2.6-4_amd64.deb ...\r\n",
      "Unpacking libdc1394-25:amd64 (2.2.6-4) ...\r\n"
     ]
    },
    {
     "name": "stdout",
     "output_type": "stream",
     "text": [
      "Selecting previously unselected package libglvnd0:amd64.\r\n",
      "Preparing to unpack .../100-libglvnd0_1.6.0-1_amd64.deb ...\r\n",
      "Unpacking libglvnd0:amd64 (1.6.0-1) ...\r\n"
     ]
    },
    {
     "name": "stdout",
     "output_type": "stream",
     "text": [
      "Selecting previously unselected package libglapi-mesa:amd64.\r\n",
      "Preparing to unpack .../101-libglapi-mesa_22.3.6-1+deb12u1_amd64.deb ...\r\n",
      "Unpacking libglapi-mesa:amd64 (22.3.6-1+deb12u1) ...\r\n"
     ]
    },
    {
     "name": "stdout",
     "output_type": "stream",
     "text": [
      "Selecting previously unselected package libxcb-dri2-0:amd64.\r\n",
      "Preparing to unpack .../102-libxcb-dri2-0_1.15-1_amd64.deb ...\r\n",
      "Unpacking libxcb-dri2-0:amd64 (1.15-1) ...\r\n"
     ]
    },
    {
     "name": "stdout",
     "output_type": "stream",
     "text": [
      "Selecting previously unselected package libxcb-glx0:amd64.\r\n",
      "Preparing to unpack .../103-libxcb-glx0_1.15-1_amd64.deb ...\r\n",
      "Unpacking libxcb-glx0:amd64 (1.15-1) ...\r\n"
     ]
    },
    {
     "name": "stdout",
     "output_type": "stream",
     "text": [
      "Selecting previously unselected package libxcb-present0:amd64.\r\n",
      "Preparing to unpack .../104-libxcb-present0_1.15-1_amd64.deb ...\r\n"
     ]
    },
    {
     "name": "stdout",
     "output_type": "stream",
     "text": [
      "Unpacking libxcb-present0:amd64 (1.15-1) ...\r\n"
     ]
    },
    {
     "name": "stdout",
     "output_type": "stream",
     "text": [
      "Selecting previously unselected package libxcb-randr0:amd64.\r\n",
      "Preparing to unpack .../105-libxcb-randr0_1.15-1_amd64.deb ...\r\n",
      "Unpacking libxcb-randr0:amd64 (1.15-1) ...\r\n"
     ]
    },
    {
     "name": "stdout",
     "output_type": "stream",
     "text": [
      "Selecting previously unselected package libxcb-sync1:amd64.\r\n",
      "Preparing to unpack .../106-libxcb-sync1_1.15-1_amd64.deb ...\r\n",
      "Unpacking libxcb-sync1:amd64 (1.15-1) ...\r\n"
     ]
    },
    {
     "name": "stdout",
     "output_type": "stream",
     "text": [
      "Selecting previously unselected package libxcb-xfixes0:amd64.\r\n",
      "Preparing to unpack .../107-libxcb-xfixes0_1.15-1_amd64.deb ...\r\n",
      "Unpacking libxcb-xfixes0:amd64 (1.15-1) ...\r\n"
     ]
    },
    {
     "name": "stdout",
     "output_type": "stream",
     "text": [
      "Selecting previously unselected package libxshmfence1:amd64.\r\n",
      "Preparing to unpack .../108-libxshmfence1_1.3-1_amd64.deb ...\r\n",
      "Unpacking libxshmfence1:amd64 (1.3-1) ...\r\n"
     ]
    },
    {
     "name": "stdout",
     "output_type": "stream",
     "text": [
      "Selecting previously unselected package libxxf86vm1:amd64.\r\n",
      "Preparing to unpack .../109-libxxf86vm1_1%3a1.1.4-1+b2_amd64.deb ...\r\n",
      "Unpacking libxxf86vm1:amd64 (1:1.1.4-1+b2) ...\r\n"
     ]
    },
    {
     "name": "stdout",
     "output_type": "stream",
     "text": [
      "Selecting previously unselected package libdrm-amdgpu1:amd64.\r\n",
      "Preparing to unpack .../110-libdrm-amdgpu1_2.4.114-1+b1_amd64.deb ...\r\n",
      "Unpacking libdrm-amdgpu1:amd64 (2.4.114-1+b1) ...\r\n"
     ]
    },
    {
     "name": "stdout",
     "output_type": "stream",
     "text": [
      "Selecting previously unselected package libpciaccess0:amd64.\r\n",
      "Preparing to unpack .../111-libpciaccess0_0.17-2_amd64.deb ...\r\n",
      "Unpacking libpciaccess0:amd64 (0.17-2) ...\r\n"
     ]
    },
    {
     "name": "stdout",
     "output_type": "stream",
     "text": [
      "Selecting previously unselected package libdrm-intel1:amd64.\r\n",
      "Preparing to unpack .../112-libdrm-intel1_2.4.114-1+b1_amd64.deb ...\r\n",
      "Unpacking libdrm-intel1:amd64 (2.4.114-1+b1) ...\r\n"
     ]
    },
    {
     "name": "stdout",
     "output_type": "stream",
     "text": [
      "Selecting previously unselected package libdrm-nouveau2:amd64.\r\n",
      "Preparing to unpack .../113-libdrm-nouveau2_2.4.114-1+b1_amd64.deb ...\r\n",
      "Unpacking libdrm-nouveau2:amd64 (2.4.114-1+b1) ...\r\n"
     ]
    },
    {
     "name": "stdout",
     "output_type": "stream",
     "text": [
      "Selecting previously unselected package libdrm-radeon1:amd64.\r\n",
      "Preparing to unpack .../114-libdrm-radeon1_2.4.114-1+b1_amd64.deb ...\r\n",
      "Unpacking libdrm-radeon1:amd64 (2.4.114-1+b1) ...\r\n"
     ]
    },
    {
     "name": "stdout",
     "output_type": "stream",
     "text": [
      "Selecting previously unselected package libz3-4:amd64.\r\n",
      "Preparing to unpack .../115-libz3-4_4.8.12-3.1_amd64.deb ...\r\n",
      "Unpacking libz3-4:amd64 (4.8.12-3.1) ...\r\n"
     ]
    },
    {
     "name": "stdout",
     "output_type": "stream",
     "text": [
      "Selecting previously unselected package libllvm15:amd64.\r\n",
      "Preparing to unpack .../116-libllvm15_1%3a15.0.6-4+b1_amd64.deb ...\r\n"
     ]
    },
    {
     "name": "stdout",
     "output_type": "stream",
     "text": [
      "Unpacking libllvm15:amd64 (1:15.0.6-4+b1) ...\r\n"
     ]
    },
    {
     "name": "stdout",
     "output_type": "stream",
     "text": [
      "Selecting previously unselected package libsensors-config.\r\n",
      "Preparing to unpack .../117-libsensors-config_1%3a3.6.0-7.1_all.deb ...\r\n",
      "Unpacking libsensors-config (1:3.6.0-7.1) ...\r\n"
     ]
    },
    {
     "name": "stdout",
     "output_type": "stream",
     "text": [
      "Selecting previously unselected package libsensors5:amd64.\r\n",
      "Preparing to unpack .../118-libsensors5_1%3a3.6.0-7.1_amd64.deb ...\r\n"
     ]
    },
    {
     "name": "stdout",
     "output_type": "stream",
     "text": [
      "Unpacking libsensors5:amd64 (1:3.6.0-7.1) ...\r\n"
     ]
    },
    {
     "name": "stdout",
     "output_type": "stream",
     "text": [
      "Selecting previously unselected package libgl1-mesa-dri:amd64.\r\n",
      "Preparing to unpack .../119-libgl1-mesa-dri_22.3.6-1+deb12u1_amd64.deb ...\r\n",
      "Unpacking libgl1-mesa-dri:amd64 (22.3.6-1+deb12u1) ...\r\n"
     ]
    },
    {
     "name": "stdout",
     "output_type": "stream",
     "text": [
      "Selecting previously unselected package libglx-mesa0:amd64.\r\n",
      "Preparing to unpack .../120-libglx-mesa0_22.3.6-1+deb12u1_amd64.deb ...\r\n",
      "Unpacking libglx-mesa0:amd64 (22.3.6-1+deb12u1) ...\r\n"
     ]
    },
    {
     "name": "stdout",
     "output_type": "stream",
     "text": [
      "Selecting previously unselected package libglx0:amd64.\r\n",
      "Preparing to unpack .../121-libglx0_1.6.0-1_amd64.deb ...\r\n",
      "Unpacking libglx0:amd64 (1.6.0-1) ...\r\n"
     ]
    },
    {
     "name": "stdout",
     "output_type": "stream",
     "text": [
      "Selecting previously unselected package libgl1:amd64.\r\n",
      "Preparing to unpack .../122-libgl1_1.6.0-1_amd64.deb ...\r\n",
      "Unpacking libgl1:amd64 (1.6.0-1) ...\r\n"
     ]
    },
    {
     "name": "stdout",
     "output_type": "stream",
     "text": [
      "Selecting previously unselected package libiec61883-0:amd64.\r\n",
      "Preparing to unpack .../123-libiec61883-0_1.2.0-6+b1_amd64.deb ...\r\n",
      "Unpacking libiec61883-0:amd64 (1.2.0-6+b1) ...\r\n"
     ]
    },
    {
     "name": "stdout",
     "output_type": "stream",
     "text": [
      "Selecting previously unselected package libsamplerate0:amd64.\r\n",
      "Preparing to unpack .../124-libsamplerate0_0.2.2-3_amd64.deb ...\r\n",
      "Unpacking libsamplerate0:amd64 (0.2.2-3) ...\r\n"
     ]
    },
    {
     "name": "stdout",
     "output_type": "stream",
     "text": [
      "Selecting previously unselected package libjack-jackd2-0:amd64.\r\n",
      "Preparing to unpack .../125-libjack-jackd2-0_1.9.21~dfsg-3_amd64.deb ...\r\n",
      "Unpacking libjack-jackd2-0:amd64 (1.9.21~dfsg-3) ...\r\n"
     ]
    },
    {
     "name": "stdout",
     "output_type": "stream",
     "text": [
      "Selecting previously unselected package libopenal-data.\r\n",
      "Preparing to unpack .../126-libopenal-data_1%3a1.19.1-2_all.deb ...\r\n"
     ]
    },
    {
     "name": "stdout",
     "output_type": "stream",
     "text": [
      "Unpacking libopenal-data (1:1.19.1-2) ...\r\n"
     ]
    },
    {
     "name": "stdout",
     "output_type": "stream",
     "text": [
      "Selecting previously unselected package libsndio7.0:amd64.\r\n",
      "Preparing to unpack .../127-libsndio7.0_1.9.0-0.3+b2_amd64.deb ...\r\n",
      "Unpacking libsndio7.0:amd64 (1.9.0-0.3+b2) ...\r\n"
     ]
    },
    {
     "name": "stdout",
     "output_type": "stream",
     "text": [
      "Selecting previously unselected package libopenal1:amd64.\r\n",
      "Preparing to unpack .../128-libopenal1_1%3a1.19.1-2_amd64.deb ...\r\n"
     ]
    },
    {
     "name": "stdout",
     "output_type": "stream",
     "text": [
      "Unpacking libopenal1:amd64 (1:1.19.1-2) ...\r\n"
     ]
    },
    {
     "name": "stdout",
     "output_type": "stream",
     "text": [
      "Selecting previously unselected package libwayland-client0:amd64.\r\n",
      "Preparing to unpack .../129-libwayland-client0_1.21.0-1_amd64.deb ...\r\n"
     ]
    },
    {
     "name": "stdout",
     "output_type": "stream",
     "text": [
      "Unpacking libwayland-client0:amd64 (1.21.0-1) ...\r\n"
     ]
    },
    {
     "name": "stdout",
     "output_type": "stream",
     "text": [
      "Selecting previously unselected package libdecor-0-0:amd64.\r\n",
      "Preparing to unpack .../130-libdecor-0-0_0.1.1-2_amd64.deb ...\r\n",
      "Unpacking libdecor-0-0:amd64 (0.1.1-2) ...\r\n"
     ]
    },
    {
     "name": "stdout",
     "output_type": "stream",
     "text": [
      "Selecting previously unselected package libwayland-server0:amd64.\r\n",
      "Preparing to unpack .../131-libwayland-server0_1.21.0-1_amd64.deb ...\r\n",
      "Unpacking libwayland-server0:amd64 (1.21.0-1) ...\r\n"
     ]
    },
    {
     "name": "stdout",
     "output_type": "stream",
     "text": [
      "Selecting previously unselected package libgbm1:amd64.\r\n",
      "Preparing to unpack .../132-libgbm1_22.3.6-1+deb12u1_amd64.deb ...\r\n",
      "Unpacking libgbm1:amd64 (22.3.6-1+deb12u1) ...\r\n"
     ]
    },
    {
     "name": "stdout",
     "output_type": "stream",
     "text": [
      "Selecting previously unselected package libwayland-cursor0:amd64.\r\n",
      "Preparing to unpack .../133-libwayland-cursor0_1.21.0-1_amd64.deb ...\r\n",
      "Unpacking libwayland-cursor0:amd64 (1.21.0-1) ...\r\n"
     ]
    },
    {
     "name": "stdout",
     "output_type": "stream",
     "text": [
      "Selecting previously unselected package libwayland-egl1:amd64.\r\n",
      "Preparing to unpack .../134-libwayland-egl1_1.21.0-1_amd64.deb ...\r\n",
      "Unpacking libwayland-egl1:amd64 (1.21.0-1) ...\r\n"
     ]
    },
    {
     "name": "stdout",
     "output_type": "stream",
     "text": [
      "Selecting previously unselected package libxcursor1:amd64.\r\n",
      "Preparing to unpack .../135-libxcursor1_1%3a1.2.1-1_amd64.deb ...\r\n",
      "Unpacking libxcursor1:amd64 (1:1.2.1-1) ...\r\n"
     ]
    },
    {
     "name": "stdout",
     "output_type": "stream",
     "text": [
      "Selecting previously unselected package libxi6:amd64.\r\n",
      "Preparing to unpack .../136-libxi6_2%3a1.8-1+b1_amd64.deb ...\r\n",
      "Unpacking libxi6:amd64 (2:1.8-1+b1) ...\r\n"
     ]
    },
    {
     "name": "stdout",
     "output_type": "stream",
     "text": [
      "Selecting previously unselected package xkb-data.\r\n",
      "Preparing to unpack .../137-xkb-data_2.35.1-1_all.deb ...\r\n",
      "Unpacking xkb-data (2.35.1-1) ...\r\n"
     ]
    },
    {
     "name": "stdout",
     "output_type": "stream",
     "text": [
      "Selecting previously unselected package libxkbcommon0:amd64.\r\n",
      "Preparing to unpack .../138-libxkbcommon0_1.5.0-1_amd64.deb ...\r\n",
      "Unpacking libxkbcommon0:amd64 (1.5.0-1) ...\r\n"
     ]
    },
    {
     "name": "stdout",
     "output_type": "stream",
     "text": [
      "Selecting previously unselected package libxrandr2:amd64.\r\n",
      "Preparing to unpack .../139-libxrandr2_2%3a1.5.2-2+b1_amd64.deb ...\r\n",
      "Unpacking libxrandr2:amd64 (2:1.5.2-2+b1) ...\r\n"
     ]
    },
    {
     "name": "stdout",
     "output_type": "stream",
     "text": [
      "Selecting previously unselected package libsdl2-2.0-0:amd64.\r\n",
      "Preparing to unpack .../140-libsdl2-2.0-0_2.26.5+dfsg-1_amd64.deb ...\r\n",
      "Unpacking libsdl2-2.0-0:amd64 (2.26.5+dfsg-1) ...\r\n"
     ]
    },
    {
     "name": "stdout",
     "output_type": "stream",
     "text": [
      "Selecting previously unselected package libxcb-shape0:amd64.\r\n",
      "Preparing to unpack .../141-libxcb-shape0_1.15-1_amd64.deb ...\r\n",
      "Unpacking libxcb-shape0:amd64 (1.15-1) ...\r\n"
     ]
    },
    {
     "name": "stdout",
     "output_type": "stream",
     "text": [
      "Selecting previously unselected package libxv1:amd64.\r\n",
      "Preparing to unpack .../142-libxv1_2%3a1.0.11-1.1_amd64.deb ...\r\n",
      "Unpacking libxv1:amd64 (2:1.0.11-1.1) ...\r\n"
     ]
    },
    {
     "name": "stdout",
     "output_type": "stream",
     "text": [
      "Selecting previously unselected package libavdevice59:amd64.\r\n",
      "Preparing to unpack .../143-libavdevice59_7%3a5.1.4-0+deb12u1_amd64.deb ...\r\n",
      "Unpacking libavdevice59:amd64 (7:5.1.4-0+deb12u1) ...\r\n"
     ]
    },
    {
     "name": "stdout",
     "output_type": "stream",
     "text": [
      "Selecting previously unselected package ffmpeg.\r\n",
      "Preparing to unpack .../144-ffmpeg_7%3a5.1.4-0+deb12u1_amd64.deb ...\r\n",
      "Unpacking ffmpeg (7:5.1.4-0+deb12u1) ...\r\n"
     ]
    },
    {
     "name": "stdout",
     "output_type": "stream",
     "text": [
      "Selecting previously unselected package i965-va-driver:amd64.\r\n",
      "Preparing to unpack .../145-i965-va-driver_2.4.1+dfsg1-1_amd64.deb ...\r\n",
      "Unpacking i965-va-driver:amd64 (2.4.1+dfsg1-1) ...\r\n"
     ]
    },
    {
     "name": "stdout",
     "output_type": "stream",
     "text": [
      "Selecting previously unselected package libigdgmm12:amd64.\r\n",
      "Preparing to unpack .../146-libigdgmm12_22.3.3+ds1-1_amd64.deb ...\r\n",
      "Unpacking libigdgmm12:amd64 (22.3.3+ds1-1) ...\r\n"
     ]
    },
    {
     "name": "stdout",
     "output_type": "stream",
     "text": [
      "Selecting previously unselected package intel-media-va-driver:amd64.\r\n",
      "Preparing to unpack .../147-intel-media-va-driver_23.1.1+dfsg1-1_amd64.deb ...\r\n"
     ]
    },
    {
     "name": "stdout",
     "output_type": "stream",
     "text": [
      "Unpacking intel-media-va-driver:amd64 (23.1.1+dfsg1-1) ...\r\n"
     ]
    },
    {
     "name": "stdout",
     "output_type": "stream",
     "text": [
      "Selecting previously unselected package libaacs0:amd64.\r\n",
      "Preparing to unpack .../148-libaacs0_0.11.1-2_amd64.deb ...\r\n",
      "Unpacking libaacs0:amd64 (0.11.1-2) ...\r\n"
     ]
    },
    {
     "name": "stdout",
     "output_type": "stream",
     "text": [
      "Selecting previously unselected package libbdplus0:amd64.\r\n",
      "Preparing to unpack .../149-libbdplus0_0.2.0-3_amd64.deb ...\r\n",
      "Unpacking libbdplus0:amd64 (0.2.0-3) ...\r\n"
     ]
    },
    {
     "name": "stdout",
     "output_type": "stream",
     "text": [
      "Selecting previously unselected package libdecor-0-plugin-1-cairo:amd64.\r\n",
      "Preparing to unpack .../150-libdecor-0-plugin-1-cairo_0.1.1-2_amd64.deb ...\r\n"
     ]
    },
    {
     "name": "stdout",
     "output_type": "stream",
     "text": [
      "Unpacking libdecor-0-plugin-1-cairo:amd64 (0.1.1-2) ...\r\n"
     ]
    },
    {
     "name": "stdout",
     "output_type": "stream",
     "text": [
      "Selecting previously unselected package libvdpau-va-gl1:amd64.\r\n",
      "Preparing to unpack .../151-libvdpau-va-gl1_0.4.2-1+b1_amd64.deb ...\r\n",
      "Unpacking libvdpau-va-gl1:amd64 (0.4.2-1+b1) ...\r\n"
     ]
    },
    {
     "name": "stdout",
     "output_type": "stream",
     "text": [
      "Selecting previously unselected package mesa-va-drivers:amd64.\r\n",
      "Preparing to unpack .../152-mesa-va-drivers_22.3.6-1+deb12u1_amd64.deb ...\r\n",
      "Unpacking mesa-va-drivers:amd64 (22.3.6-1+deb12u1) ...\r\n"
     ]
    },
    {
     "name": "stdout",
     "output_type": "stream",
     "text": [
      "Selecting previously unselected package mesa-vdpau-drivers:amd64.\r\n",
      "Preparing to unpack .../153-mesa-vdpau-drivers_22.3.6-1+deb12u1_amd64.deb ...\r\n",
      "Unpacking mesa-vdpau-drivers:amd64 (22.3.6-1+deb12u1) ...\r\n"
     ]
    },
    {
     "name": "stdout",
     "output_type": "stream",
     "text": [
      "Selecting previously unselected package mesa-vulkan-drivers:amd64.\r\n"
     ]
    },
    {
     "name": "stdout",
     "output_type": "stream",
     "text": [
      "Preparing to unpack .../154-mesa-vulkan-drivers_22.3.6-1+deb12u1_amd64.deb ...\r\n",
      "Unpacking mesa-vulkan-drivers:amd64 (22.3.6-1+deb12u1) ...\r\n"
     ]
    },
    {
     "name": "stdout",
     "output_type": "stream",
     "text": [
      "Selecting previously unselected package pocketsphinx-en-us.\r\n",
      "Preparing to unpack .../155-pocketsphinx-en-us_0.8+5prealpha+1-15_all.deb ...\r\n",
      "Unpacking pocketsphinx-en-us (0.8+5prealpha+1-15) ...\r\n"
     ]
    },
    {
     "name": "stdout",
     "output_type": "stream",
     "text": [
      "Selecting previously unselected package va-driver-all:amd64.\r\n",
      "Preparing to unpack .../156-va-driver-all_2.17.0-1_amd64.deb ...\r\n",
      "Unpacking va-driver-all:amd64 (2.17.0-1) ...\r\n"
     ]
    },
    {
     "name": "stdout",
     "output_type": "stream",
     "text": [
      "Selecting previously unselected package vdpau-driver-all:amd64.\r\n",
      "Preparing to unpack .../157-vdpau-driver-all_1.5-2_amd64.deb ...\r\n",
      "Unpacking vdpau-driver-all:amd64 (1.5-2) ...\r\n"
     ]
    },
    {
     "name": "stdout",
     "output_type": "stream",
     "text": [
      "Setting up libgme0:amd64 (0.6.3-6) ...\r\n"
     ]
    },
    {
     "name": "stdout",
     "output_type": "stream",
     "text": [
      "Setting up libssh-gcrypt-4:amd64 (0.10.6-0+deb12u1) ...\r\n"
     ]
    },
    {
     "name": "stdout",
     "output_type": "stream",
     "text": [
      "Setting up libxcb-dri3-0:amd64 (1.15-1) ...\r\n"
     ]
    },
    {
     "name": "stdout",
     "output_type": "stream",
     "text": [
      "Setting up libudfread0:amd64 (1.1.2-1) ...\r\n"
     ]
    },
    {
     "name": "stdout",
     "output_type": "stream",
     "text": [
      "Setting up libwayland-server0:amd64 (1.21.0-1) ...\r\n"
     ]
    },
    {
     "name": "stdout",
     "output_type": "stream",
     "text": [
      "Setting up libx11-xcb1:amd64 (2:1.8.4-2+deb12u2) ...\r\n"
     ]
    },
    {
     "name": "stdout",
     "output_type": "stream",
     "text": [
      "Setting up libpciaccess0:amd64 (0.17-2) ...\r\n",
      "Setting up librabbitmq4:amd64 (0.11.0-1+b1) ...\r\n"
     ]
    },
    {
     "name": "stdout",
     "output_type": "stream",
     "text": [
      "Setting up libraw1394-11:amd64 (2.1.2-2) ...\r\n"
     ]
    },
    {
     "name": "stdout",
     "output_type": "stream",
     "text": [
      "Setting up libapparmor1:amd64 (3.0.8-3) ...\r\n",
      "Setting up libcodec2-1.0:amd64 (1.0.5-1) ...\r\n"
     ]
    },
    {
     "name": "stdout",
     "output_type": "stream",
     "text": [
      "Setting up libsodium23:amd64 (1.0.18-1) ...\r\n",
      "Setting up libmpg123-0:amd64 (1.31.2-1) ...\r\n"
     ]
    },
    {
     "name": "stdout",
     "output_type": "stream",
     "text": [
      "Setting up libxcb-xfixes0:amd64 (1.15-1) ...\r\n"
     ]
    },
    {
     "name": "stdout",
     "output_type": "stream",
     "text": [
      "Setting up libogg0:amd64 (1.3.5-3) ...\r\n",
      "Setting up libspeex1:amd64 (1.2.1-2) ...\r\n"
     ]
    },
    {
     "name": "stdout",
     "output_type": "stream",
     "text": [
      "Setting up libshine3:amd64 (3.1.1-2) ...\r\n"
     ]
    },
    {
     "name": "stdout",
     "output_type": "stream",
     "text": [
      "Setting up libxi6:amd64 (2:1.8-1+b1) ...\r\n",
      "Setting up libx264-164:amd64 (2:0.164.3095+gitbaee400-3) ...\r\n"
     ]
    },
    {
     "name": "stdout",
     "output_type": "stream",
     "text": [
      "Setting up libtwolame0:amd64 (0.4.0-2) ...\r\n"
     ]
    },
    {
     "name": "stdout",
     "output_type": "stream",
     "text": [
      "Setting up libgsm1:amd64 (1.0.22-1) ...\r\n",
      "Setting up libsoxr0:amd64 (0.1.3-4) ...\r\n"
     ]
    },
    {
     "name": "stdout",
     "output_type": "stream",
     "text": [
      "Setting up libglvnd0:amd64 (1.6.0-1) ...\r\n"
     ]
    },
    {
     "name": "stdout",
     "output_type": "stream",
     "text": [
      "Setting up libpgm-5.3-0:amd64 (5.3.128~dfsg-2) ...\r\n",
      "Setting up libxcb-glx0:amd64 (1.15-1) ...\r\n"
     ]
    },
    {
     "name": "stdout",
     "output_type": "stream",
     "text": [
      "Setting up libnorm1:amd64 (1.5.9+dfsg-2) ...\r\n",
      "Setting up libmysofa1:amd64 (1.3.1~dfsg0-1) ...\r\n"
     ]
    },
    {
     "name": "stdout",
     "output_type": "stream",
     "text": [
      "Setting up libxcb-shape0:amd64 (1.15-1) ...\r\n"
     ]
    },
    {
     "name": "stdout",
     "output_type": "stream",
     "text": [
      "Setting up libsensors-config (1:3.6.0-7.1) ...\r\n"
     ]
    },
    {
     "name": "stdout",
     "output_type": "stream",
     "text": [
      "Setting up xkb-data (2.35.1-1) ...\r\n"
     ]
    },
    {
     "name": "stdout",
     "output_type": "stream",
     "text": [
      "Setting up libhwy1:amd64 (1.0.3-3+deb12u1) ...\r\n",
      "Setting up libigdgmm12:amd64 (22.3.3+ds1-1) ...\r\n"
     ]
    },
    {
     "name": "stdout",
     "output_type": "stream",
     "text": [
      "Setting up libsvtav1enc1:amd64 (1.4.1+dfsg-1) ...\r\n"
     ]
    },
    {
     "name": "stdout",
     "output_type": "stream",
     "text": [
      "Setting up libcdio19:amd64 (2.1.0-4) ...\r\n",
      "Setting up libcjson1:amd64 (1.7.15-1) ...\r\n"
     ]
    },
    {
     "name": "stdout",
     "output_type": "stream",
     "text": [
      "Setting up libxvidcore4:amd64 (2:1.3.7-1) ...\r\n"
     ]
    },
    {
     "name": "stdout",
     "output_type": "stream",
     "text": [
      "Setting up librav1e0:amd64 (0.5.1-6) ...\r\n",
      "Setting up libxxf86vm1:amd64 (1:1.1.4-1+b2) ...\r\n"
     ]
    },
    {
     "name": "stdout",
     "output_type": "stream",
     "text": [
      "Setting up libsnappy1v5:amd64 (1.1.9-3) ...\r\n"
     ]
    },
    {
     "name": "stdout",
     "output_type": "stream",
     "text": [
      "Setting up libxcb-present0:amd64 (1.15-1) ...\r\n",
      "Setting up libasound2-data (1.2.8-1) ...\r\n"
     ]
    },
    {
     "name": "stdout",
     "output_type": "stream",
     "text": [
      "Setting up libz3-4:amd64 (4.8.12-3.1) ...\r\n"
     ]
    },
    {
     "name": "stdout",
     "output_type": "stream",
     "text": [
      "Setting up libblas3:amd64 (3.11.0-2) ...\r\n"
     ]
    },
    {
     "name": "stdout",
     "output_type": "stream",
     "text": [
      "update-alternatives: using /usr/lib/x86_64-linux-gnu/blas/libblas.so.3 to provide /usr/lib/x86_64-linux-gnu/libblas.so.3 (libblas.so.3-x86_64-linux-gnu) in auto mode\r\n",
      "Setting up libflac12:amd64 (1.4.2+ds-2) ...\r\n"
     ]
    },
    {
     "name": "stdout",
     "output_type": "stream",
     "text": [
      "Setting up libass9:amd64 (1:0.17.1-1) ...\r\n",
      "Setting up libslang2:amd64 (2.3.3-3) ...\r\n"
     ]
    },
    {
     "name": "stdout",
     "output_type": "stream",
     "text": [
      "Setting up libva2:amd64 (2.17.0-1) ...\r\n"
     ]
    },
    {
     "name": "stdout",
     "output_type": "stream",
     "text": [
      "Setting up libmbedcrypto7:amd64 (2.28.3-1) ...\r\n",
      "Setting up libepoxy0:amd64 (1.5.10-1) ...\r\n"
     ]
    },
    {
     "name": "stdout",
     "output_type": "stream",
     "text": [
      "Setting up libxfixes3:amd64 (1:6.0.0-2) ...\r\n"
     ]
    },
    {
     "name": "stdout",
     "output_type": "stream",
     "text": [
      "Setting up libxcb-sync1:amd64 (1.15-1) ...\r\n",
      "Setting up libdbus-1-3:amd64 (1.14.10-1~deb12u1) ...\r\n"
     ]
    },
    {
     "name": "stdout",
     "output_type": "stream",
     "text": [
      "Setting up libopus0:amd64 (1.3.1-3) ...\r\n"
     ]
    },
    {
     "name": "stdout",
     "output_type": "stream",
     "text": [
      "Setting up intel-media-va-driver:amd64 (23.1.1+dfsg1-1) ...\r\n",
      "Setting up libxv1:amd64 (2:1.0.11-1.1) ...\r\n"
     ]
    },
    {
     "name": "stdout",
     "output_type": "stream",
     "text": [
      "Setting up libvorbis0a:amd64 (1.3.7-1) ...\r\n"
     ]
    },
    {
     "name": "stdout",
     "output_type": "stream",
     "text": [
      "Setting up libxrandr2:amd64 (2:1.5.2-2+b1) ...\r\n",
      "Setting up libsensors5:amd64 (1:3.6.0-7.1) ...\r\n"
     ]
    },
    {
     "name": "stdout",
     "output_type": "stream",
     "text": [
      "Setting up libaacs0:amd64 (0.11.1-2) ...\r\n"
     ]
    },
    {
     "name": "stdout",
     "output_type": "stream",
     "text": [
      "Setting up libjxl0.7:amd64 (0.7.0-10) ...\r\n",
      "Setting up pocketsphinx-en-us (0.8+5prealpha+1-15) ...\r\n"
     ]
    },
    {
     "name": "stdout",
     "output_type": "stream",
     "text": [
      "Setting up libglapi-mesa:amd64 (22.3.6-1+deb12u1) ...\r\n"
     ]
    },
    {
     "name": "stdout",
     "output_type": "stream",
     "text": [
      "Setting up libgfortran5:amd64 (12.2.0-14) ...\r\n",
      "Setting up libvulkan1:amd64 (1.3.239.0-1) ...\r\n"
     ]
    },
    {
     "name": "stdout",
     "output_type": "stream",
     "text": [
      "Setting up librubberband2:amd64 (3.1.2+dfsg0-1) ...\r\n"
     ]
    },
    {
     "name": "stdout",
     "output_type": "stream",
     "text": [
      "Setting up libxcb-dri2-0:amd64 (1.15-1) ...\r\n",
      "Setting up libbdplus0:amd64 (0.2.0-3) ...\r\n"
     ]
    },
    {
     "name": "stdout",
     "output_type": "stream",
     "text": [
      "Setting up libvidstab1.1:amd64 (1.1.0-2+b1) ...\r\n"
     ]
    },
    {
     "name": "stdout",
     "output_type": "stream",
     "text": [
      "Setting up libsrt1.5-gnutls:amd64 (1.5.1-1) ...\r\n",
      "Setting up alsa-topology-conf (1.2.5.1-2) ...\r\n"
     ]
    },
    {
     "name": "stdout",
     "output_type": "stream",
     "text": [
      "Setting up ocl-icd-libopencl1:amd64 (2.3.1-1) ...\r\n"
     ]
    },
    {
     "name": "stdout",
     "output_type": "stream",
     "text": [
      "Setting up libasyncns0:amd64 (0.8-6+b3) ...\r\n",
      "Setting up libxshmfence1:amd64 (1.3-1) ...\r\n"
     ]
    },
    {
     "name": "stdout",
     "output_type": "stream",
     "text": [
      "Setting up libvdpau1:amd64 (1.5-2) ...\r\n"
     ]
    },
    {
     "name": "stdout",
     "output_type": "stream",
     "text": [
      "Setting up libbs2b0:amd64 (3.1.0+dfsg-7) ...\r\n"
     ]
    },
    {
     "name": "stdout",
     "output_type": "stream",
     "text": [
      "Setting up libxcb-randr0:amd64 (1.15-1) ...\r\n",
      "Setting up dbus-session-bus-common (1.14.10-1~deb12u1) ...\r\n"
     ]
    },
    {
     "name": "stdout",
     "output_type": "stream",
     "text": [
      "Setting up libllvm15:amd64 (1:15.0.6-4+b1) ...\r\n"
     ]
    },
    {
     "name": "stdout",
     "output_type": "stream",
     "text": [
      "Setting up libtheora0:amd64 (1.1.1+dfsg.1-16.1+b1) ...\r\n",
      "Setting up libasound2:amd64 (1.2.8-1+b1) ...\r\n"
     ]
    },
    {
     "name": "stdout",
     "output_type": "stream",
     "text": [
      "Setting up libzimg2:amd64 (3.0.4+ds1-1) ...\r\n"
     ]
    },
    {
     "name": "stdout",
     "output_type": "stream",
     "text": [
      "Setting up libopenal-data (1:1.19.1-2) ...\r\n",
      "Setting up libvpx7:amd64 (1.12.0-1+deb12u2) ...\r\n"
     ]
    },
    {
     "name": "stdout",
     "output_type": "stream",
     "text": [
      "Setting up libwayland-egl1:amd64 (1.21.0-1) ...\r\n",
      "Setting up libusb-1.0-0:amd64 (2:1.0.26-1) ...\r\n"
     ]
    },
    {
     "name": "stdout",
     "output_type": "stream",
     "text": [
      "Setting up dbus-system-bus-common (1.14.10-1~deb12u1) ...\r\n"
     ]
    },
    {
     "name": "stdout",
     "output_type": "stream",
     "text": [
      "Setting up libmfx1:amd64 (22.5.4-1) ...\r\n",
      "Setting up libbluray2:amd64 (1:1.3.4-1) ...\r\n"
     ]
    },
    {
     "name": "stdout",
     "output_type": "stream",
     "text": [
      "Setting up libsamplerate0:amd64 (0.2.2-3) ...\r\n"
     ]
    },
    {
     "name": "stdout",
     "output_type": "stream",
     "text": [
      "Setting up libdrm-common (2.4.114-1) ...\r\n"
     ]
    },
    {
     "name": "stdout",
     "output_type": "stream",
     "text": [
      "Setting up dbus-bin (1.14.10-1~deb12u1) ...\r\n"
     ]
    },
    {
     "name": "stdout",
     "output_type": "stream",
     "text": [
      "Setting up libzvbi-common (0.2.41-1) ...\r\n"
     ]
    },
    {
     "name": "stdout",
     "output_type": "stream",
     "text": [
      "Setting up libmp3lame0:amd64 (3.100-6) ...\r\n",
      "Setting up libvorbisenc2:amd64 (1.3.7-1) ...\r\n"
     ]
    },
    {
     "name": "stdout",
     "output_type": "stream",
     "text": [
      "Setting up libiec61883-0:amd64 (1.2.0-6+b1) ...\r\n"
     ]
    },
    {
     "name": "stdout",
     "output_type": "stream",
     "text": [
      "Setting up libserd-0-0:amd64 (0.30.16-1) ...\r\n",
      "Setting up libxkbcommon0:amd64 (1.5.0-1) ...\r\n"
     ]
    },
    {
     "name": "stdout",
     "output_type": "stream",
     "text": [
      "Setting up libwayland-client0:amd64 (1.21.0-1) ...\r\n"
     ]
    },
    {
     "name": "stdout",
     "output_type": "stream",
     "text": [
      "Setting up libavc1394-0:amd64 (0.5.4-5) ...\r\n",
      "Setting up libzvbi0:amd64 (0.2.41-1) ...\r\n"
     ]
    },
    {
     "name": "stdout",
     "output_type": "stream",
     "text": [
      "Setting up liblapack3:amd64 (3.11.0-2) ...\r\n"
     ]
    },
    {
     "name": "stdout",
     "output_type": "stream",
     "text": [
      "update-alternatives: using /usr/lib/x86_64-linux-gnu/lapack/liblapack.so.3 to provide /usr/lib/x86_64-linux-gnu/liblapack.so.3 (liblapack.so.3-x86_64-linux-gnu) in auto mode\r\n",
      "Setting up libplacebo208:amd64 (4.208.0-3) ...\r\n"
     ]
    },
    {
     "name": "stdout",
     "output_type": "stream",
     "text": [
      "Setting up libzmq5:amd64 (4.3.4-6) ...\r\n",
      "Setting up libcaca0:amd64 (0.99.beta20-3) ...\r\n"
     ]
    },
    {
     "name": "stdout",
     "output_type": "stream",
     "text": [
      "Setting up alsa-ucm-conf (1.2.8-1) ...\r\n"
     ]
    },
    {
     "name": "stdout",
     "output_type": "stream",
     "text": [
      "Setting up libcdio-cdda2:amd64 (10.2+2.0.1-1) ...\r\n",
      "Setting up libcdio-paranoia2:amd64 (10.2+2.0.1-1) ...\r\n"
     ]
    },
    {
     "name": "stdout",
     "output_type": "stream",
     "text": [
      "Setting up libxcursor1:amd64 (1:1.2.1-1) ...\r\n",
      "Setting up dbus-daemon (1.14.10-1~deb12u1) ...\r\n"
     ]
    },
    {
     "name": "stdout",
     "output_type": "stream",
     "text": [
      "Setting up librist4:amd64 (0.2.7+dfsg-1) ...\r\n"
     ]
    },
    {
     "name": "stdout",
     "output_type": "stream",
     "text": [
      "Setting up libvorbisfile3:amd64 (1.3.7-1) ...\r\n"
     ]
    },
    {
     "name": "stdout",
     "output_type": "stream",
     "text": [
      "Setting up dbus (1.14.10-1~deb12u1) ...\r\n"
     ]
    },
    {
     "name": "stdout",
     "output_type": "stream",
     "text": [
      "invoke-rc.d: could not determine current runlevel\r\n"
     ]
    },
    {
     "name": "stdout",
     "output_type": "stream",
     "text": [
      "invoke-rc.d: policy-rc.d denied execution of start.\r\n",
      "Setting up libdc1394-25:amd64 (2.2.6-4) ...\r\n",
      "Setting up libsndio7.0:amd64 (1.9.0-0.3+b2) ...\r\n"
     ]
    },
    {
     "name": "stdout",
     "output_type": "stream",
     "text": [
      "Setting up libjack-jackd2-0:amd64 (1.9.21~dfsg-3) ...\r\n"
     ]
    },
    {
     "name": "stdout",
     "output_type": "stream",
     "text": [
      "Setting up libdrm2:amd64 (2.4.114-1+b1) ...\r\n",
      "Setting up libflite1:amd64 (2.2-5) ...\r\n"
     ]
    },
    {
     "name": "stdout",
     "output_type": "stream",
     "text": [
      "Setting up libva-drm2:amd64 (2.17.0-1) ...\r\n"
     ]
    },
    {
     "name": "stdout",
     "output_type": "stream",
     "text": [
      "Setting up libsord-0-0:amd64 (0.16.14+git221008-1) ...\r\n",
      "Setting up libwayland-cursor0:amd64 (1.21.0-1) ...\r\n"
     ]
    },
    {
     "name": "stdout",
     "output_type": "stream",
     "text": [
      "Setting up libsratom-0-0:amd64 (0.6.14-1) ...\r\n"
     ]
    },
    {
     "name": "stdout",
     "output_type": "stream",
     "text": [
      "Setting up libdecor-0-0:amd64 (0.1.1-2) ...\r\n",
      "Setting up libsndfile1:amd64 (1.2.0-1) ...\r\n"
     ]
    },
    {
     "name": "stdout",
     "output_type": "stream",
     "text": [
      "Setting up libva-x11-2:amd64 (2.17.0-1) ...\r\n",
      "Setting up liblilv-0-0:amd64 (0.24.14-1) ...\r\n"
     ]
    },
    {
     "name": "stdout",
     "output_type": "stream",
     "text": [
      "Setting up libopenmpt0:amd64 (0.6.9-1) ...\r\n"
     ]
    },
    {
     "name": "stdout",
     "output_type": "stream",
     "text": [
      "Setting up libdrm-amdgpu1:amd64 (2.4.114-1+b1) ...\r\n",
      "Setting up mesa-vulkan-drivers:amd64 (22.3.6-1+deb12u1) ...\r\n"
     ]
    },
    {
     "name": "stdout",
     "output_type": "stream",
     "text": [
      "Setting up libdrm-nouveau2:amd64 (2.4.114-1+b1) ...\r\n"
     ]
    },
    {
     "name": "stdout",
     "output_type": "stream",
     "text": [
      "Setting up libgbm1:amd64 (22.3.6-1+deb12u1) ...\r\n",
      "Setting up libpulse0:amd64 (16.1+dfsg1-2+b1) ...\r\n"
     ]
    },
    {
     "name": "stdout",
     "output_type": "stream",
     "text": [
      "Setting up libdrm-radeon1:amd64 (2.4.114-1+b1) ...\r\n"
     ]
    },
    {
     "name": "stdout",
     "output_type": "stream",
     "text": [
      "Setting up libdrm-intel1:amd64 (2.4.114-1+b1) ...\r\n",
      "Setting up libgl1-mesa-dri:amd64 (22.3.6-1+deb12u1) ...\r\n"
     ]
    },
    {
     "name": "stdout",
     "output_type": "stream",
     "text": [
      "Setting up libopenal1:amd64 (1:1.19.1-2) ...\r\n"
     ]
    },
    {
     "name": "stdout",
     "output_type": "stream",
     "text": [
      "Setting up libavutil57:amd64 (7:5.1.4-0+deb12u1) ...\r\n"
     ]
    },
    {
     "name": "stdout",
     "output_type": "stream",
     "text": [
      "Setting up libswresample4:amd64 (7:5.1.4-0+deb12u1) ...\r\n"
     ]
    },
    {
     "name": "stdout",
     "output_type": "stream",
     "text": [
      "Setting up libdecor-0-plugin-1-cairo:amd64 (0.1.1-2) ...\r\n",
      "Setting up libpostproc56:amd64 (7:5.1.4-0+deb12u1) ...\r\n"
     ]
    },
    {
     "name": "stdout",
     "output_type": "stream",
     "text": [
      "Setting up mesa-va-drivers:amd64 (22.3.6-1+deb12u1) ...\r\n"
     ]
    },
    {
     "name": "stdout",
     "output_type": "stream",
     "text": [
      "Setting up libavcodec59:amd64 (7:5.1.4-0+deb12u1) ...\r\n",
      "Setting up libsdl2-2.0-0:amd64 (2.26.5+dfsg-1) ...\r\n"
     ]
    },
    {
     "name": "stdout",
     "output_type": "stream",
     "text": [
      "Setting up libswscale6:amd64 (7:5.1.4-0+deb12u1) ...\r\n"
     ]
    },
    {
     "name": "stdout",
     "output_type": "stream",
     "text": [
      "Setting up i965-va-driver:amd64 (2.4.1+dfsg1-1) ...\r\n",
      "Setting up libchromaprint1:amd64 (1.5.1-2+b1) ...\r\n"
     ]
    },
    {
     "name": "stdout",
     "output_type": "stream",
     "text": [
      "Setting up mesa-vdpau-drivers:amd64 (22.3.6-1+deb12u1) ...\r\n"
     ]
    },
    {
     "name": "stdout",
     "output_type": "stream",
     "text": [
      "Setting up libglx-mesa0:amd64 (22.3.6-1+deb12u1) ...\r\n"
     ]
    },
    {
     "name": "stdout",
     "output_type": "stream",
     "text": [
      "Setting up libavformat59:amd64 (7:5.1.4-0+deb12u1) ...\r\n",
      "Setting up libglx0:amd64 (1.6.0-1) ...\r\n"
     ]
    },
    {
     "name": "stdout",
     "output_type": "stream",
     "text": [
      "Setting up libsphinxbase3:amd64 (0.8+5prealpha+1-16) ...\r\n"
     ]
    },
    {
     "name": "stdout",
     "output_type": "stream",
     "text": [
      "Setting up libpocketsphinx3:amd64 (0.8+5prealpha+1-15) ...\r\n"
     ]
    },
    {
     "name": "stdout",
     "output_type": "stream",
     "text": [
      "Setting up libgl1:amd64 (1.6.0-1) ...\r\n"
     ]
    },
    {
     "name": "stdout",
     "output_type": "stream",
     "text": [
      "Setting up va-driver-all:amd64 (2.17.0-1) ...\r\n"
     ]
    },
    {
     "name": "stdout",
     "output_type": "stream",
     "text": [
      "Setting up libvdpau-va-gl1:amd64 (0.4.2-1+b1) ...\r\n"
     ]
    },
    {
     "name": "stdout",
     "output_type": "stream",
     "text": [
      "Setting up libavfilter8:amd64 (7:5.1.4-0+deb12u1) ...\r\n"
     ]
    },
    {
     "name": "stdout",
     "output_type": "stream",
     "text": [
      "Setting up libavdevice59:amd64 (7:5.1.4-0+deb12u1) ...\r\n"
     ]
    },
    {
     "name": "stdout",
     "output_type": "stream",
     "text": [
      "Setting up vdpau-driver-all:amd64 (1.5-2) ...\r\n",
      "Setting up ffmpeg (7:5.1.4-0+deb12u1) ...\r\n"
     ]
    },
    {
     "name": "stdout",
     "output_type": "stream",
     "text": [
      "Processing triggers for libc-bin (2.36-9+deb12u4) ...\r\n"
     ]
    }
   ],
   "source": [
    "!apt-get update && apt-get install ffmpeg libsm6 libxext6  -y"
   ]
  },
  {
   "cell_type": "code",
   "execution_count": 2,
   "id": "3874172a",
   "metadata": {
    "execution": {
     "iopub.execute_input": "2024-05-13T16:23:10.847836Z",
     "iopub.status.busy": "2024-05-13T16:23:10.847540Z",
     "iopub.status.idle": "2024-05-13T16:23:29.454024Z",
     "shell.execute_reply": "2024-05-13T16:23:29.453166Z"
    },
    "papermill": {
     "duration": 18.634871,
     "end_time": "2024-05-13T16:23:29.456335",
     "exception": false,
     "start_time": "2024-05-13T16:23:10.821464",
     "status": "completed"
    },
    "tags": []
   },
   "outputs": [
    {
     "name": "stderr",
     "output_type": "stream",
     "text": [
      "/usr/local/lib/python3.10/site-packages/tqdm/auto.py:21: TqdmWarning: IProgress not found. Please update jupyter and ipywidgets. See https://ipywidgets.readthedocs.io/en/stable/user_install.html\n",
      "  from .autonotebook import tqdm as notebook_tqdm\n"
     ]
    }
   ],
   "source": [
    "from tensorflow.keras import layers, optimizers, models, utils, backend, regularizers, initializers\n",
    "from wgangp_blocks import ResidualBlock\n",
    "from tensorflow.data import Dataset\n",
    "import tensorflow_datasets as tfds\n",
    "import tensorflow as tf\n",
    "\n",
    "from PIL import Image\n",
    "import matplotlib.pyplot as plt\n",
    "import pandas as pd\n",
    "import numpy as np\n",
    "import gc, os\n",
    "import cv2"
   ]
  },
  {
   "cell_type": "code",
   "execution_count": 3,
   "id": "e7991773",
   "metadata": {
    "execution": {
     "iopub.execute_input": "2024-05-13T16:23:29.507375Z",
     "iopub.status.busy": "2024-05-13T16:23:29.506900Z",
     "iopub.status.idle": "2024-05-13T16:23:29.510676Z",
     "shell.execute_reply": "2024-05-13T16:23:29.510069Z"
    },
    "papermill": {
     "duration": 0.031243,
     "end_time": "2024-05-13T16:23:29.512208",
     "exception": false,
     "start_time": "2024-05-13T16:23:29.480965",
     "status": "completed"
    },
    "tags": []
   },
   "outputs": [],
   "source": [
    "os.makedirs('Examples')\n",
    "os.makedirs('Models')"
   ]
  },
  {
   "cell_type": "code",
   "execution_count": 4,
   "id": "fc164082",
   "metadata": {
    "execution": {
     "iopub.execute_input": "2024-05-13T16:23:29.562299Z",
     "iopub.status.busy": "2024-05-13T16:23:29.561999Z",
     "iopub.status.idle": "2024-05-13T16:23:29.565770Z",
     "shell.execute_reply": "2024-05-13T16:23:29.565159Z"
    },
    "papermill": {
     "duration": 0.030348,
     "end_time": "2024-05-13T16:23:29.567433",
     "exception": false,
     "start_time": "2024-05-13T16:23:29.537085",
     "status": "completed"
    },
    "tags": []
   },
   "outputs": [],
   "source": [
    "use_mixed_precision = False\n",
    "train_model = True\n",
    "\n",
    "# save/load models to/from\n",
    "generator_weights = 'Models/generator.weights.h5'\n",
    "critic_weights = 'Models/critic.weights.h5'"
   ]
  },
  {
   "cell_type": "code",
   "execution_count": 5,
   "id": "1bca23ea",
   "metadata": {
    "execution": {
     "iopub.execute_input": "2024-05-13T16:23:29.617947Z",
     "iopub.status.busy": "2024-05-13T16:23:29.617650Z",
     "iopub.status.idle": "2024-05-13T16:23:29.621272Z",
     "shell.execute_reply": "2024-05-13T16:23:29.620651Z"
    },
    "papermill": {
     "duration": 0.030969,
     "end_time": "2024-05-13T16:23:29.623054",
     "exception": false,
     "start_time": "2024-05-13T16:23:29.592085",
     "status": "completed"
    },
    "tags": []
   },
   "outputs": [],
   "source": [
    "tf.get_logger().setLevel('ERROR')"
   ]
  },
  {
   "cell_type": "code",
   "execution_count": 6,
   "id": "52280250",
   "metadata": {
    "execution": {
     "iopub.execute_input": "2024-05-13T16:23:29.672258Z",
     "iopub.status.busy": "2024-05-13T16:23:29.671983Z",
     "iopub.status.idle": "2024-05-13T16:23:29.675926Z",
     "shell.execute_reply": "2024-05-13T16:23:29.675236Z"
    },
    "papermill": {
     "duration": 0.03045,
     "end_time": "2024-05-13T16:23:29.677446",
     "exception": false,
     "start_time": "2024-05-13T16:23:29.646996",
     "status": "completed"
    },
    "tags": []
   },
   "outputs": [],
   "source": [
    "utils.set_random_seed(42)"
   ]
  },
  {
   "cell_type": "code",
   "execution_count": 7,
   "id": "5a39daea",
   "metadata": {
    "execution": {
     "iopub.execute_input": "2024-05-13T16:23:29.726200Z",
     "iopub.status.busy": "2024-05-13T16:23:29.725896Z",
     "iopub.status.idle": "2024-05-13T16:23:29.731579Z",
     "shell.execute_reply": "2024-05-13T16:23:29.730664Z"
    },
    "papermill": {
     "duration": 0.032413,
     "end_time": "2024-05-13T16:23:29.733334",
     "exception": false,
     "start_time": "2024-05-13T16:23:29.700921",
     "status": "completed"
    },
    "tags": []
   },
   "outputs": [
    {
     "name": "stdout",
     "output_type": "stream",
     "text": [
      "Compute dtype: float32\n",
      "Variable dtype: float32\n"
     ]
    }
   ],
   "source": [
    "if use_mixed_precision: policy = tf.keras.mixed_precision.Policy('mixed_float16'); backend.set_epsilon(1e-4); data_type = 'float16'\n",
    "else: policy = tf.keras.mixed_precision.Policy('float32'); backend.set_epsilon(1e-7); data_type = 'float32'\n",
    "    \n",
    "tf.keras.mixed_precision.set_global_policy(policy)\n",
    "print(f'Compute dtype: {policy.compute_dtype}')\n",
    "print(f'Variable dtype: {policy.variable_dtype}')"
   ]
  },
  {
   "cell_type": "code",
   "execution_count": 8,
   "id": "6158e5de",
   "metadata": {
    "execution": {
     "iopub.execute_input": "2024-05-13T16:23:29.783432Z",
     "iopub.status.busy": "2024-05-13T16:23:29.783098Z",
     "iopub.status.idle": "2024-05-13T16:23:37.968967Z",
     "shell.execute_reply": "2024-05-13T16:23:37.968188Z"
    },
    "papermill": {
     "duration": 8.212835,
     "end_time": "2024-05-13T16:23:37.970838",
     "exception": false,
     "start_time": "2024-05-13T16:23:29.758003",
     "status": "completed"
    },
    "tags": []
   },
   "outputs": [
    {
     "name": "stderr",
     "output_type": "stream",
     "text": [
      "2024-05-13 16:23:33.795586: E external/local_xla/xla/stream_executor/stream_executor_internal.h:177] SetPriority unimplemented for this stream.\n",
      "2024-05-13 16:23:33.795690: E external/local_xla/xla/stream_executor/stream_executor_internal.h:177] SetPriority unimplemented for this stream.\n",
      "2024-05-13 16:23:33.795765: E external/local_xla/xla/stream_executor/stream_executor_internal.h:177] SetPriority unimplemented for this stream.\n",
      "2024-05-13 16:23:33.795831: E external/local_xla/xla/stream_executor/stream_executor_internal.h:177] SetPriority unimplemented for this stream.\n",
      "2024-05-13 16:23:33.795919: E external/local_xla/xla/stream_executor/stream_executor_internal.h:177] SetPriority unimplemented for this stream.\n",
      "2024-05-13 16:23:33.796119: E external/local_xla/xla/stream_executor/stream_executor_internal.h:177] SetPriority unimplemented for this stream.\n",
      "2024-05-13 16:23:33.796198: E external/local_xla/xla/stream_executor/stream_executor_internal.h:177] SetPriority unimplemented for this stream.\n",
      "2024-05-13 16:23:33.796279: E external/local_xla/xla/stream_executor/stream_executor_internal.h:177] SetPriority unimplemented for this stream.\n",
      "2024-05-13 16:23:33.796419: E external/local_xla/xla/stream_executor/stream_executor_internal.h:177] SetPriority unimplemented for this stream.\n",
      "2024-05-13 16:23:33.796506: E external/local_xla/xla/stream_executor/stream_executor_internal.h:177] SetPriority unimplemented for this stream.\n",
      "2024-05-13 16:23:33.796794: E external/local_xla/xla/stream_executor/stream_executor_internal.h:177] SetPriority unimplemented for this stream.\n",
      "2024-05-13 16:23:33.796932: E external/local_xla/xla/stream_executor/stream_executor_internal.h:177] SetPriority unimplemented for this stream.\n",
      "2024-05-13 16:23:33.797017: E external/local_xla/xla/stream_executor/stream_executor_internal.h:177] SetPriority unimplemented for this stream.\n",
      "2024-05-13 16:23:33.797094: E external/local_xla/xla/stream_executor/stream_executor_internal.h:177] SetPriority unimplemented for this stream.\n",
      "2024-05-13 16:23:33.797169: E external/local_xla/xla/stream_executor/stream_executor_internal.h:177] SetPriority unimplemented for this stream.\n",
      "2024-05-13 16:23:33.797354: E external/local_xla/xla/stream_executor/stream_executor_internal.h:177] SetPriority unimplemented for this stream.\n",
      "2024-05-13 16:23:33.797482: E external/local_xla/xla/stream_executor/stream_executor_internal.h:177] SetPriority unimplemented for this stream.\n",
      "2024-05-13 16:23:33.797646: E external/local_xla/xla/stream_executor/stream_executor_internal.h:177] SetPriority unimplemented for this stream.\n",
      "2024-05-13 16:23:33.797740: E external/local_xla/xla/stream_executor/stream_executor_internal.h:177] SetPriority unimplemented for this stream.\n",
      "2024-05-13 16:23:33.797833: E external/local_xla/xla/stream_executor/stream_executor_internal.h:177] SetPriority unimplemented for this stream.\n",
      "2024-05-13 16:23:33.798056: E external/local_xla/xla/stream_executor/stream_executor_internal.h:177] SetPriority unimplemented for this stream.\n",
      "2024-05-13 16:23:33.798148: E external/local_xla/xla/stream_executor/stream_executor_internal.h:177] SetPriority unimplemented for this stream.\n",
      "2024-05-13 16:23:33.798238: E external/local_xla/xla/stream_executor/stream_executor_internal.h:177] SetPriority unimplemented for this stream.\n",
      "2024-05-13 16:23:33.798338: E external/local_xla/xla/stream_executor/stream_executor_internal.h:177] SetPriority unimplemented for this stream.\n",
      "2024-05-13 16:23:33.798437: E external/local_xla/xla/stream_executor/stream_executor_internal.h:177] SetPriority unimplemented for this stream.\n",
      "2024-05-13 16:23:33.798661: E external/local_xla/xla/stream_executor/stream_executor_internal.h:177] SetPriority unimplemented for this stream.\n",
      "2024-05-13 16:23:33.798759: E external/local_xla/xla/stream_executor/stream_executor_internal.h:177] SetPriority unimplemented for this stream.\n",
      "2024-05-13 16:23:33.798946: E external/local_xla/xla/stream_executor/stream_executor_internal.h:177] SetPriority unimplemented for this stream.\n",
      "2024-05-13 16:23:33.799026: E external/local_xla/xla/stream_executor/stream_executor_internal.h:177] SetPriority unimplemented for this stream.\n",
      "2024-05-13 16:23:33.799115: E external/local_xla/xla/stream_executor/stream_executor_internal.h:177] SetPriority unimplemented for this stream.\n",
      "2024-05-13 16:23:33.799397: E external/local_xla/xla/stream_executor/stream_executor_internal.h:177] SetPriority unimplemented for this stream.\n",
      "2024-05-13 16:23:33.799503: E external/local_xla/xla/stream_executor/stream_executor_internal.h:177] SetPriority unimplemented for this stream.\n",
      "2024-05-13 16:23:33.799610: E external/local_xla/xla/stream_executor/stream_executor_internal.h:177] SetPriority unimplemented for this stream.\n",
      "2024-05-13 16:23:33.799705: E external/local_xla/xla/stream_executor/stream_executor_internal.h:177] SetPriority unimplemented for this stream.\n",
      "2024-05-13 16:23:33.799796: E external/local_xla/xla/stream_executor/stream_executor_internal.h:177] SetPriority unimplemented for this stream.\n",
      "2024-05-13 16:23:33.800070: E external/local_xla/xla/stream_executor/stream_executor_internal.h:177] SetPriority unimplemented for this stream.\n",
      "2024-05-13 16:23:33.800142: E external/local_xla/xla/stream_executor/stream_executor_internal.h:177] SetPriority unimplemented for this stream.\n",
      "2024-05-13 16:23:33.800298: E external/local_xla/xla/stream_executor/stream_executor_internal.h:177] SetPriority unimplemented for this stream.\n",
      "2024-05-13 16:23:33.800374: E external/local_xla/xla/stream_executor/stream_executor_internal.h:177] SetPriority unimplemented for this stream.\n",
      "2024-05-13 16:23:33.800489: E external/local_xla/xla/stream_executor/stream_executor_internal.h:177] SetPriority unimplemented for this stream.\n"
     ]
    },
    {
     "name": "stdout",
     "output_type": "stream",
     "text": [
      "Using: 8 devices.\n",
      "Using: TPUStrategyV2\n"
     ]
    }
   ],
   "source": [
    "n_devices = len(tf.config.list_physical_devices('TPU'))\n",
    "if n_devices > 1:\n",
    "    resolver = tf.distribute.cluster_resolver.TPUClusterResolver()\n",
    "    tf.config.experimental_connect_to_cluster(resolver)\n",
    "    tf.tpu.experimental.initialize_tpu_system(resolver)\n",
    "    strategy = tf.distribute.TPUStrategy(resolver)\n",
    "else:\n",
    "    n_devices = len(tf.config.list_physical_devices('GPU'))\n",
    "    if n_devices > 1:\n",
    "        strategy = tf.distribute.MirroredStrategy()\n",
    "    else: strategy = tf.distribute.get_strategy()\n",
    "\n",
    "n_devices = strategy.num_replicas_in_sync\n",
    "print(f'Using: {n_devices} devices.')\n",
    "print(f'Using: {strategy.__class__.__name__}')"
   ]
  },
  {
   "cell_type": "markdown",
   "id": "5bef545e",
   "metadata": {
    "papermill": {
     "duration": 0.023523,
     "end_time": "2024-05-13T16:23:38.019342",
     "exception": false,
     "start_time": "2024-05-13T16:23:37.995819",
     "status": "completed"
    },
    "tags": []
   },
   "source": [
    "# Import data"
   ]
  },
  {
   "cell_type": "code",
   "execution_count": 9,
   "id": "825301dc",
   "metadata": {
    "execution": {
     "iopub.execute_input": "2024-05-13T16:23:38.101317Z",
     "iopub.status.busy": "2024-05-13T16:23:38.101034Z",
     "iopub.status.idle": "2024-05-13T16:23:38.104641Z",
     "shell.execute_reply": "2024-05-13T16:23:38.103848Z"
    },
    "papermill": {
     "duration": 0.030097,
     "end_time": "2024-05-13T16:23:38.106206",
     "exception": false,
     "start_time": "2024-05-13T16:23:38.076109",
     "status": "completed"
    },
    "tags": []
   },
   "outputs": [],
   "source": [
    "batch_size = 64*n_devices # batch size per model/replica, or global batch_size for that matter\n",
    "max_epochs = 500 # Around 20s/epoch with float32 and 8 TPUs. Notebook execution time must be < 9 hours for TPU."
   ]
  },
  {
   "cell_type": "code",
   "execution_count": 10,
   "id": "e865ffcf",
   "metadata": {
    "execution": {
     "iopub.execute_input": "2024-05-13T16:23:38.155153Z",
     "iopub.status.busy": "2024-05-13T16:23:38.154883Z",
     "iopub.status.idle": "2024-05-13T16:23:41.413716Z",
     "shell.execute_reply": "2024-05-13T16:23:41.412913Z"
    },
    "papermill": {
     "duration": 3.285569,
     "end_time": "2024-05-13T16:23:41.415668",
     "exception": false,
     "start_time": "2024-05-13T16:23:38.130099",
     "status": "completed"
    },
    "tags": []
   },
   "outputs": [
    {
     "name": "stdout",
     "output_type": "stream",
     "text": [
      "\u001b[1mDownloading and preparing dataset 11.06 MiB (download: 11.06 MiB, generated: 21.00 MiB, total: 32.06 MiB) to cifar10/mnist/3.0.1...\u001b[0m\n"
     ]
    },
    {
     "name": "stderr",
     "output_type": "stream",
     "text": [
      "\r",
      "Dl Completed...:   0%|          | 0/5 [00:00<?, ? file/s]"
     ]
    },
    {
     "name": "stderr",
     "output_type": "stream",
     "text": [
      "\r",
      "Dl Completed...:  20%|██        | 1/5 [00:00<00:02,  1.53 file/s]"
     ]
    },
    {
     "name": "stderr",
     "output_type": "stream",
     "text": [
      "\r",
      "Dl Completed...:  20%|██        | 1/5 [00:00<00:02,  1.53 file/s]"
     ]
    },
    {
     "name": "stderr",
     "output_type": "stream",
     "text": [
      "\r",
      "Dl Completed...:  40%|████      | 2/5 [00:00<00:01,  1.53 file/s]"
     ]
    },
    {
     "name": "stderr",
     "output_type": "stream",
     "text": [
      "\r",
      "Dl Completed...:  60%|██████    | 3/5 [00:00<00:00,  4.73 file/s]"
     ]
    },
    {
     "name": "stderr",
     "output_type": "stream",
     "text": [
      "\r",
      "Dl Completed...:  60%|██████    | 3/5 [00:00<00:00,  4.73 file/s]"
     ]
    },
    {
     "name": "stderr",
     "output_type": "stream",
     "text": [
      "\r",
      "Dl Completed...:  80%|████████  | 4/5 [00:00<00:00,  4.73 file/s]"
     ]
    },
    {
     "name": "stderr",
     "output_type": "stream",
     "text": [
      "\r",
      "Dl Completed...: 100%|██████████| 5/5 [00:01<00:00,  5.26 file/s]"
     ]
    },
    {
     "name": "stderr",
     "output_type": "stream",
     "text": [
      "\r",
      "Dl Completed...: 100%|██████████| 5/5 [00:01<00:00,  5.26 file/s]"
     ]
    },
    {
     "name": "stderr",
     "output_type": "stream",
     "text": [
      "\r",
      "Dl Completed...: 100%|██████████| 5/5 [00:01<00:00,  4.50 file/s]"
     ]
    },
    {
     "name": "stderr",
     "output_type": "stream",
     "text": [
      "\n"
     ]
    },
    {
     "name": "stdout",
     "output_type": "stream",
     "text": [
      "\u001b[1mDataset mnist downloaded and prepared to cifar10/mnist/3.0.1. Subsequent calls will reuse this data.\u001b[0m\n"
     ]
    },
    {
     "data": {
      "image/png": "[encoded data removed]",
      "text/plain": [
       "<Figure size 900x900 with 9 Axes>"
      ]
     },
     "metadata": {},
     "output_type": "display_data"
    },
    {
     "data": {
      "image/png": "[encoded data removed]",
      "text/plain": [
       "<Figure size 900x900 with 9 Axes>"
      ]
     },
     "execution_count": 10,
     "metadata": {},
     "output_type": "execute_result"
    }
   ],
   "source": [
    "cifar10, info = tfds.load('mnist', with_info=True, data_dir='cifar10')\n",
    "cifar10 = cifar10['train'].concatenate(cifar10['test'])\n",
    "tfds.visualization.show_examples(cifar10, info)"
   ]
  },
  {
   "cell_type": "code",
   "execution_count": 11,
   "id": "da9c747f",
   "metadata": {
    "execution": {
     "iopub.execute_input": "2024-05-13T16:23:41.468980Z",
     "iopub.status.busy": "2024-05-13T16:23:41.468292Z",
     "iopub.status.idle": "2024-05-13T16:24:27.887674Z",
     "shell.execute_reply": "2024-05-13T16:24:27.886660Z"
    },
    "papermill": {
     "duration": 46.448737,
     "end_time": "2024-05-13T16:24:27.890382",
     "exception": false,
     "start_time": "2024-05-13T16:23:41.441645",
     "status": "completed"
    },
    "tags": []
   },
   "outputs": [],
   "source": [
    "cifar10 = tf.concat([tf.cast(np.expand_dims(cv2.copyMakeBorder(x['image'], 2, 2, 2, 2, cv2.BORDER_CONSTANT, value=0), axis=(0,-1)), \n",
    "                       tf.float32)/127.5 - 1.0 for x in tfds.as_numpy(cifar10)], 0)"
   ]
  },
  {
   "cell_type": "code",
   "execution_count": 12,
   "id": "cd6f830d",
   "metadata": {
    "execution": {
     "iopub.execute_input": "2024-05-13T16:24:27.946775Z",
     "iopub.status.busy": "2024-05-13T16:24:27.946476Z",
     "iopub.status.idle": "2024-05-13T16:24:28.253545Z",
     "shell.execute_reply": "2024-05-13T16:24:28.252621Z"
    },
    "papermill": {
     "duration": 0.339324,
     "end_time": "2024-05-13T16:24:28.256158",
     "exception": false,
     "start_time": "2024-05-13T16:24:27.916834",
     "status": "completed"
    },
    "tags": []
   },
   "outputs": [],
   "source": [
    "cifar10 = tf.data.Dataset.from_tensor_slices(cifar10)\n",
    "cifar10 = cifar10.shuffle(cifar10.cardinality(), reshuffle_each_iteration=True).batch(batch_size, drop_remainder=True, \n",
    "                                                                                      num_parallel_calls=tf.data.AUTOTUNE).prefetch(tf.data.AUTOTUNE)\n",
    "cifar10 = strategy.experimental_distribute_dataset(cifar10)"
   ]
  },
  {
   "cell_type": "markdown",
   "id": "92bc7c57",
   "metadata": {
    "papermill": {
     "duration": 0.025766,
     "end_time": "2024-05-13T16:24:28.308071",
     "exception": false,
     "start_time": "2024-05-13T16:24:28.282305",
     "status": "completed"
    },
    "tags": []
   },
   "source": [
    "# Create Generator and Discriminator"
   ]
  },
  {
   "cell_type": "code",
   "execution_count": 13,
   "id": "40940d6f",
   "metadata": {
    "execution": {
     "iopub.execute_input": "2024-05-13T16:24:28.360626Z",
     "iopub.status.busy": "2024-05-13T16:24:28.360292Z",
     "iopub.status.idle": "2024-05-13T16:24:28.370375Z",
     "shell.execute_reply": "2024-05-13T16:24:28.369648Z"
    },
    "papermill": {
     "duration": 0.038531,
     "end_time": "2024-05-13T16:24:28.372034",
     "exception": false,
     "start_time": "2024-05-13T16:24:28.333503",
     "status": "completed"
    },
    "tags": []
   },
   "outputs": [],
   "source": [
    "r = 128;  # size of latent space\n",
    "\n",
    "def create_generator(gen_input_shape=(r,), gen_param={'activation': 'relu', 'kernel_initializer': initializers.HeNormal, 'kernel_regularizer': None},\n",
    "                    gen_skip_param={'kernel_initializer': initializers.HeNormal}):\n",
    "    return models.Sequential([layers.Input(shape=gen_input_shape),\n",
    "                              layers.Dense(4*4*r, kernel_initializer=gen_param['kernel_initializer']),\n",
    "                              layers.Reshape((4, 4, r)),\n",
    "                              layers.BatchNormalization(),\n",
    "                              layers.Activation(gen_param['activation']),\n",
    "                              ResidualBlock(128, skip='up', disc=False, param=gen_param.copy(), skip_param=gen_skip_param.copy()),\n",
    "                              ResidualBlock(128, skip='up', disc=False, param=gen_param.copy(), skip_param=gen_skip_param.copy()),\n",
    "                              ResidualBlock(128, skip='up', disc=False, param=gen_param.copy(), skip_param=gen_skip_param.copy()),\n",
    "                              layers.Conv2D(1, (3,3), (1,1), 'same', kernel_initializer=gen_param['kernel_initializer'], activation='tanh', dtype='float32')\n",
    "                             ])\n",
    "\n",
    "def create_critic(critic_input_shape=(32,32,1), critic_param={'activation': 'relu', 'kernel_initializer': initializers.HeNormal, 'kernel_regularizer': None},\n",
    "                 critic_skip_param={'kernel_initializer': initializers.HeNormal}): \n",
    "    return models.Sequential([layers.Input(shape=critic_input_shape),\n",
    "                              #layers.GaussianNoise(0.1, dtype='float32'), # add instance noise, only accepts tf.float32 inputs\n",
    "                              ResidualBlock(128, skip='down', disc=True, param=critic_param.copy(), skip_param=critic_skip_param.copy()),\n",
    "                              #layers.GaussianNoise(0.1, dtype='float32'), # add instance noise\n",
    "                              ResidualBlock(128, skip='down', disc=True, param=critic_param.copy(), skip_param=critic_skip_param.copy()),\n",
    "                              #layers.GaussianNoise(0.1, dtype='float32'), # add instance noise\n",
    "                              ResidualBlock(128, skip='linear', disc=True, param=critic_param.copy(), skip_param=critic_skip_param.copy()),\n",
    "                              #layers.GaussianNoise(0.1, dtype='float32'), # add instance noise\n",
    "                              ResidualBlock(128, skip='linear', disc=True, param=critic_param.copy(), skip_param=critic_skip_param.copy()),\n",
    "                              layers.GlobalAveragePooling2D(),\n",
    "                              #layers.Dropout(0.4),\n",
    "                              layers.Dense(1, activation='linear', kernel_initializer=critic_param['kernel_initializer'], dtype='float32')\n",
    "                             ])"
   ]
  },
  {
   "cell_type": "markdown",
   "id": "1a8bd70d",
   "metadata": {
    "papermill": {
     "duration": 0.025812,
     "end_time": "2024-05-13T16:24:28.424107",
     "exception": false,
     "start_time": "2024-05-13T16:24:28.398295",
     "status": "completed"
    },
    "tags": []
   },
   "source": [
    "# Gradient Penalty, Generator and Discriminator losses"
   ]
  },
  {
   "cell_type": "code",
   "execution_count": 14,
   "id": "d26d8f4c",
   "metadata": {
    "execution": {
     "iopub.execute_input": "2024-05-13T16:24:28.477201Z",
     "iopub.status.busy": "2024-05-13T16:24:28.476857Z",
     "iopub.status.idle": "2024-05-13T16:24:28.485915Z",
     "shell.execute_reply": "2024-05-13T16:24:28.484938Z"
    },
    "papermill": {
     "duration": 0.038429,
     "end_time": "2024-05-13T16:24:28.487817",
     "exception": false,
     "start_time": "2024-05-13T16:24:28.449388",
     "status": "completed"
    },
    "tags": []
   },
   "outputs": [],
   "source": [
    "with strategy.scope():\n",
    "    @tf.function\n",
    "    def calculate_critic_loss(real_output, fake_output): # wants to increase the distance between the two distributions\n",
    "        return fake_output - real_output\n",
    "\n",
    "    @tf.function\n",
    "    def calculate_generator_loss(fake_output): # wants to decrease the distance between the two distributions\n",
    "        return -fake_output\n",
    "\n",
    "    @tf.function\n",
    "    def calculate_gradient_penalty(real_output, fake_output, coeff=10.0): # wants to keep the norm of the gradient as close to 1 as possible\n",
    "        epsilon = tf.random.uniform([real_output.shape[0], 1, 1, 1], 0.0, 1.0)\n",
    "        x_hat = epsilon*real_output + (1 - epsilon)*fake_output # epsilon*x + (1-epsilon)*~x\n",
    "        with tf.GradientTape() as tape:\n",
    "                tape.watch(x_hat)\n",
    "                pred = critic(x_hat, training=True)\n",
    "        gp = tape.gradient(pred, x_hat) # shape = (batch_size, img_h, img_w, n_channels)\n",
    "        gp = tf.math.sqrt(tf.math.reduce_sum(tf.math.square(gp), axis=(1,2,3)) + tf.keras.backend.epsilon()) # added backend.epsilon() for numerical stability (gradient of sqrt(x) nears infinity when x -> 0)\n",
    "        return coeff*tf.math.square(gp - 1.0)"
   ]
  },
  {
   "cell_type": "markdown",
   "id": "7412c781",
   "metadata": {
    "papermill": {
     "duration": 0.026199,
     "end_time": "2024-05-13T16:24:28.539730",
     "exception": false,
     "start_time": "2024-05-13T16:24:28.513531",
     "status": "completed"
    },
    "tags": []
   },
   "source": [
    "# Training steps"
   ]
  },
  {
   "cell_type": "code",
   "execution_count": 15,
   "id": "cf7f79d1",
   "metadata": {
    "execution": {
     "iopub.execute_input": "2024-05-13T16:24:28.593329Z",
     "iopub.status.busy": "2024-05-13T16:24:28.592583Z",
     "iopub.status.idle": "2024-05-13T16:24:28.604494Z",
     "shell.execute_reply": "2024-05-13T16:24:28.603605Z"
    },
    "papermill": {
     "duration": 0.040312,
     "end_time": "2024-05-13T16:24:28.606236",
     "exception": false,
     "start_time": "2024-05-13T16:24:28.565924",
     "status": "completed"
    },
    "tags": []
   },
   "outputs": [],
   "source": [
    "with strategy.scope():\n",
    "    @tf.function\n",
    "    def train_step(real_images, n_critic=5):\n",
    "        c_loss = 0.0; gp_loss = 0.0\n",
    "        batch_size = real_images.shape[0] # not to be confused with the batch_size at the start of this notebook\n",
    "        # IMPORTANT NOTE TO SELF: Using control flow loops may trigger 'merge_call' errors (depends on the strategy and on the looping condition)\n",
    "        # INCORRECT: for  i in tf.range(int) | CORRECT: for i in range(int) -> Let Autograph take care of things!\n",
    "        for i in range(n_critic): \n",
    "            with tf.GradientTape() as tape:\n",
    "                noise = tf.random.normal([batch_size, r])\n",
    "                generated_images = generator(noise, training=True) # IMPORTANT NOTE TO SELF: TRAINING=TRUE FOR BOTH MODELS!!!! Even when they're not the ones being currently trained!\n",
    "                fake_output = critic(generated_images, training=True)\n",
    "                real_output = critic(real_images, training=True)\n",
    "\n",
    "                critic_loss = calculate_critic_loss(real_output, fake_output)\n",
    "                critic_loss = tf.nn.compute_average_loss(critic_loss)\n",
    "                \n",
    "                reg_loss_critic = critic.losses\n",
    "                if reg_loss_critic: critic_loss = critic_loss + tf.nn.scale_regularization_loss(tf.add_n(reg_loss_critic))\n",
    "\n",
    "                gradient_penalty = calculate_gradient_penalty(real_images, generated_images)\n",
    "                gradient_penalty = tf.nn.compute_average_loss(gradient_penalty)\n",
    "                critic_loss =  critic_loss + gradient_penalty\n",
    "\n",
    "            gradients_of_critic = tape.gradient(critic_loss, critic.trainable_variables)\n",
    "            critic_optimizer.apply_gradients(zip(gradients_of_critic, critic.trainable_variables))\n",
    "            c_loss = c_loss + critic_loss - gradient_penalty; gp_loss = gp_loss + gradient_penalty\n",
    "\n",
    "        with tf.GradientTape() as tape:\n",
    "            noise = tf.random.normal([batch_size, r])\n",
    "            generated_images = generator(noise, training=True)\n",
    "            fake_output = critic(generated_images, training=True)\n",
    "\n",
    "            gen_loss = calculate_generator_loss(fake_output)\n",
    "            gen_loss = tf.nn.compute_average_loss(gen_loss)\n",
    "            reg_loss_gen = generator.losses\n",
    "            if reg_loss_gen: gen_loss = gen_loss + tf.nn.scale_regularization_loss(tf.add_n(reg_loss_gen))\n",
    "\n",
    "        gradients_of_generator = tape.gradient(gen_loss, generator.trainable_variables)\n",
    "        generator_optimizer.apply_gradients(zip(gradients_of_generator, generator.trainable_variables))\n",
    "\n",
    "        c_loss = c_loss/tf.cast(n_critic, c_loss.dtype); gp_loss = gp_loss/tf.cast(n_critic, gp_loss.dtype) # keeps track of average loss when n_critic > 1\n",
    "        return gen_loss, c_loss, gp_loss\n",
    "\n",
    "    @tf.function\n",
    "    def dist_step(batch, n_critic=5):\n",
    "        gen_loss, c_loss, gp_loss = strategy.run(train_step, args=(batch, n_critic))\n",
    "        return [strategy.reduce('sum', gen_loss, axis=None), \n",
    "                strategy.reduce('sum', c_loss, axis=None),\n",
    "                strategy.reduce('sum', gp_loss, axis=None)]"
   ]
  },
  {
   "cell_type": "markdown",
   "id": "354dbd24",
   "metadata": {
    "papermill": {
     "duration": 0.02514,
     "end_time": "2024-05-13T16:24:28.657015",
     "exception": false,
     "start_time": "2024-05-13T16:24:28.631875",
     "status": "completed"
    },
    "tags": []
   },
   "source": [
    "# Training loop"
   ]
  },
  {
   "cell_type": "code",
   "execution_count": 16,
   "id": "4e06c898",
   "metadata": {
    "execution": {
     "iopub.execute_input": "2024-05-13T16:24:28.708751Z",
     "iopub.status.busy": "2024-05-13T16:24:28.708451Z",
     "iopub.status.idle": "2024-05-13T16:24:28.713745Z",
     "shell.execute_reply": "2024-05-13T16:24:28.713084Z"
    },
    "papermill": {
     "duration": 0.033034,
     "end_time": "2024-05-13T16:24:28.715335",
     "exception": false,
     "start_time": "2024-05-13T16:24:28.682301",
     "status": "completed"
    },
    "tags": []
   },
   "outputs": [],
   "source": [
    "def plot_examples(samples, save=False, save_fig_only=False, filename='example.png'):\n",
    "    if save_fig_only: plt.ioff()\n",
    "    fig, ax = plt.subplots(3,3, figsize=(10,10))\n",
    "    if samples.dtype != 'uint8': samples = ((samples+1)*127.5).astype('uint8')\n",
    "    for i in range(9):\n",
    "        ax.ravel()[i].imshow(samples[i])\n",
    "        ax.ravel()[i].axis('off')\n",
    "    if save: plt.savefig(filename, dpi=300)\n",
    "    if not save_fig_only: plt.show()\n",
    "    plt.close()"
   ]
  },
  {
   "cell_type": "code",
   "execution_count": 17,
   "id": "4e8ae1b0",
   "metadata": {
    "execution": {
     "iopub.execute_input": "2024-05-13T16:24:28.767176Z",
     "iopub.status.busy": "2024-05-13T16:24:28.766861Z",
     "iopub.status.idle": "2024-05-13T16:24:28.774216Z",
     "shell.execute_reply": "2024-05-13T16:24:28.773387Z"
    },
    "papermill": {
     "duration": 0.035329,
     "end_time": "2024-05-13T16:24:28.775792",
     "exception": false,
     "start_time": "2024-05-13T16:24:28.740463",
     "status": "completed"
    },
    "scrolled": true,
    "tags": []
   },
   "outputs": [],
   "source": [
    "def train(dataset, epochs=max_epochs, n_critic=5, plot_every=50, save_model_every=50, save_fig=True, save_fig_only=True, show_progress=True, progbar_tracker=['generator_loss', 'critic_loss', 'gradient_penalty']):\n",
    "    test_noise = tf.random.normal([9, r])\n",
    "    history = []\n",
    "    ds_card = dataset.cardinality\n",
    "\n",
    "    for epoch in range(epochs):\n",
    "        epoch += 1\n",
    "\n",
    "        if show_progress: \n",
    "            print(f'\\nEpoch {epoch}/{epochs}')\n",
    "            progbar = utils.Progbar(ds_card)\n",
    "            \n",
    "        for i, batch in enumerate(dataset):\n",
    "            i += 1\n",
    "            losses = dist_step(batch, n_critic)\n",
    "            if show_progress: progbar.update(i, values=zip(progbar_tracker, losses))   \n",
    "        history.append(losses)\n",
    "\n",
    "        if type(plot_every) is int:\n",
    "            if epoch%plot_every == 0: plot_examples(np.squeeze(generator(test_noise, training=False).numpy()), \n",
    "                                                                      save_fig, save_fig_only, f'Examples/epoch#{epoch}.png')\n",
    "                \n",
    "        if type(save_model_every) is int:\n",
    "            if epoch%save_model_every == 0:\n",
    "                generator.save_weights(generator_weights.replace('.weights.h5', f'epoch#{epoch}.weights.h5'))\n",
    "                critic.save_weights(generator_weights.replace('.weights.h5', f'epoch#{epoch}.weights.h5'))              \n",
    "\n",
    "    return history"
   ]
  },
  {
   "cell_type": "code",
   "execution_count": 18,
   "id": "11538d3e",
   "metadata": {
    "execution": {
     "iopub.execute_input": "2024-05-13T16:24:28.829290Z",
     "iopub.status.busy": "2024-05-13T16:24:28.829012Z",
     "iopub.status.idle": "2024-05-13T19:12:12.439304Z",
     "shell.execute_reply": "2024-05-13T19:12:12.437912Z"
    },
    "papermill": {
     "duration": 10063.640469,
     "end_time": "2024-05-13T19:12:12.441770",
     "exception": false,
     "start_time": "2024-05-13T16:24:28.801301",
     "status": "completed"
    },
    "tags": []
   },
   "outputs": [
    {
     "name": "stderr",
     "output_type": "stream",
     "text": [
      "WARNING: All log messages before absl::InitializeLog() is called are written to STDERR\n",
      "I0000 00:00:1715617471.117232      77 device_compiler.h:186] Compiled cluster using XLA!  This line is logged at most once for the lifetime of the process.\n"
     ]
    },
    {
     "name": "stderr",
     "output_type": "stream",
     "text": [
      "2024-05-13 16:24:33.521494: E external/local_xla/xla/stream_executor/stream_executor_internal.h:177] SetPriority unimplemented for this stream.\n",
      "2024-05-13 16:24:33.545922: E external/local_xla/xla/stream_executor/stream_executor_internal.h:177] SetPriority unimplemented for this stream.\n",
      "2024-05-13 16:24:33.569787: E external/local_xla/xla/stream_executor/stream_executor_internal.h:177] SetPriority unimplemented for this stream.\n",
      "2024-05-13 16:24:33.601354: E external/local_xla/xla/stream_executor/stream_executor_internal.h:177] SetPriority unimplemented for this stream.\n",
      "2024-05-13 16:24:33.625324: E external/local_xla/xla/stream_executor/stream_executor_internal.h:177] SetPriority unimplemented for this stream.\n",
      "2024-05-13 16:24:33.650426: E external/local_xla/xla/stream_executor/stream_executor_internal.h:177] SetPriority unimplemented for this stream.\n",
      "2024-05-13 16:24:33.674122: E external/local_xla/xla/stream_executor/stream_executor_internal.h:177] SetPriority unimplemented for this stream.\n",
      "2024-05-13 16:24:33.697521: E external/local_xla/xla/stream_executor/stream_executor_internal.h:177] SetPriority unimplemented for this stream.\n"
     ]
    },
    {
     "name": "stderr",
     "output_type": "stream",
     "text": [
      "2024-05-13 16:24:41.961813: E tensorflow/core/grappler/optimizers/meta_optimizer.cc:961] model_pruner failed: INVALID_ARGUMENT: Graph does not contain terminal node StatefulPartitionedCall.\n"
     ]
    },
    {
     "name": "stderr",
     "output_type": "stream",
     "text": [
      "2024-05-13 16:25:04.156616: E external/local_xla/xla/stream_executor/stream_executor_internal.h:177] SetPriority unimplemented for this stream.\n",
      "2024-05-13 16:25:04.156987: E external/local_xla/xla/stream_executor/stream_executor_internal.h:177] SetPriority unimplemented for this stream.\n",
      "2024-05-13 16:25:04.157150: E external/local_xla/xla/stream_executor/stream_executor_internal.h:177] SetPriority unimplemented for this stream.\n",
      "2024-05-13 16:25:04.161231: E external/local_xla/xla/stream_executor/stream_executor_internal.h:177] SetPriority unimplemented for this stream.\n",
      "2024-05-13 16:25:04.164274: E external/local_xla/xla/stream_executor/stream_executor_internal.h:177] SetPriority unimplemented for this stream.\n",
      "2024-05-13 16:25:04.178549: E external/local_xla/xla/stream_executor/stream_executor_internal.h:177] SetPriority unimplemented for this stream.\n",
      "2024-05-13 16:25:04.179918: E external/local_xla/xla/stream_executor/stream_executor_internal.h:177] SetPriority unimplemented for this stream.\n",
      "2024-05-13 16:25:04.181212: E external/local_xla/xla/stream_executor/stream_executor_internal.h:177] SetPriority unimplemented for this stream.\n",
      "2024-05-13 16:25:04.203438: E external/local_xla/xla/stream_executor/stream_executor_internal.h:177] SetPriority unimplemented for this stream.\n",
      "2024-05-13 16:25:04.203688: E external/local_xla/xla/stream_executor/stream_executor_internal.h:177] SetPriority unimplemented for this stream.\n",
      "2024-05-13 16:25:04.203920: E external/local_xla/xla/stream_executor/stream_executor_internal.h:177] SetPriority unimplemented for this stream.\n",
      "2024-05-13 16:25:04.204109: E external/local_xla/xla/stream_executor/stream_executor_internal.h:177] SetPriority unimplemented for this stream.\n",
      "2024-05-13 16:25:04.204316: E external/local_xla/xla/stream_executor/stream_executor_internal.h:177] SetPriority unimplemented for this stream.\n",
      "2024-05-13 16:25:04.204613: E external/local_xla/xla/stream_executor/stream_executor_internal.h:177] SetPriority unimplemented for this stream.\n",
      "2024-05-13 16:25:04.204900: E external/local_xla/xla/stream_executor/stream_executor_internal.h:177] SetPriority unimplemented for this stream.\n",
      "2024-05-13 16:25:04.205122: E external/local_xla/xla/stream_executor/stream_executor_internal.h:177] SetPriority unimplemented for this stream.\n",
      "2024-05-13 16:25:04.205344: E external/local_xla/xla/stream_executor/stream_executor_internal.h:177] SetPriority unimplemented for this stream.\n",
      "2024-05-13 16:25:04.205609: E external/local_xla/xla/stream_executor/stream_executor_internal.h:177] SetPriority unimplemented for this stream.\n",
      "2024-05-13 16:25:04.205931: E external/local_xla/xla/stream_executor/stream_executor_internal.h:177] SetPriority unimplemented for this stream.\n",
      "2024-05-13 16:25:04.206140: E external/local_xla/xla/stream_executor/stream_executor_internal.h:177] SetPriority unimplemented for this stream.\n",
      "2024-05-13 16:25:04.206387: E external/local_xla/xla/stream_executor/stream_executor_internal.h:177] SetPriority unimplemented for this stream.\n",
      "2024-05-13 16:25:04.206700: E external/local_xla/xla/stream_executor/stream_executor_internal.h:177] SetPriority unimplemented for this stream.\n",
      "2024-05-13 16:25:04.206927: E external/local_xla/xla/stream_executor/stream_executor_internal.h:177] SetPriority unimplemented for this stream.\n",
      "2024-05-13 16:25:04.207125: E external/local_xla/xla/stream_executor/stream_executor_internal.h:177] SetPriority unimplemented for this stream.\n"
     ]
    },
    {
     "name": "stderr",
     "output_type": "stream",
     "text": [
      "2024-05-13 17:17:25.272158: E external/local_xla/xla/stream_executor/stream_executor_internal.h:177] SetPriority unimplemented for this stream.\n"
     ]
    },
    {
     "name": "stderr",
     "output_type": "stream",
     "text": [
      "2024-05-13 17:45:59.314975: E external/local_xla/xla/stream_executor/stream_executor_internal.h:177] SetPriority unimplemented for this stream.\n"
     ]
    },
    {
     "name": "stderr",
     "output_type": "stream",
     "text": [
      "2024-05-13 18:20:58.407795: E external/local_xla/xla/stream_executor/stream_executor_internal.h:177] SetPriority unimplemented for this stream.\n"
     ]
    },
    {
     "name": "stderr",
     "output_type": "stream",
     "text": [
      "2024-05-13 18:27:55.282129: E external/local_xla/xla/stream_executor/stream_executor_internal.h:177] SetPriority unimplemented for this stream.\n"
     ]
    },
    {
     "name": "stderr",
     "output_type": "stream",
     "text": [
      "2024-05-13 18:29:35.609976: E external/local_xla/xla/stream_executor/stream_executor_internal.h:177] SetPriority unimplemented for this stream.\n"
     ]
    },
    {
     "name": "stderr",
     "output_type": "stream",
     "text": [
      "2024-05-13 18:30:35.884550: E external/local_xla/xla/stream_executor/stream_executor_internal.h:177] SetPriority unimplemented for this stream.\n"
     ]
    },
    {
     "name": "stderr",
     "output_type": "stream",
     "text": [
      "2024-05-13 18:31:51.578857: E external/local_xla/xla/stream_executor/stream_executor_internal.h:177] SetPriority unimplemented for this stream.\n"
     ]
    },
    {
     "name": "stderr",
     "output_type": "stream",
     "text": [
      "2024-05-13 18:53:02.880089: E external/local_xla/xla/stream_executor/stream_executor_internal.h:177] SetPriority unimplemented for this stream.\n"
     ]
    }
   ],
   "source": [
    "# IMPORTANT NOTE TO SELF: re-running the same cell without clearing the tf session/re-running the other training functions (steps) will mess up with training.\n",
    "# TF will retain the old variables, as seen in the U-Net notebook, it is safer to subclass the Model class\n",
    "with strategy.scope(): \n",
    "    generator = create_generator()\n",
    "    critic = create_critic()\n",
    "    \n",
    "    generator_optimizer = optimizers.Adam(0.0001, epsilon=backend.epsilon(), beta_1=0.0, beta_2=0.9)\n",
    "    critic_optimizer = optimizers.Adam(0.0001, epsilon=backend.epsilon(), beta_1=0.0, beta_2=0.9)\n",
    "    generator_optimizer.build(generator.trainable_variables)\n",
    "    critic_optimizer.build(critic.trainable_variables)\n",
    "    \n",
    "    if train_model:\n",
    "        history = train(cifar10, n_critic=5, plot_every=10, show_progress=False, save_fig=True, save_fig_only=True)\n",
    "        generator.save_weights(generator_weights); critic.save_weights(critic_weights)\n",
    "    else:\n",
    "        generator.load_weights(generator_weights); critic.load_weights(critic_weights)"
   ]
  },
  {
   "cell_type": "markdown",
   "id": "fb95f0a3",
   "metadata": {
    "papermill": {
     "duration": 0.028114,
     "end_time": "2024-05-13T19:12:12.500880",
     "exception": false,
     "start_time": "2024-05-13T19:12:12.472766",
     "status": "completed"
    },
    "tags": []
   },
   "source": [
    "# Export results"
   ]
  },
  {
   "cell_type": "code",
   "execution_count": 19,
   "id": "e619f38f",
   "metadata": {
    "execution": {
     "iopub.execute_input": "2024-05-13T19:12:12.555971Z",
     "iopub.status.busy": "2024-05-13T19:12:12.555610Z",
     "iopub.status.idle": "2024-05-13T19:12:13.120301Z",
     "shell.execute_reply": "2024-05-13T19:12:13.119291Z"
    },
    "papermill": {
     "duration": 0.595425,
     "end_time": "2024-05-13T19:12:13.122518",
     "exception": false,
     "start_time": "2024-05-13T19:12:12.527093",
     "status": "completed"
    },
    "tags": []
   },
   "outputs": [
    {
     "data": {
      "image/png": "[encoded data removed]",
      "text/plain": [
       "<Figure size 700x700 with 1 Axes>"
      ]
     },
     "metadata": {},
     "output_type": "display_data"
    }
   ],
   "source": [
    "try:\n",
    "    if train_model:\n",
    "        labels = ['Generator loss', 'Critic loss', 'Gradient Penalty loss']\n",
    "        losses_array = np.array(history, dtype=np.float32).T # [generator loss, critic loss, gradient penalty loss], (3, max_epochs) shaped matrix\n",
    "        pd.DataFrame(losses_array.T, columns=labels).to_csv('losses.txt', index=False)\n",
    "        \n",
    "        plt.close()\n",
    "        plt.figure(figsize=(7,7))\n",
    "        for i in range(3):\n",
    "            plt.plot(losses_array[i], label=labels[i])\n",
    "        plt.legend(loc='best')\n",
    "        plt.savefig('losses.png', dpi=300)\n",
    "        plt.show()\n",
    "except: pass"
   ]
  },
  {
   "cell_type": "code",
   "execution_count": 20,
   "id": "316ac19b",
   "metadata": {
    "execution": {
     "iopub.execute_input": "2024-05-13T19:12:13.179999Z",
     "iopub.status.busy": "2024-05-13T19:12:13.179674Z",
     "iopub.status.idle": "2024-05-13T19:12:41.636907Z",
     "shell.execute_reply": "2024-05-13T19:12:41.635709Z"
    },
    "papermill": {
     "duration": 28.488522,
     "end_time": "2024-05-13T19:12:41.639241",
     "exception": false,
     "start_time": "2024-05-13T19:12:13.150719",
     "status": "completed"
    },
    "tags": []
   },
   "outputs": [],
   "source": [
    "try:\n",
    "    files = os.listdir('/kaggle/working/Examples')\n",
    "    sort = np.argsort(np.array([i.split('#')[1].split('.')[0] for i in files]).astype('int32'))\n",
    "    pngs = []\n",
    "    for filename in np.array(files)[sort]:\n",
    "        if '.png' in filename: pngs.append(Image.open('/kaggle/working/Examples/'+filename))\n",
    "    pngs[0].save(\"GeneratorProgress.gif\", save_all=True, append_images=pngs[1:], duration=500)\n",
    "except: pass"
   ]
  },
  {
   "cell_type": "code",
   "execution_count": null,
   "id": "836a25c3",
   "metadata": {
    "papermill": {
     "duration": 0.029636,
     "end_time": "2024-05-13T19:12:41.699256",
     "exception": false,
     "start_time": "2024-05-13T19:12:41.669620",
     "status": "completed"
    },
    "tags": []
   },
   "outputs": [],
   "source": []
  }
 ],
 "metadata": {
  "kaggle": {
   "accelerator": "tpu1vmV38",
   "dataSources": [
    {
     "sourceId": 174214001,
     "sourceType": "kernelVersion"
    }
   ],
   "dockerImageVersionId": 30675,
   "isGpuEnabled": false,
   "isInternetEnabled": true,
   "language": "python",
   "sourceType": "notebook"
  },
  "kernelspec": {
   "display_name": "Python 3",
   "language": "python",
   "name": "python3"
  },
  "language_info": {
   "codemirror_mode": {
    "name": "ipython",
    "version": 3
   },
   "file_extension": ".py",
   "mimetype": "text/x-python",
   "name": "python",
   "nbconvert_exporter": "python",
   "pygments_lexer": "ipython3",
   "version": "3.10.13"
  },
  "papermill": {
   "default_parameters": {},
   "duration": 10226.488968,
   "end_time": "2024-05-13T19:12:50.900384",
   "environment_variables": {},
   "exception": null,
   "input_path": "__notebook__.ipynb",
   "output_path": "__notebook__.ipynb",
   "parameters": {},
   "start_time": "2024-05-13T16:22:24.411416",
   "version": "2.5.0"
  }
 },
 "nbformat": 4,
 "nbformat_minor": 5
}
